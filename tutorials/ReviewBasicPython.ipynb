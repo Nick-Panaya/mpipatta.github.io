{
  "nbformat": 4,
  "nbformat_minor": 0,
  "metadata": {
    "colab": {
      "name": "Day1(a)-ReviewBasicPython.ipynb",
      "provenance": []
    },
    "kernelspec": {
      "name": "python3",
      "display_name": "Python 3"
    }
  },
  "cells": [
    {
      "cell_type": "markdown",
      "metadata": {
        "id": "GpRdYgdcnXLO",
        "colab_type": "text"
      },
      "source": [
        "#**Review Basic Python**\n",
        "\n",
        "***Prepared by:*** [**Manisa Pipattanasomporn**](https://mpipatta.github.io)\n",
        "\n",
        "*Created: December 31, 2019 (updated: Jan 16, 2020)*\n",
        "\n",
        "Python is powerful to handle time series data. In this notebook, we will review commonly used Python codes/libraries for data analytics, including:\n",
        "* Basic (operation, index, list, if/else/for/while, append, function, split)\n",
        "* Numpy (array, index, operations)\n",
        "* Pandas (series, dataframe, missing data, merging, joining, concastenating)\n",
        "* Data input/output\n",
        "* Matplotlib\n",
        "\n",
        "\n",
        "\n",
        "\n",
        "---\n",
        "\n"
      ]
    },
    {
      "cell_type": "markdown",
      "metadata": {
        "id": "qtx5IrUESjIu",
        "colab_type": "text"
      },
      "source": [
        "# **0.0 Basic Python**\n",
        "Let us review basic Python operations.\n",
        "\n",
        "\n"
      ]
    },
    {
      "cell_type": "markdown",
      "metadata": {
        "id": "9eubGrDUTi6Z",
        "colab_type": "text"
      },
      "source": [
        "### **0.1 Basic Operations**"
      ]
    },
    {
      "cell_type": "code",
      "metadata": {
        "id": "a8ZqqN_qSnqS",
        "colab_type": "code",
        "colab": {}
      },
      "source": [
        "1+1     #addition int\n",
        "1.0+1.0 #addition float\n",
        "1*3     #multiplication\n",
        "10/3    #division\n",
        "10//3   #truncation division\n",
        "2**4    #power\n",
        "2+3*5+5 #order of operation\n",
        "10%3    #modulo"
      ],
      "execution_count": 0,
      "outputs": []
    },
    {
      "cell_type": "code",
      "metadata": {
        "id": "c9AqnJ-4TpGZ",
        "colab_type": "code",
        "colab": {}
      },
      "source": [
        "#understand string in Python\n",
        "'this is string'\n",
        "\"this is also string\"\n",
        "\"i can't go\""
      ],
      "execution_count": 0,
      "outputs": []
    },
    {
      "cell_type": "code",
      "metadata": {
        "id": "5rgFJUeITu-p",
        "colab_type": "code",
        "colab": {}
      },
      "source": [
        "#Type\n",
        "x='hello'\n",
        "type(x)\n",
        "\n",
        "a=3\n",
        "type(a)\n",
        "\n",
        "a=3.0\n",
        "type(a)"
      ],
      "execution_count": 0,
      "outputs": []
    },
    {
      "cell_type": "markdown",
      "metadata": {
        "id": "1ULPcXe5USiN",
        "colab_type": "text"
      },
      "source": [
        "### **0.2 Index, list, dictionary**"
      ]
    },
    {
      "cell_type": "markdown",
      "metadata": {
        "id": "aPc8qiUxGPBC",
        "colab_type": "text"
      },
      "source": [
        "#####**(a) String**"
      ]
    },
    {
      "cell_type": "code",
      "metadata": {
        "id": "ZXudqJJIDSj_",
        "colab_type": "code",
        "colab": {}
      },
      "source": [
        "x='hello, my name is Alice.'"
      ],
      "execution_count": 0,
      "outputs": []
    },
    {
      "cell_type": "code",
      "metadata": {
        "colab_type": "code",
        "outputId": "da7c3547-b886-47d1-fdfc-82eacb1afb95",
        "id": "9jWoUScXef6B",
        "colab": {
          "base_uri": "https://localhost:8080/",
          "height": 34
        }
      },
      "source": [
        "x[:5]"
      ],
      "execution_count": 0,
      "outputs": [
        {
          "output_type": "execute_result",
          "data": {
            "text/plain": [
              "'hello'"
            ]
          },
          "metadata": {
            "tags": []
          },
          "execution_count": 131
        }
      ]
    },
    {
      "cell_type": "code",
      "metadata": {
        "colab_type": "code",
        "outputId": "b5008380-349f-4b0e-f477-09c4206d43dc",
        "id": "qkUl-BA0efbM",
        "colab": {
          "base_uri": "https://localhost:8080/",
          "height": 34
        }
      },
      "source": [
        "x[5:6]"
      ],
      "execution_count": 0,
      "outputs": [
        {
          "output_type": "execute_result",
          "data": {
            "text/plain": [
              "','"
            ]
          },
          "metadata": {
            "tags": []
          },
          "execution_count": 132
        }
      ]
    },
    {
      "cell_type": "code",
      "metadata": {
        "colab_type": "code",
        "outputId": "b9419a3d-b169-4478-f2cc-d70eefad068f",
        "id": "qBjbiGU5efAG",
        "colab": {
          "base_uri": "https://localhost:8080/",
          "height": 34
        }
      },
      "source": [
        "x[6:]"
      ],
      "execution_count": 0,
      "outputs": [
        {
          "output_type": "execute_result",
          "data": {
            "text/plain": [
              "' my name is Alice.'"
            ]
          },
          "metadata": {
            "tags": []
          },
          "execution_count": 133
        }
      ]
    },
    {
      "cell_type": "markdown",
      "metadata": {
        "id": "-IbkCs9LGUkW",
        "colab_type": "text"
      },
      "source": [
        "#####**(b) List**"
      ]
    },
    {
      "cell_type": "code",
      "metadata": {
        "id": "VVCPqCi5Up6w",
        "colab_type": "code",
        "outputId": "85776880-90ab-4f99-f645-0639ab18a872",
        "colab": {
          "base_uri": "https://localhost:8080/",
          "height": 34
        }
      },
      "source": [
        "mylist =['a','b','c']\n",
        "mylist"
      ],
      "execution_count": 0,
      "outputs": [
        {
          "output_type": "execute_result",
          "data": {
            "text/plain": [
              "['a', 'b', 'c']"
            ]
          },
          "metadata": {
            "tags": []
          },
          "execution_count": 11
        }
      ]
    },
    {
      "cell_type": "code",
      "metadata": {
        "id": "qoc1Ug8-Uu3v",
        "colab_type": "code",
        "outputId": "654511f3-9d6a-40a4-a8b2-6c6ce42b91e7",
        "colab": {
          "base_uri": "https://localhost:8080/",
          "height": 34
        }
      },
      "source": [
        "mylist[0]"
      ],
      "execution_count": 0,
      "outputs": [
        {
          "output_type": "execute_result",
          "data": {
            "text/plain": [
              "'a'"
            ]
          },
          "metadata": {
            "tags": []
          },
          "execution_count": 12
        }
      ]
    },
    {
      "cell_type": "code",
      "metadata": {
        "id": "BpuZtfTsUwtN",
        "colab_type": "code",
        "outputId": "e68f01b8-cfd3-498e-8308-0ba6acc2fd8b",
        "colab": {
          "base_uri": "https://localhost:8080/",
          "height": 34
        }
      },
      "source": [
        "mylist.append('d')\n",
        "mylist"
      ],
      "execution_count": 0,
      "outputs": [
        {
          "output_type": "execute_result",
          "data": {
            "text/plain": [
              "['a', 'b', 'c', 'd']"
            ]
          },
          "metadata": {
            "tags": []
          },
          "execution_count": 13
        }
      ]
    },
    {
      "cell_type": "markdown",
      "metadata": {
        "id": "AIP78d9ZGbS8",
        "colab_type": "text"
      },
      "source": [
        "#####**(c) Dictionary**"
      ]
    },
    {
      "cell_type": "code",
      "metadata": {
        "id": "V5lt6AL5TvHX",
        "colab_type": "code",
        "outputId": "48216122-172a-4433-998c-9c3b52bb371e",
        "colab": {
          "base_uri": "https://localhost:8080/",
          "height": 34
        }
      },
      "source": [
        "d = {'key1':'value',\n",
        "     'key2':123,\n",
        "     'key3':[1,2,3]}\n",
        "d"
      ],
      "execution_count": 0,
      "outputs": [
        {
          "output_type": "execute_result",
          "data": {
            "text/plain": [
              "{'key1': 'value', 'key2': 123, 'key3': [1, 2, 3]}"
            ]
          },
          "metadata": {
            "tags": []
          },
          "execution_count": 14
        }
      ]
    },
    {
      "cell_type": "code",
      "metadata": {
        "id": "6uGmqTTtUhut",
        "colab_type": "code",
        "outputId": "c9c560a7-4838-4828-f3e9-445c3bf33be4",
        "colab": {
          "base_uri": "https://localhost:8080/",
          "height": 34
        }
      },
      "source": [
        "d['key2']"
      ],
      "execution_count": 0,
      "outputs": [
        {
          "output_type": "execute_result",
          "data": {
            "text/plain": [
              "123"
            ]
          },
          "metadata": {
            "tags": []
          },
          "execution_count": 19
        }
      ]
    },
    {
      "cell_type": "code",
      "metadata": {
        "id": "LHvatAhmUkdV",
        "colab_type": "code",
        "outputId": "2b588220-3087-477e-89bd-c84101c3b6a0",
        "colab": {
          "base_uri": "https://localhost:8080/",
          "height": 34
        }
      },
      "source": [
        "d['key3'][1]"
      ],
      "execution_count": 0,
      "outputs": [
        {
          "output_type": "execute_result",
          "data": {
            "text/plain": [
              "2"
            ]
          },
          "metadata": {
            "tags": []
          },
          "execution_count": 20
        }
      ]
    },
    {
      "cell_type": "markdown",
      "metadata": {
        "id": "m4C-N7HyU6kQ",
        "colab_type": "text"
      },
      "source": [
        "### **0.3 Comparison operators, if/else/for/while**"
      ]
    },
    {
      "cell_type": "markdown",
      "metadata": {
        "id": "jJgT1LAgHNdw",
        "colab_type": "text"
      },
      "source": [
        "#####**(a) Comparison operators**"
      ]
    },
    {
      "cell_type": "code",
      "metadata": {
        "id": "NqnU1zqFVB61",
        "colab_type": "code",
        "colab": {}
      },
      "source": [
        "1==2\n",
        "1>2\n",
        "2<3\n",
        "1!=2\n",
        "(1<2) and (2<3)\n",
        "(1>2) or (2<3)"
      ],
      "execution_count": 0,
      "outputs": []
    },
    {
      "cell_type": "markdown",
      "metadata": {
        "id": "MAzoUCYyHS0P",
        "colab_type": "text"
      },
      "source": [
        "#####**(b) if/else**"
      ]
    },
    {
      "cell_type": "code",
      "metadata": {
        "id": "hJrUWLmlVRbD",
        "colab_type": "code",
        "outputId": "07c07fb4-d251-40f1-c09c-49eeb5f3fe1d",
        "colab": {
          "base_uri": "https://localhost:8080/",
          "height": 35
        }
      },
      "source": [
        "a = 40\n",
        "if (a>100):\n",
        "  print('high')\n",
        "elif (a<30):\n",
        "  print('low')\n",
        "else:\n",
        "  print('medium')"
      ],
      "execution_count": 0,
      "outputs": [
        {
          "output_type": "stream",
          "text": [
            "medium\n"
          ],
          "name": "stdout"
        }
      ]
    },
    {
      "cell_type": "code",
      "metadata": {
        "id": "Y0vmjDf6VUzR",
        "colab_type": "code",
        "outputId": "4739ba91-6347-4abf-fa65-2be644872ee0",
        "colab": {
          "base_uri": "https://localhost:8080/",
          "height": 35
        }
      },
      "source": [
        "if True:\n",
        "  print('perform code')"
      ],
      "execution_count": 0,
      "outputs": [
        {
          "output_type": "stream",
          "text": [
            "perform code\n"
          ],
          "name": "stdout"
        }
      ]
    },
    {
      "cell_type": "markdown",
      "metadata": {
        "id": "4OAuSkxeHZ1y",
        "colab_type": "text"
      },
      "source": [
        "#####**(c) for/while**"
      ]
    },
    {
      "cell_type": "code",
      "metadata": {
        "id": "fMYFmPyhVU9J",
        "colab_type": "code",
        "outputId": "5529ac2e-9ef0-470c-b96e-c6a7f9ea027b",
        "colab": {
          "base_uri": "https://localhost:8080/",
          "height": 104
        }
      },
      "source": [
        "seq = [1,2,3,4,5]\n",
        "for i in seq:\n",
        "  print(i)"
      ],
      "execution_count": 0,
      "outputs": [
        {
          "output_type": "stream",
          "text": [
            "1\n",
            "2\n",
            "3\n",
            "4\n",
            "5\n"
          ],
          "name": "stdout"
        }
      ]
    },
    {
      "cell_type": "code",
      "metadata": {
        "id": "6TSep_flVRnB",
        "colab_type": "code",
        "outputId": "884a3c76-908d-4fc5-94c4-27c60b689432",
        "colab": {
          "base_uri": "https://localhost:8080/",
          "height": 104
        }
      },
      "source": [
        "for i in range(0,5):\n",
        "  print(i)"
      ],
      "execution_count": 0,
      "outputs": [
        {
          "output_type": "stream",
          "text": [
            "0\n",
            "1\n",
            "2\n",
            "3\n",
            "4\n"
          ],
          "name": "stdout"
        }
      ]
    },
    {
      "cell_type": "code",
      "metadata": {
        "id": "rb3rjHUjDy2h",
        "colab_type": "code",
        "outputId": "26c640a3-33e4-4a6b-c64b-f15e70d63c28",
        "colab": {
          "base_uri": "https://localhost:8080/",
          "height": 104
        }
      },
      "source": [
        "import numpy as np\n",
        "for i in np.arange(5):\n",
        "  print(i)"
      ],
      "execution_count": 0,
      "outputs": [
        {
          "output_type": "stream",
          "text": [
            "0\n",
            "1\n",
            "2\n",
            "3\n",
            "4\n"
          ],
          "name": "stdout"
        }
      ]
    },
    {
      "cell_type": "code",
      "metadata": {
        "id": "vOMvKT_GVsVm",
        "colab_type": "code",
        "outputId": "905ea073-6a91-4543-cd05-7b3a80e09aa4",
        "colab": {
          "base_uri": "https://localhost:8080/",
          "height": 104
        }
      },
      "source": [
        "i=0\n",
        "while i<5:\n",
        "  print(i)\n",
        "  i=i+1"
      ],
      "execution_count": 0,
      "outputs": [
        {
          "output_type": "stream",
          "text": [
            "0\n",
            "1\n",
            "2\n",
            "3\n",
            "4\n"
          ],
          "name": "stdout"
        }
      ]
    },
    {
      "cell_type": "markdown",
      "metadata": {
        "id": "bTJuj4SZZBMC",
        "colab_type": "text"
      },
      "source": [
        "### **0.4 Function**"
      ]
    },
    {
      "cell_type": "code",
      "metadata": {
        "id": "2wokiSI8ZSIo",
        "colab_type": "code",
        "outputId": "e1b4866f-f4e3-491a-e52f-6ff5a6be4882",
        "colab": {
          "base_uri": "https://localhost:8080/",
          "height": 34
        }
      },
      "source": [
        "def square(a):\n",
        "  return(a**2)\n",
        "  \n",
        "multiplyTwo(3)"
      ],
      "execution_count": 0,
      "outputs": [
        {
          "output_type": "execute_result",
          "data": {
            "text/plain": [
              "9"
            ]
          },
          "metadata": {
            "tags": []
          },
          "execution_count": 45
        }
      ]
    },
    {
      "cell_type": "code",
      "metadata": {
        "id": "F5MiL5gmZYW1",
        "colab_type": "code",
        "outputId": "6cd31200-e3fc-4493-8473-98c61d9fb064",
        "colab": {
          "base_uri": "https://localhost:8080/",
          "height": 34
        }
      },
      "source": [
        "def myname(name='Unknown'):\n",
        "  print('Good morning, '+name)\n",
        "\n",
        "myname('Alice')"
      ],
      "execution_count": 0,
      "outputs": [
        {
          "output_type": "stream",
          "text": [
            "Good morning, Alice\n"
          ],
          "name": "stdout"
        }
      ]
    },
    {
      "cell_type": "code",
      "metadata": {
        "id": "iO93uIloZhI8",
        "colab_type": "code",
        "outputId": "a38a4db0-0a8b-4cc5-e78a-9b49d1735fb1",
        "colab": {
          "base_uri": "https://localhost:8080/",
          "height": 34
        }
      },
      "source": [
        "myname()"
      ],
      "execution_count": 0,
      "outputs": [
        {
          "output_type": "stream",
          "text": [
            "Good morning, Unknown\n"
          ],
          "name": "stdout"
        }
      ]
    },
    {
      "cell_type": "markdown",
      "metadata": {
        "id": "JqeIF5cmZq9B",
        "colab_type": "text"
      },
      "source": [
        "### **0.5 map, lambda** "
      ]
    },
    {
      "cell_type": "code",
      "metadata": {
        "id": "qO88R9N1Zibb",
        "colab_type": "code",
        "outputId": "c06fbfd5-da5a-4bd3-d264-145810643bc5",
        "colab": {
          "base_uri": "https://localhost:8080/",
          "height": 52
        }
      },
      "source": [
        "def times2(var):\n",
        "  return var*2\n",
        "\n",
        "num=10\n",
        "seq=[1,2,3]\n",
        "print(times2(num))\n",
        "print(times2(seq))"
      ],
      "execution_count": 0,
      "outputs": [
        {
          "output_type": "stream",
          "text": [
            "20\n",
            "[1, 2, 3, 1, 2, 3]\n"
          ],
          "name": "stdout"
        }
      ]
    },
    {
      "cell_type": "code",
      "metadata": {
        "id": "z0pg_S18ZimL",
        "colab_type": "code",
        "outputId": "43a79afe-2963-4099-a4ca-59878ba253f3",
        "colab": {
          "base_uri": "https://localhost:8080/",
          "height": 34
        }
      },
      "source": [
        "#map = make an iterator that computes the function using arguments from each of the iterables\n",
        "list(map(times2,seq))"
      ],
      "execution_count": 0,
      "outputs": [
        {
          "output_type": "execute_result",
          "data": {
            "text/plain": [
              "[2, 4, 6]"
            ]
          },
          "metadata": {
            "tags": []
          },
          "execution_count": 65
        }
      ]
    },
    {
      "cell_type": "code",
      "metadata": {
        "id": "6V2JxPOFadQi",
        "colab_type": "code",
        "outputId": "ecb9c2db-fdd0-411a-dd9d-197e9dc2161b",
        "colab": {
          "base_uri": "https://localhost:8080/",
          "height": 52
        }
      },
      "source": [
        "times2 = lambda var:var*2 #lambda, a function with an input 'a', output is 'a*2'\n",
        "\n",
        "print(times2(num))\n",
        "print(times2(seq))"
      ],
      "execution_count": 0,
      "outputs": [
        {
          "output_type": "stream",
          "text": [
            "20\n",
            "[1, 2, 3, 1, 2, 3]\n"
          ],
          "name": "stdout"
        }
      ]
    },
    {
      "cell_type": "code",
      "metadata": {
        "id": "D_EUp3xUadfi",
        "colab_type": "code",
        "outputId": "e908d795-2ff1-4ef5-8760-dc0e452a7ef8",
        "colab": {
          "base_uri": "https://localhost:8080/",
          "height": 34
        }
      },
      "source": [
        "list(map(times2,seq))\n",
        "#list(map(lambda var:var*2,seq))"
      ],
      "execution_count": 0,
      "outputs": [
        {
          "output_type": "execute_result",
          "data": {
            "text/plain": [
              "[2, 4, 6]"
            ]
          },
          "metadata": {
            "tags": []
          },
          "execution_count": 78
        }
      ]
    },
    {
      "cell_type": "code",
      "metadata": {
        "id": "_E-pKvhiMR9f",
        "colab_type": "code",
        "outputId": "fa753163-2d47-46ed-de40-e761b45f114d",
        "colab": {
          "base_uri": "https://localhost:8080/",
          "height": 52
        }
      },
      "source": [
        "funcA = lambda var1,var2:var1**var2\n",
        "funcB = lambda var1,var2:var1+var2\n",
        "print(funcA(3,2))\n",
        "print(funcB(3,2))"
      ],
      "execution_count": 0,
      "outputs": [
        {
          "output_type": "stream",
          "text": [
            "9\n",
            "5\n"
          ],
          "name": "stdout"
        }
      ]
    },
    {
      "cell_type": "markdown",
      "metadata": {
        "id": "VaARp8xUif4z",
        "colab_type": "text"
      },
      "source": [
        "### **0.6 Split**"
      ]
    },
    {
      "cell_type": "code",
      "metadata": {
        "id": "RXgix8sgh630",
        "colab_type": "code",
        "outputId": "12980401-4e7e-458b-dd4e-bf5c592db37e",
        "colab": {
          "base_uri": "https://localhost:8080/",
          "height": 34
        }
      },
      "source": [
        "s = '2019-01-01 00:15'\n",
        "s.split()"
      ],
      "execution_count": 0,
      "outputs": [
        {
          "output_type": "execute_result",
          "data": {
            "text/plain": [
              "['2019-01-01', '00:15']"
            ]
          },
          "metadata": {
            "tags": []
          },
          "execution_count": 79
        }
      ]
    },
    {
      "cell_type": "code",
      "metadata": {
        "id": "5NSGFdO9iAfr",
        "colab_type": "code",
        "outputId": "c115193d-887f-4ef7-8a8c-c35248246e02",
        "colab": {
          "base_uri": "https://localhost:8080/",
          "height": 34
        }
      },
      "source": [
        "s = '2019-01-01'\n",
        "s.split('-')"
      ],
      "execution_count": 0,
      "outputs": [
        {
          "output_type": "execute_result",
          "data": {
            "text/plain": [
              "['2019', '01', '01']"
            ]
          },
          "metadata": {
            "tags": []
          },
          "execution_count": 83
        }
      ]
    },
    {
      "cell_type": "code",
      "metadata": {
        "id": "c-dAnxVYiInv",
        "colab_type": "code",
        "outputId": "58fc0814-896a-430d-f116-a2571dffc3cf",
        "colab": {
          "base_uri": "https://localhost:8080/",
          "height": 34
        }
      },
      "source": [
        "'A B C D E'.split() #useful to create header for DataFrame"
      ],
      "execution_count": 0,
      "outputs": [
        {
          "output_type": "execute_result",
          "data": {
            "text/plain": [
              "['A', 'B', 'C', 'D', 'E']"
            ]
          },
          "metadata": {
            "tags": []
          },
          "execution_count": 73
        }
      ]
    },
    {
      "cell_type": "markdown",
      "metadata": {
        "id": "fUCyyD4MBvUB",
        "colab_type": "text"
      },
      "source": [
        "\n",
        "\n",
        "---\n",
        "\n",
        "\n",
        "#**1.0 NumPy**\n",
        "\n",
        "Understand Numpy Array, indexing and numpy operations"
      ]
    },
    {
      "cell_type": "code",
      "metadata": {
        "id": "6XM2rvOX5B63",
        "colab_type": "code",
        "colab": {}
      },
      "source": [
        "import numpy as np #import numpy"
      ],
      "execution_count": 0,
      "outputs": []
    },
    {
      "cell_type": "markdown",
      "metadata": {
        "id": "iBgXiXv0jO5v",
        "colab_type": "text"
      },
      "source": [
        "###**1.1 Numpy Array**"
      ]
    },
    {
      "cell_type": "markdown",
      "metadata": {
        "id": "Rnx-ElUFcptA",
        "colab_type": "text"
      },
      "source": [
        "#####**(a) List vs Numpy Array**"
      ]
    },
    {
      "cell_type": "code",
      "metadata": {
        "id": "ZS5c1IVmi74D",
        "colab_type": "code",
        "outputId": "010e802e-6f82-48da-d931-7c7ef8d3b41b",
        "colab": {
          "base_uri": "https://localhost:8080/",
          "height": 34
        }
      },
      "source": [
        "my_list = [1,2,3] #define a list\n",
        "my_list"
      ],
      "execution_count": 0,
      "outputs": [
        {
          "output_type": "execute_result",
          "data": {
            "text/plain": [
              "[1, 2, 3]"
            ]
          },
          "metadata": {
            "tags": []
          },
          "execution_count": 86
        }
      ]
    },
    {
      "cell_type": "code",
      "metadata": {
        "id": "PUTpNJkM5Gnl",
        "colab_type": "code",
        "outputId": "977b82f5-4542-4b2d-c5d6-06644e455908",
        "colab": {
          "base_uri": "https://localhost:8080/",
          "height": 34
        }
      },
      "source": [
        "arr=np.array(my_list) #create an array from a list\n",
        "arr"
      ],
      "execution_count": 0,
      "outputs": [
        {
          "output_type": "execute_result",
          "data": {
            "text/plain": [
              "array([1, 2, 3])"
            ]
          },
          "metadata": {
            "tags": []
          },
          "execution_count": 87
        }
      ]
    },
    {
      "cell_type": "code",
      "metadata": {
        "id": "EBTNNWQXYfSO",
        "colab_type": "code",
        "outputId": "1dcd620f-deb5-49db-a69b-c0660f9b6250",
        "colab": {
          "base_uri": "https://localhost:8080/",
          "height": 34
        }
      },
      "source": [
        "arr*2 #Numpy array is suitable for math operation, unlike list."
      ],
      "execution_count": 0,
      "outputs": [
        {
          "output_type": "execute_result",
          "data": {
            "text/plain": [
              "array([2, 4, 6])"
            ]
          },
          "metadata": {
            "tags": []
          },
          "execution_count": 90
        }
      ]
    },
    {
      "cell_type": "markdown",
      "metadata": {
        "id": "W3GSUh6lcv2B",
        "colab_type": "text"
      },
      "source": [
        "##### **(b) np.arange**"
      ]
    },
    {
      "cell_type": "code",
      "metadata": {
        "id": "wz31C4RHY8gW",
        "colab_type": "code",
        "colab": {}
      },
      "source": [
        "np.arange(10)   #create an array from 0 to end-exclusive\n",
        "np.arange(5,10) #create an array from start-inclusive to end-exclusive\n",
        "np.arange(0,10,2) #add an argument indicating the step size "
      ],
      "execution_count": 0,
      "outputs": []
    },
    {
      "cell_type": "markdown",
      "metadata": {
        "id": "ZXbRELvfc1Qf",
        "colab_type": "text"
      },
      "source": [
        "#####**(c) np.zeros, np.ones, np.eye**"
      ]
    },
    {
      "cell_type": "code",
      "metadata": {
        "id": "vO2mgIkp5vYa",
        "colab_type": "code",
        "colab": {}
      },
      "source": [
        "np.zeros(3) #create a zero array\n",
        "np.ones(3)  #creae an array filled with ones\n",
        "np.zeros((3,3)) #create a zero matrix\n",
        "np.ones((3,3)) #create a matrix filled with ones\n",
        "np.eye(3) #create identity matrix"
      ],
      "execution_count": 0,
      "outputs": []
    },
    {
      "cell_type": "markdown",
      "metadata": {
        "id": "tXaXxEscc_Cc",
        "colab_type": "text"
      },
      "source": [
        "##### **(d) np.random**"
      ]
    },
    {
      "cell_type": "code",
      "metadata": {
        "id": "G63RS1Pb_pI9",
        "colab_type": "code",
        "colab": {}
      },
      "source": [
        "np.random.rand(3) #one dimentional array filled with random numbers (uniform distribution)\n",
        "np.random.randn(3) #one dimentional array filled with random number (guassian distribution)\n",
        "np.random.randint(1,100) #random integer - low-inclusion; high-exclusive\n",
        "np.random.rand(3,3) #a matrix filled with random numbers"
      ],
      "execution_count": 0,
      "outputs": []
    },
    {
      "cell_type": "code",
      "metadata": {
        "id": "OkDLDwpjAXsm",
        "colab_type": "code",
        "colab": {}
      },
      "source": [
        "arr=np.random.randint(1,100,10) #specify number of random numbers to display\n",
        "print('arr=', arr)\n",
        "print('arrmax=', arr.max()) #max method\n",
        "print('argmax=', arr.argmax()) #return the index location of the max value\n",
        "print('arrshape=', arr.shape) #find the shape of the matrix"
      ],
      "execution_count": 0,
      "outputs": []
    },
    {
      "cell_type": "markdown",
      "metadata": {
        "id": "CEFZtn-DEF3w",
        "colab_type": "text"
      },
      "source": [
        "###**1.2 Numpy Array Indexing and Selection**"
      ]
    },
    {
      "cell_type": "markdown",
      "metadata": {
        "id": "aJWP441xgWt3",
        "colab_type": "text"
      },
      "source": [
        "#####**(a) 1-D array example**"
      ]
    },
    {
      "cell_type": "code",
      "metadata": {
        "id": "FLE6VPc3ENrg",
        "colab_type": "code",
        "outputId": "47010f1b-f07a-430c-882a-0a81e53bee78",
        "colab": {
          "base_uri": "https://localhost:8080/",
          "height": 34
        }
      },
      "source": [
        "arr = np.arange(0,11)\n",
        "arr"
      ],
      "execution_count": 0,
      "outputs": [
        {
          "output_type": "execute_result",
          "data": {
            "text/plain": [
              "array([ 0,  1,  2,  3,  4,  5,  6,  7,  8,  9, 10])"
            ]
          },
          "metadata": {
            "tags": []
          },
          "execution_count": 135
        }
      ]
    },
    {
      "cell_type": "code",
      "metadata": {
        "id": "_-4pTkTEESaK",
        "colab_type": "code",
        "colab": {}
      },
      "source": [
        "arr[1]\n",
        "arr[1:5]\n",
        "arr[:5]\n",
        "arr[5:]"
      ],
      "execution_count": 0,
      "outputs": []
    },
    {
      "cell_type": "code",
      "metadata": {
        "id": "TQFfcgIzE3_S",
        "colab_type": "code",
        "colab": {}
      },
      "source": [
        "arr[0:5] = -100  #broadcast\n",
        "arr"
      ],
      "execution_count": 0,
      "outputs": []
    },
    {
      "cell_type": "code",
      "metadata": {
        "id": "fG6T93Qaffj1",
        "colab_type": "code",
        "colab": {}
      },
      "source": [
        "arr[arr>5] #conditionally select the elements from the original array"
      ],
      "execution_count": 0,
      "outputs": []
    },
    {
      "cell_type": "markdown",
      "metadata": {
        "id": "5rBmPNXggcqn",
        "colab_type": "text"
      },
      "source": [
        "##### **(b) 2-D arry example**"
      ]
    },
    {
      "cell_type": "code",
      "metadata": {
        "id": "K0ADtpqrFD8-",
        "colab_type": "code",
        "outputId": "db1a574c-fd59-47f5-b49f-ef7957576b43",
        "colab": {
          "base_uri": "https://localhost:8080/",
          "height": 69
        }
      },
      "source": [
        "arr_2d = np.array([[5,10,15],[20,25,30],[35,40,45]])\n",
        "arr_2d"
      ],
      "execution_count": 0,
      "outputs": [
        {
          "output_type": "execute_result",
          "data": {
            "text/plain": [
              "array([[ 5, 10, 15],\n",
              "       [20, 25, 30],\n",
              "       [35, 40, 45]])"
            ]
          },
          "metadata": {
            "tags": []
          },
          "execution_count": 143
        }
      ]
    },
    {
      "cell_type": "code",
      "metadata": {
        "id": "kjwS9KpIGFc9",
        "colab_type": "code",
        "colab": {}
      },
      "source": [
        "arr_2d[0] #grabing a row\n",
        "arr_2d[0,0]\n",
        "arr_2d[0][0]\n",
        "arr_2d[:,0] #grabing a column\n",
        "arr_2d[:2,1:] #grabing rows 0, 1 and columns 1, 2"
      ],
      "execution_count": 0,
      "outputs": []
    },
    {
      "cell_type": "markdown",
      "metadata": {
        "id": "CShfMbJ3dGSS",
        "colab_type": "text"
      },
      "source": [
        "##### **(c) array.reshape**"
      ]
    },
    {
      "cell_type": "code",
      "metadata": {
        "id": "wUzDWZyPJP2g",
        "colab_type": "code",
        "outputId": "8ebf5cce-4b11-47a5-87c8-ef3e5306a614",
        "colab": {
          "base_uri": "https://localhost:8080/",
          "height": 34
        }
      },
      "source": [
        "arr_1d = np.arange(9)\n",
        "arr_1d"
      ],
      "execution_count": 0,
      "outputs": [
        {
          "output_type": "execute_result",
          "data": {
            "text/plain": [
              "array([0, 1, 2, 3, 4, 5, 6, 7, 8])"
            ]
          },
          "metadata": {
            "tags": []
          },
          "execution_count": 153
        }
      ]
    },
    {
      "cell_type": "code",
      "metadata": {
        "id": "i1gzwjfOhHfb",
        "colab_type": "code",
        "outputId": "8123a4ac-b1ca-48bc-cfd0-86c640326d04",
        "colab": {
          "base_uri": "https://localhost:8080/",
          "height": 69
        }
      },
      "source": [
        "arr_2d = arr_1d.reshape(3,3)\n",
        "arr_2d"
      ],
      "execution_count": 0,
      "outputs": [
        {
          "output_type": "execute_result",
          "data": {
            "text/plain": [
              "array([[0, 1, 2],\n",
              "       [3, 4, 5],\n",
              "       [6, 7, 8]])"
            ]
          },
          "metadata": {
            "tags": []
          },
          "execution_count": 154
        }
      ]
    },
    {
      "cell_type": "code",
      "metadata": {
        "id": "SjbF7wWIhS76",
        "colab_type": "code",
        "outputId": "af9af785-6a1d-4b58-bd40-432369761c74",
        "colab": {
          "base_uri": "https://localhost:8080/",
          "height": 69
        }
      },
      "source": [
        "np.arange(9).reshape(3,3)"
      ],
      "execution_count": 0,
      "outputs": [
        {
          "output_type": "execute_result",
          "data": {
            "text/plain": [
              "array([[0, 1, 2],\n",
              "       [3, 4, 5],\n",
              "       [6, 7, 8]])"
            ]
          },
          "metadata": {
            "tags": []
          },
          "execution_count": 156
        }
      ]
    },
    {
      "cell_type": "markdown",
      "metadata": {
        "id": "eBeSFLc5J_Ti",
        "colab_type": "text"
      },
      "source": [
        "###**1.3 NumPy Operations**"
      ]
    },
    {
      "cell_type": "code",
      "metadata": {
        "id": "bfsfial4KFAA",
        "colab_type": "code",
        "outputId": "dde6740a-d0e9-4aeb-d6b5-37696f36d48a",
        "colab": {
          "base_uri": "https://localhost:8080/",
          "height": 34
        }
      },
      "source": [
        "arr = np.arange(0,11)\n",
        "arr"
      ],
      "execution_count": 0,
      "outputs": [
        {
          "output_type": "execute_result",
          "data": {
            "text/plain": [
              "array([ 0,  1,  2,  3,  4,  5,  6,  7,  8,  9, 10])"
            ]
          },
          "metadata": {
            "tags": []
          },
          "execution_count": 157
        }
      ]
    },
    {
      "cell_type": "code",
      "metadata": {
        "id": "9e13wGyEKKxu",
        "colab_type": "code",
        "colab": {}
      },
      "source": [
        "arr*2\n",
        "arr+arr\n",
        "arr**2\n",
        "arr+100\n",
        "arr-100\n",
        "arr/arr\n",
        "1/arr\n",
        "np.exp(arr)\n",
        "arr.max()\n",
        "np.max(arr)\n",
        "np.sin(arr)\n",
        "np.log(arr)\n",
        "np.mean(arr)   #we will use this for RMSE calculation\n",
        "np.square(arr) #we will use this for RMSE calculation\n",
        "np.sqrt(arr)   #we will use this for RMSE calculation\n",
        "np.abs(arr)    #we will use this for MAPE calculation\n",
        "np.concatenate(arr) #we will use this in ML(autoregression)"
      ],
      "execution_count": 0,
      "outputs": []
    },
    {
      "cell_type": "markdown",
      "metadata": {
        "id": "YpxkxDUmLgJS",
        "colab_type": "text"
      },
      "source": [
        "See more at https://docs.scipy.org/doc/numpy/reference/ufuncs.html"
      ]
    },
    {
      "cell_type": "markdown",
      "metadata": {
        "id": "Wnvzsp_TeS-G",
        "colab_type": "text"
      },
      "source": [
        "\n",
        "\n",
        "---\n",
        "\n",
        "\n",
        "# **2.0 Pandas**\n",
        "\n",
        "Understand Pandas series and DataFrames\n",
        "\n"
      ]
    },
    {
      "cell_type": "code",
      "metadata": {
        "id": "r86gnPHHeVht",
        "colab_type": "code",
        "colab": {}
      },
      "source": [
        "import numpy as np\n",
        "import pandas as pd"
      ],
      "execution_count": 0,
      "outputs": []
    },
    {
      "cell_type": "markdown",
      "metadata": {
        "id": "xtucCDP2jD-S",
        "colab_type": "text"
      },
      "source": [
        "###**2.1 Pandas Series**\n",
        "\n",
        "* Creating Pandas Series from a list or numpy array\n",
        "* Creating Pandas Series from a list + label\n",
        "* Creating Pandas series from a dictionary\n",
        "* Indexing and Pandas operation"
      ]
    },
    {
      "cell_type": "markdown",
      "metadata": {
        "id": "GfFUtw9bl75R",
        "colab_type": "text"
      },
      "source": [
        "##### **(a) Creating Pandas Series from a list or numpy array**"
      ]
    },
    {
      "cell_type": "code",
      "metadata": {
        "id": "W1u9r4f3fXqk",
        "colab_type": "code",
        "outputId": "96249085-8c6a-4d77-8b6d-9f49301fd9bd",
        "colab": {
          "base_uri": "https://localhost:8080/",
          "height": 86
        }
      },
      "source": [
        "my_data = [10,20,30]\n",
        "pd.Series(data = my_data) #create a Pandas Series using a list\n",
        "#pd.Series(np.array(my_data) #you can put array in Pandas Series. it works the same way as list"
      ],
      "execution_count": 0,
      "outputs": [
        {
          "output_type": "execute_result",
          "data": {
            "text/plain": [
              "0    10\n",
              "1    20\n",
              "2    30\n",
              "dtype: int64"
            ]
          },
          "metadata": {
            "tags": []
          },
          "execution_count": 3
        }
      ]
    },
    {
      "cell_type": "markdown",
      "metadata": {
        "id": "Iqpe-a0zmBFo",
        "colab_type": "text"
      },
      "source": [
        "##### **(b) Creating Pandas Series from a list + labels**"
      ]
    },
    {
      "cell_type": "code",
      "metadata": {
        "id": "JzQ8EWgefjcj",
        "colab_type": "code",
        "outputId": "36022bdd-d547-4296-87f0-7a55e3cc36bd",
        "colab": {
          "base_uri": "https://localhost:8080/",
          "height": 86
        }
      },
      "source": [
        "labels = ['a','b','c']\n",
        "pd.Series(my_data, labels)  #this works as long as you put them in the right order\n",
        "#pd.Series(data = my_data, index=labels) #create a Pandas Series using data & index"
      ],
      "execution_count": 0,
      "outputs": [
        {
          "output_type": "execute_result",
          "data": {
            "text/plain": [
              "a    10\n",
              "b    20\n",
              "c    30\n",
              "dtype: int64"
            ]
          },
          "metadata": {
            "tags": []
          },
          "execution_count": 4
        }
      ]
    },
    {
      "cell_type": "markdown",
      "metadata": {
        "id": "SaYbGtQmmHI5",
        "colab_type": "text"
      },
      "source": [
        "#####**(c) Creating Pandas Series from a dictionary**"
      ]
    },
    {
      "cell_type": "code",
      "metadata": {
        "id": "D0KqDaj8f74W",
        "colab_type": "code",
        "outputId": "530aec71-d25f-41d5-ffa5-b7a8b0f31ab8",
        "colab": {
          "base_uri": "https://localhost:8080/",
          "height": 86
        }
      },
      "source": [
        "d = {'a':10,'b':20,'c':30}\n",
        "pd.Series(d) #add dictionary as an index"
      ],
      "execution_count": 0,
      "outputs": [
        {
          "output_type": "execute_result",
          "data": {
            "text/plain": [
              "a    10\n",
              "b    20\n",
              "c    30\n",
              "dtype: int64"
            ]
          },
          "metadata": {
            "tags": []
          },
          "execution_count": 5
        }
      ]
    },
    {
      "cell_type": "markdown",
      "metadata": {
        "id": "p4Wk9XsPmNtm",
        "colab_type": "text"
      },
      "source": [
        "##### **(d) Extras: Indexing and Pandas operation**"
      ]
    },
    {
      "cell_type": "code",
      "metadata": {
        "id": "7M7grRlEf_FJ",
        "colab_type": "code",
        "outputId": "01fecd4a-a7d6-4d33-e28a-e28680023c80",
        "colab": {
          "base_uri": "https://localhost:8080/",
          "height": 34
        }
      },
      "source": [
        "series1 = pd.Series([1,2,3,4],['USA','GERMANY','USSR','JAPAN'])\n",
        "series2 = pd.Series([1,2,5,4],['USA','GERMANY','ITALY','JAPAN'])\n",
        "series1['USA'] #passing in the index label"
      ],
      "execution_count": 0,
      "outputs": [
        {
          "output_type": "execute_result",
          "data": {
            "text/plain": [
              "1"
            ]
          },
          "metadata": {
            "tags": []
          },
          "execution_count": 6
        }
      ]
    },
    {
      "cell_type": "code",
      "metadata": {
        "id": "IKJNcBmDmY1V",
        "colab_type": "code",
        "outputId": "350dd92c-1e05-4b3c-853b-feccdbc28879",
        "colab": {
          "base_uri": "https://localhost:8080/",
          "height": 121
        }
      },
      "source": [
        "series1+series2 #Pandas operation - add data of the same index; integer converts to float;"
      ],
      "execution_count": 0,
      "outputs": [
        {
          "output_type": "execute_result",
          "data": {
            "text/plain": [
              "GERMANY    4.0\n",
              "ITALY      NaN\n",
              "JAPAN      8.0\n",
              "USA        2.0\n",
              "USSR       NaN\n",
              "dtype: float64"
            ]
          },
          "metadata": {
            "tags": []
          },
          "execution_count": 7
        }
      ]
    },
    {
      "cell_type": "markdown",
      "metadata": {
        "id": "6sFCFgsti6Dy",
        "colab_type": "text"
      },
      "source": [
        "###**2.2  DataFrames Part I**\n",
        "creating and indexing DataFrames\n",
        "\n",
        "*   pd.DataFrame\n",
        "*   df['col/row']\n",
        "*   df.drop('col',axis=1)\n",
        "*   df.drop('row',axis=0)\n",
        "*   df.loc['col/row']\n",
        "*   df.iloc['col/row']\n",
        "\n",
        "\n"
      ]
    },
    {
      "cell_type": "code",
      "metadata": {
        "id": "8K6aBtPJjJC6",
        "colab_type": "code",
        "colab": {}
      },
      "source": [
        "import numpy as np\n",
        "import pandas as pd\n",
        "from numpy.random import randn"
      ],
      "execution_count": 0,
      "outputs": []
    },
    {
      "cell_type": "code",
      "metadata": {
        "id": "H96kLgfMm_Qc",
        "colab_type": "code",
        "outputId": "d60f295b-301e-4eec-9bf3-7655e7c99c56",
        "colab": {
          "base_uri": "https://localhost:8080/",
          "height": 202
        }
      },
      "source": [
        "df = pd.DataFrame(randn(5,4),['A','B','C','D','E'],['W','X','Y','Z'])\n",
        "df #each column is a Pandas Series"
      ],
      "execution_count": 0,
      "outputs": [
        {
          "output_type": "execute_result",
          "data": {
            "text/html": [
              "<div>\n",
              "<style scoped>\n",
              "    .dataframe tbody tr th:only-of-type {\n",
              "        vertical-align: middle;\n",
              "    }\n",
              "\n",
              "    .dataframe tbody tr th {\n",
              "        vertical-align: top;\n",
              "    }\n",
              "\n",
              "    .dataframe thead th {\n",
              "        text-align: right;\n",
              "    }\n",
              "</style>\n",
              "<table border=\"1\" class=\"dataframe\">\n",
              "  <thead>\n",
              "    <tr style=\"text-align: right;\">\n",
              "      <th></th>\n",
              "      <th>W</th>\n",
              "      <th>X</th>\n",
              "      <th>Y</th>\n",
              "      <th>Z</th>\n",
              "    </tr>\n",
              "  </thead>\n",
              "  <tbody>\n",
              "    <tr>\n",
              "      <th>A</th>\n",
              "      <td>-0.576680</td>\n",
              "      <td>-0.307025</td>\n",
              "      <td>-1.180385</td>\n",
              "      <td>-0.410202</td>\n",
              "    </tr>\n",
              "    <tr>\n",
              "      <th>B</th>\n",
              "      <td>-0.803804</td>\n",
              "      <td>0.555458</td>\n",
              "      <td>-0.465097</td>\n",
              "      <td>-1.355800</td>\n",
              "    </tr>\n",
              "    <tr>\n",
              "      <th>C</th>\n",
              "      <td>-0.742566</td>\n",
              "      <td>0.157566</td>\n",
              "      <td>-0.002836</td>\n",
              "      <td>0.181727</td>\n",
              "    </tr>\n",
              "    <tr>\n",
              "      <th>D</th>\n",
              "      <td>-0.038610</td>\n",
              "      <td>0.922284</td>\n",
              "      <td>0.432411</td>\n",
              "      <td>0.990672</td>\n",
              "    </tr>\n",
              "    <tr>\n",
              "      <th>E</th>\n",
              "      <td>-0.643791</td>\n",
              "      <td>-1.365312</td>\n",
              "      <td>0.344830</td>\n",
              "      <td>0.000773</td>\n",
              "    </tr>\n",
              "  </tbody>\n",
              "</table>\n",
              "</div>"
            ],
            "text/plain": [
              "          W         X         Y         Z\n",
              "A -0.576680 -0.307025 -1.180385 -0.410202\n",
              "B -0.803804  0.555458 -0.465097 -1.355800\n",
              "C -0.742566  0.157566 -0.002836  0.181727\n",
              "D -0.038610  0.922284  0.432411  0.990672\n",
              "E -0.643791 -1.365312  0.344830  0.000773"
            ]
          },
          "metadata": {
            "tags": []
          },
          "execution_count": 12
        }
      ]
    },
    {
      "cell_type": "code",
      "metadata": {
        "id": "wJJYLQlxnYbC",
        "colab_type": "code",
        "outputId": "35732d8f-a8ae-4f96-8977-30d11d56f533",
        "colab": {
          "base_uri": "https://localhost:8080/",
          "height": 121
        }
      },
      "source": [
        "df['W'] #select a column"
      ],
      "execution_count": 0,
      "outputs": [
        {
          "output_type": "execute_result",
          "data": {
            "text/plain": [
              "A   -0.576680\n",
              "B   -0.803804\n",
              "C   -0.742566\n",
              "D   -0.038610\n",
              "E   -0.643791\n",
              "Name: W, dtype: float64"
            ]
          },
          "metadata": {
            "tags": []
          },
          "execution_count": 13
        }
      ]
    },
    {
      "cell_type": "code",
      "metadata": {
        "id": "JRJwE290v1IA",
        "colab_type": "code",
        "outputId": "43568d83-07ab-471c-fcd5-f0f9ea0bec67",
        "colab": {
          "base_uri": "https://localhost:8080/",
          "height": 34
        }
      },
      "source": [
        "type(df['W']) #this is of type Pandas Series"
      ],
      "execution_count": 0,
      "outputs": [
        {
          "output_type": "execute_result",
          "data": {
            "text/plain": [
              "pandas.core.series.Series"
            ]
          },
          "metadata": {
            "tags": []
          },
          "execution_count": 14
        }
      ]
    },
    {
      "cell_type": "code",
      "metadata": {
        "id": "4QX_OJbpxQct",
        "colab_type": "code",
        "outputId": "c4dd3170-e1ce-4953-9375-5fc5e3d703d6",
        "colab": {
          "base_uri": "https://localhost:8080/",
          "height": 202
        }
      },
      "source": [
        "df[['W','X']] #select multiple columns, get a DataFrame"
      ],
      "execution_count": 0,
      "outputs": [
        {
          "output_type": "execute_result",
          "data": {
            "text/html": [
              "<div>\n",
              "<style scoped>\n",
              "    .dataframe tbody tr th:only-of-type {\n",
              "        vertical-align: middle;\n",
              "    }\n",
              "\n",
              "    .dataframe tbody tr th {\n",
              "        vertical-align: top;\n",
              "    }\n",
              "\n",
              "    .dataframe thead th {\n",
              "        text-align: right;\n",
              "    }\n",
              "</style>\n",
              "<table border=\"1\" class=\"dataframe\">\n",
              "  <thead>\n",
              "    <tr style=\"text-align: right;\">\n",
              "      <th></th>\n",
              "      <th>W</th>\n",
              "      <th>X</th>\n",
              "    </tr>\n",
              "  </thead>\n",
              "  <tbody>\n",
              "    <tr>\n",
              "      <th>A</th>\n",
              "      <td>-0.576680</td>\n",
              "      <td>-0.307025</td>\n",
              "    </tr>\n",
              "    <tr>\n",
              "      <th>B</th>\n",
              "      <td>-0.803804</td>\n",
              "      <td>0.555458</td>\n",
              "    </tr>\n",
              "    <tr>\n",
              "      <th>C</th>\n",
              "      <td>-0.742566</td>\n",
              "      <td>0.157566</td>\n",
              "    </tr>\n",
              "    <tr>\n",
              "      <th>D</th>\n",
              "      <td>-0.038610</td>\n",
              "      <td>0.922284</td>\n",
              "    </tr>\n",
              "    <tr>\n",
              "      <th>E</th>\n",
              "      <td>-0.643791</td>\n",
              "      <td>-1.365312</td>\n",
              "    </tr>\n",
              "  </tbody>\n",
              "</table>\n",
              "</div>"
            ],
            "text/plain": [
              "          W         X\n",
              "A -0.576680 -0.307025\n",
              "B -0.803804  0.555458\n",
              "C -0.742566  0.157566\n",
              "D -0.038610  0.922284\n",
              "E -0.643791 -1.365312"
            ]
          },
          "metadata": {
            "tags": []
          },
          "execution_count": 15
        }
      ]
    },
    {
      "cell_type": "code",
      "metadata": {
        "id": "tGWz7XX8v7h8",
        "colab_type": "code",
        "outputId": "4945407c-390d-461e-ca27-585aff6789ea",
        "colab": {
          "base_uri": "https://localhost:8080/",
          "height": 202
        }
      },
      "source": [
        "df['new'] = df['W']+df['X'] #adding a new column\n",
        "df"
      ],
      "execution_count": 0,
      "outputs": [
        {
          "output_type": "execute_result",
          "data": {
            "text/html": [
              "<div>\n",
              "<style scoped>\n",
              "    .dataframe tbody tr th:only-of-type {\n",
              "        vertical-align: middle;\n",
              "    }\n",
              "\n",
              "    .dataframe tbody tr th {\n",
              "        vertical-align: top;\n",
              "    }\n",
              "\n",
              "    .dataframe thead th {\n",
              "        text-align: right;\n",
              "    }\n",
              "</style>\n",
              "<table border=\"1\" class=\"dataframe\">\n",
              "  <thead>\n",
              "    <tr style=\"text-align: right;\">\n",
              "      <th></th>\n",
              "      <th>W</th>\n",
              "      <th>X</th>\n",
              "      <th>Y</th>\n",
              "      <th>Z</th>\n",
              "      <th>new</th>\n",
              "    </tr>\n",
              "  </thead>\n",
              "  <tbody>\n",
              "    <tr>\n",
              "      <th>A</th>\n",
              "      <td>-0.576680</td>\n",
              "      <td>-0.307025</td>\n",
              "      <td>-1.180385</td>\n",
              "      <td>-0.410202</td>\n",
              "      <td>-0.883705</td>\n",
              "    </tr>\n",
              "    <tr>\n",
              "      <th>B</th>\n",
              "      <td>-0.803804</td>\n",
              "      <td>0.555458</td>\n",
              "      <td>-0.465097</td>\n",
              "      <td>-1.355800</td>\n",
              "      <td>-0.248346</td>\n",
              "    </tr>\n",
              "    <tr>\n",
              "      <th>C</th>\n",
              "      <td>-0.742566</td>\n",
              "      <td>0.157566</td>\n",
              "      <td>-0.002836</td>\n",
              "      <td>0.181727</td>\n",
              "      <td>-0.585001</td>\n",
              "    </tr>\n",
              "    <tr>\n",
              "      <th>D</th>\n",
              "      <td>-0.038610</td>\n",
              "      <td>0.922284</td>\n",
              "      <td>0.432411</td>\n",
              "      <td>0.990672</td>\n",
              "      <td>0.883674</td>\n",
              "    </tr>\n",
              "    <tr>\n",
              "      <th>E</th>\n",
              "      <td>-0.643791</td>\n",
              "      <td>-1.365312</td>\n",
              "      <td>0.344830</td>\n",
              "      <td>0.000773</td>\n",
              "      <td>-2.009104</td>\n",
              "    </tr>\n",
              "  </tbody>\n",
              "</table>\n",
              "</div>"
            ],
            "text/plain": [
              "          W         X         Y         Z       new\n",
              "A -0.576680 -0.307025 -1.180385 -0.410202 -0.883705\n",
              "B -0.803804  0.555458 -0.465097 -1.355800 -0.248346\n",
              "C -0.742566  0.157566 -0.002836  0.181727 -0.585001\n",
              "D -0.038610  0.922284  0.432411  0.990672  0.883674\n",
              "E -0.643791 -1.365312  0.344830  0.000773 -2.009104"
            ]
          },
          "metadata": {
            "tags": []
          },
          "execution_count": 16
        }
      ]
    },
    {
      "cell_type": "code",
      "metadata": {
        "id": "iQ_ZeKLix9pr",
        "colab_type": "code",
        "outputId": "27b5d09d-f7bd-4f07-b66d-8362f3a3ea12",
        "colab": {
          "base_uri": "https://localhost:8080/",
          "height": 202
        }
      },
      "source": [
        "df.drop('new', axis=1) #axis=1 specifying column\n",
        "df"
      ],
      "execution_count": 0,
      "outputs": [
        {
          "output_type": "execute_result",
          "data": {
            "text/html": [
              "<div>\n",
              "<style scoped>\n",
              "    .dataframe tbody tr th:only-of-type {\n",
              "        vertical-align: middle;\n",
              "    }\n",
              "\n",
              "    .dataframe tbody tr th {\n",
              "        vertical-align: top;\n",
              "    }\n",
              "\n",
              "    .dataframe thead th {\n",
              "        text-align: right;\n",
              "    }\n",
              "</style>\n",
              "<table border=\"1\" class=\"dataframe\">\n",
              "  <thead>\n",
              "    <tr style=\"text-align: right;\">\n",
              "      <th></th>\n",
              "      <th>W</th>\n",
              "      <th>X</th>\n",
              "      <th>Y</th>\n",
              "      <th>Z</th>\n",
              "      <th>new</th>\n",
              "    </tr>\n",
              "  </thead>\n",
              "  <tbody>\n",
              "    <tr>\n",
              "      <th>A</th>\n",
              "      <td>-0.576680</td>\n",
              "      <td>-0.307025</td>\n",
              "      <td>-1.180385</td>\n",
              "      <td>-0.410202</td>\n",
              "      <td>-0.883705</td>\n",
              "    </tr>\n",
              "    <tr>\n",
              "      <th>B</th>\n",
              "      <td>-0.803804</td>\n",
              "      <td>0.555458</td>\n",
              "      <td>-0.465097</td>\n",
              "      <td>-1.355800</td>\n",
              "      <td>-0.248346</td>\n",
              "    </tr>\n",
              "    <tr>\n",
              "      <th>C</th>\n",
              "      <td>-0.742566</td>\n",
              "      <td>0.157566</td>\n",
              "      <td>-0.002836</td>\n",
              "      <td>0.181727</td>\n",
              "      <td>-0.585001</td>\n",
              "    </tr>\n",
              "    <tr>\n",
              "      <th>D</th>\n",
              "      <td>-0.038610</td>\n",
              "      <td>0.922284</td>\n",
              "      <td>0.432411</td>\n",
              "      <td>0.990672</td>\n",
              "      <td>0.883674</td>\n",
              "    </tr>\n",
              "    <tr>\n",
              "      <th>E</th>\n",
              "      <td>-0.643791</td>\n",
              "      <td>-1.365312</td>\n",
              "      <td>0.344830</td>\n",
              "      <td>0.000773</td>\n",
              "      <td>-2.009104</td>\n",
              "    </tr>\n",
              "  </tbody>\n",
              "</table>\n",
              "</div>"
            ],
            "text/plain": [
              "          W         X         Y         Z       new\n",
              "A -0.576680 -0.307025 -1.180385 -0.410202 -0.883705\n",
              "B -0.803804  0.555458 -0.465097 -1.355800 -0.248346\n",
              "C -0.742566  0.157566 -0.002836  0.181727 -0.585001\n",
              "D -0.038610  0.922284  0.432411  0.990672  0.883674\n",
              "E -0.643791 -1.365312  0.344830  0.000773 -2.009104"
            ]
          },
          "metadata": {
            "tags": []
          },
          "execution_count": 17
        }
      ]
    },
    {
      "cell_type": "code",
      "metadata": {
        "id": "qwG6XgmJyKm-",
        "colab_type": "code",
        "outputId": "a2cbbdb1-3d2f-4cb1-9ed1-33b91d9714dc",
        "colab": {
          "base_uri": "https://localhost:8080/",
          "height": 202
        }
      },
      "source": [
        "df.drop('new', axis=1, inplace=True) #specifying inplace to drop the column and replace df\n",
        "df"
      ],
      "execution_count": 0,
      "outputs": [
        {
          "output_type": "execute_result",
          "data": {
            "text/html": [
              "<div>\n",
              "<style scoped>\n",
              "    .dataframe tbody tr th:only-of-type {\n",
              "        vertical-align: middle;\n",
              "    }\n",
              "\n",
              "    .dataframe tbody tr th {\n",
              "        vertical-align: top;\n",
              "    }\n",
              "\n",
              "    .dataframe thead th {\n",
              "        text-align: right;\n",
              "    }\n",
              "</style>\n",
              "<table border=\"1\" class=\"dataframe\">\n",
              "  <thead>\n",
              "    <tr style=\"text-align: right;\">\n",
              "      <th></th>\n",
              "      <th>W</th>\n",
              "      <th>X</th>\n",
              "      <th>Y</th>\n",
              "      <th>Z</th>\n",
              "    </tr>\n",
              "  </thead>\n",
              "  <tbody>\n",
              "    <tr>\n",
              "      <th>A</th>\n",
              "      <td>-0.576680</td>\n",
              "      <td>-0.307025</td>\n",
              "      <td>-1.180385</td>\n",
              "      <td>-0.410202</td>\n",
              "    </tr>\n",
              "    <tr>\n",
              "      <th>B</th>\n",
              "      <td>-0.803804</td>\n",
              "      <td>0.555458</td>\n",
              "      <td>-0.465097</td>\n",
              "      <td>-1.355800</td>\n",
              "    </tr>\n",
              "    <tr>\n",
              "      <th>C</th>\n",
              "      <td>-0.742566</td>\n",
              "      <td>0.157566</td>\n",
              "      <td>-0.002836</td>\n",
              "      <td>0.181727</td>\n",
              "    </tr>\n",
              "    <tr>\n",
              "      <th>D</th>\n",
              "      <td>-0.038610</td>\n",
              "      <td>0.922284</td>\n",
              "      <td>0.432411</td>\n",
              "      <td>0.990672</td>\n",
              "    </tr>\n",
              "    <tr>\n",
              "      <th>E</th>\n",
              "      <td>-0.643791</td>\n",
              "      <td>-1.365312</td>\n",
              "      <td>0.344830</td>\n",
              "      <td>0.000773</td>\n",
              "    </tr>\n",
              "  </tbody>\n",
              "</table>\n",
              "</div>"
            ],
            "text/plain": [
              "          W         X         Y         Z\n",
              "A -0.576680 -0.307025 -1.180385 -0.410202\n",
              "B -0.803804  0.555458 -0.465097 -1.355800\n",
              "C -0.742566  0.157566 -0.002836  0.181727\n",
              "D -0.038610  0.922284  0.432411  0.990672\n",
              "E -0.643791 -1.365312  0.344830  0.000773"
            ]
          },
          "metadata": {
            "tags": []
          },
          "execution_count": 18
        }
      ]
    },
    {
      "cell_type": "code",
      "metadata": {
        "id": "FzGo1VD3yZo6",
        "colab_type": "code",
        "outputId": "b44cccdf-781f-4b2b-d10f-98312116d041",
        "colab": {
          "base_uri": "https://localhost:8080/",
          "height": 172
        }
      },
      "source": [
        "df.drop('E') #without specifying axis, the default is axis=0 or deleting row"
      ],
      "execution_count": 0,
      "outputs": [
        {
          "output_type": "execute_result",
          "data": {
            "text/html": [
              "<div>\n",
              "<style scoped>\n",
              "    .dataframe tbody tr th:only-of-type {\n",
              "        vertical-align: middle;\n",
              "    }\n",
              "\n",
              "    .dataframe tbody tr th {\n",
              "        vertical-align: top;\n",
              "    }\n",
              "\n",
              "    .dataframe thead th {\n",
              "        text-align: right;\n",
              "    }\n",
              "</style>\n",
              "<table border=\"1\" class=\"dataframe\">\n",
              "  <thead>\n",
              "    <tr style=\"text-align: right;\">\n",
              "      <th></th>\n",
              "      <th>W</th>\n",
              "      <th>X</th>\n",
              "      <th>Y</th>\n",
              "      <th>Z</th>\n",
              "    </tr>\n",
              "  </thead>\n",
              "  <tbody>\n",
              "    <tr>\n",
              "      <th>A</th>\n",
              "      <td>-0.576680</td>\n",
              "      <td>-0.307025</td>\n",
              "      <td>-1.180385</td>\n",
              "      <td>-0.410202</td>\n",
              "    </tr>\n",
              "    <tr>\n",
              "      <th>B</th>\n",
              "      <td>-0.803804</td>\n",
              "      <td>0.555458</td>\n",
              "      <td>-0.465097</td>\n",
              "      <td>-1.355800</td>\n",
              "    </tr>\n",
              "    <tr>\n",
              "      <th>C</th>\n",
              "      <td>-0.742566</td>\n",
              "      <td>0.157566</td>\n",
              "      <td>-0.002836</td>\n",
              "      <td>0.181727</td>\n",
              "    </tr>\n",
              "    <tr>\n",
              "      <th>D</th>\n",
              "      <td>-0.038610</td>\n",
              "      <td>0.922284</td>\n",
              "      <td>0.432411</td>\n",
              "      <td>0.990672</td>\n",
              "    </tr>\n",
              "  </tbody>\n",
              "</table>\n",
              "</div>"
            ],
            "text/plain": [
              "          W         X         Y         Z\n",
              "A -0.576680 -0.307025 -1.180385 -0.410202\n",
              "B -0.803804  0.555458 -0.465097 -1.355800\n",
              "C -0.742566  0.157566 -0.002836  0.181727\n",
              "D -0.038610  0.922284  0.432411  0.990672"
            ]
          },
          "metadata": {
            "tags": []
          },
          "execution_count": 19
        }
      ]
    },
    {
      "cell_type": "code",
      "metadata": {
        "id": "GtJQmZHhyiF_",
        "colab_type": "code",
        "outputId": "b4f17cdf-aaa0-4c06-fcd7-f38924f86414",
        "colab": {
          "base_uri": "https://localhost:8080/",
          "height": 104
        }
      },
      "source": [
        "df.loc['A'] #select a row - Method1"
      ],
      "execution_count": 0,
      "outputs": [
        {
          "output_type": "execute_result",
          "data": {
            "text/plain": [
              "W   -0.576680\n",
              "X   -0.307025\n",
              "Y   -1.180385\n",
              "Z   -0.410202\n",
              "Name: A, dtype: float64"
            ]
          },
          "metadata": {
            "tags": []
          },
          "execution_count": 20
        }
      ]
    },
    {
      "cell_type": "code",
      "metadata": {
        "id": "YQvKZTX6ywPM",
        "colab_type": "code",
        "outputId": "3c2eff76-7f65-4442-cc18-9c65e6e2f41d",
        "colab": {
          "base_uri": "https://localhost:8080/",
          "height": 34
        }
      },
      "source": [
        "type(df.loc['A']) #row is also Pandas Series"
      ],
      "execution_count": 0,
      "outputs": [
        {
          "output_type": "execute_result",
          "data": {
            "text/plain": [
              "pandas.core.series.Series"
            ]
          },
          "metadata": {
            "tags": []
          },
          "execution_count": 21
        }
      ]
    },
    {
      "cell_type": "code",
      "metadata": {
        "id": "Y6HMu1LXzO2c",
        "colab_type": "code",
        "outputId": "e329ccd8-60bf-45e0-f6ac-aa387be4095c",
        "colab": {
          "base_uri": "https://localhost:8080/",
          "height": 104
        }
      },
      "source": [
        "df.iloc[0] #select a row -Method2"
      ],
      "execution_count": 0,
      "outputs": [
        {
          "output_type": "execute_result",
          "data": {
            "text/plain": [
              "W   -0.576680\n",
              "X   -0.307025\n",
              "Y   -1.180385\n",
              "Z   -0.410202\n",
              "Name: A, dtype: float64"
            ]
          },
          "metadata": {
            "tags": []
          },
          "execution_count": 22
        }
      ]
    },
    {
      "cell_type": "code",
      "metadata": {
        "id": "2m7VMvXtzXKc",
        "colab_type": "code",
        "outputId": "f0614a70-6cb1-47db-8516-5eda96dcfe6a",
        "colab": {
          "base_uri": "https://localhost:8080/",
          "height": 34
        }
      },
      "source": [
        "df.loc['A','W'] #select a specific value (just like NumPy)"
      ],
      "execution_count": 0,
      "outputs": [
        {
          "output_type": "execute_result",
          "data": {
            "text/plain": [
              "-0.576679794390035"
            ]
          },
          "metadata": {
            "tags": []
          },
          "execution_count": 23
        }
      ]
    },
    {
      "cell_type": "code",
      "metadata": {
        "id": "xhkV9gUAzi2N",
        "colab_type": "code",
        "outputId": "3f9f990c-706f-4226-9dd5-9230bc1b52f6",
        "colab": {
          "base_uri": "https://localhost:8080/",
          "height": 110
        }
      },
      "source": [
        "df.loc[['A','B'],['W','Y']] #select specific rows/columns"
      ],
      "execution_count": 0,
      "outputs": [
        {
          "output_type": "execute_result",
          "data": {
            "text/html": [
              "<div>\n",
              "<style scoped>\n",
              "    .dataframe tbody tr th:only-of-type {\n",
              "        vertical-align: middle;\n",
              "    }\n",
              "\n",
              "    .dataframe tbody tr th {\n",
              "        vertical-align: top;\n",
              "    }\n",
              "\n",
              "    .dataframe thead th {\n",
              "        text-align: right;\n",
              "    }\n",
              "</style>\n",
              "<table border=\"1\" class=\"dataframe\">\n",
              "  <thead>\n",
              "    <tr style=\"text-align: right;\">\n",
              "      <th></th>\n",
              "      <th>W</th>\n",
              "      <th>Y</th>\n",
              "    </tr>\n",
              "  </thead>\n",
              "  <tbody>\n",
              "    <tr>\n",
              "      <th>A</th>\n",
              "      <td>-0.576680</td>\n",
              "      <td>-1.180385</td>\n",
              "    </tr>\n",
              "    <tr>\n",
              "      <th>B</th>\n",
              "      <td>-0.803804</td>\n",
              "      <td>-0.465097</td>\n",
              "    </tr>\n",
              "  </tbody>\n",
              "</table>\n",
              "</div>"
            ],
            "text/plain": [
              "          W         Y\n",
              "A -0.576680 -1.180385\n",
              "B -0.803804 -0.465097"
            ]
          },
          "metadata": {
            "tags": []
          },
          "execution_count": 25
        }
      ]
    },
    {
      "cell_type": "markdown",
      "metadata": {
        "id": "8hAnQG1jMBOu",
        "colab_type": "text"
      },
      "source": [
        "###**2.3 DataFrames Part II**\n",
        "\n",
        "conditional selection\n",
        "* df>0\n",
        "* df[df>0]\n",
        "* df['col/row']>0\n",
        "* df[df['col/row']>0]\n",
        "* df.set_index('index_name')\n"
      ]
    },
    {
      "cell_type": "code",
      "metadata": {
        "id": "ec14yEVmMoxK",
        "colab_type": "code",
        "outputId": "e6e87cf5-a65d-4514-c7ef-dabc642212fd",
        "colab": {
          "base_uri": "https://localhost:8080/",
          "height": 202
        }
      },
      "source": [
        "df=pd.DataFrame(randn(5,4),['A','B','C','D','E'],['W','X','Y','Z'])\n",
        "df"
      ],
      "execution_count": 0,
      "outputs": [
        {
          "output_type": "execute_result",
          "data": {
            "text/html": [
              "<div>\n",
              "<style scoped>\n",
              "    .dataframe tbody tr th:only-of-type {\n",
              "        vertical-align: middle;\n",
              "    }\n",
              "\n",
              "    .dataframe tbody tr th {\n",
              "        vertical-align: top;\n",
              "    }\n",
              "\n",
              "    .dataframe thead th {\n",
              "        text-align: right;\n",
              "    }\n",
              "</style>\n",
              "<table border=\"1\" class=\"dataframe\">\n",
              "  <thead>\n",
              "    <tr style=\"text-align: right;\">\n",
              "      <th></th>\n",
              "      <th>W</th>\n",
              "      <th>X</th>\n",
              "      <th>Y</th>\n",
              "      <th>Z</th>\n",
              "    </tr>\n",
              "  </thead>\n",
              "  <tbody>\n",
              "    <tr>\n",
              "      <th>A</th>\n",
              "      <td>-0.620021</td>\n",
              "      <td>0.412272</td>\n",
              "      <td>-0.796174</td>\n",
              "      <td>1.148645</td>\n",
              "    </tr>\n",
              "    <tr>\n",
              "      <th>B</th>\n",
              "      <td>0.809923</td>\n",
              "      <td>0.213892</td>\n",
              "      <td>-0.386341</td>\n",
              "      <td>1.415942</td>\n",
              "    </tr>\n",
              "    <tr>\n",
              "      <th>C</th>\n",
              "      <td>1.543218</td>\n",
              "      <td>0.017864</td>\n",
              "      <td>0.167067</td>\n",
              "      <td>0.424226</td>\n",
              "    </tr>\n",
              "    <tr>\n",
              "      <th>D</th>\n",
              "      <td>-1.430443</td>\n",
              "      <td>-1.283506</td>\n",
              "      <td>-0.123416</td>\n",
              "      <td>-0.065747</td>\n",
              "    </tr>\n",
              "    <tr>\n",
              "      <th>E</th>\n",
              "      <td>-0.736882</td>\n",
              "      <td>1.338293</td>\n",
              "      <td>0.005981</td>\n",
              "      <td>-0.379174</td>\n",
              "    </tr>\n",
              "  </tbody>\n",
              "</table>\n",
              "</div>"
            ],
            "text/plain": [
              "          W         X         Y         Z\n",
              "A -0.620021  0.412272 -0.796174  1.148645\n",
              "B  0.809923  0.213892 -0.386341  1.415942\n",
              "C  1.543218  0.017864  0.167067  0.424226\n",
              "D -1.430443 -1.283506 -0.123416 -0.065747\n",
              "E -0.736882  1.338293  0.005981 -0.379174"
            ]
          },
          "metadata": {
            "tags": []
          },
          "execution_count": 26
        }
      ]
    },
    {
      "cell_type": "code",
      "metadata": {
        "id": "YxSbMjMTMxbr",
        "colab_type": "code",
        "outputId": "600ee9ec-c349-4a9a-fb2c-4f463eed4a81",
        "colab": {
          "base_uri": "https://localhost:8080/",
          "height": 202
        }
      },
      "source": [
        "df>0 #yield bool table"
      ],
      "execution_count": 0,
      "outputs": [
        {
          "output_type": "execute_result",
          "data": {
            "text/html": [
              "<div>\n",
              "<style scoped>\n",
              "    .dataframe tbody tr th:only-of-type {\n",
              "        vertical-align: middle;\n",
              "    }\n",
              "\n",
              "    .dataframe tbody tr th {\n",
              "        vertical-align: top;\n",
              "    }\n",
              "\n",
              "    .dataframe thead th {\n",
              "        text-align: right;\n",
              "    }\n",
              "</style>\n",
              "<table border=\"1\" class=\"dataframe\">\n",
              "  <thead>\n",
              "    <tr style=\"text-align: right;\">\n",
              "      <th></th>\n",
              "      <th>W</th>\n",
              "      <th>X</th>\n",
              "      <th>Y</th>\n",
              "      <th>Z</th>\n",
              "    </tr>\n",
              "  </thead>\n",
              "  <tbody>\n",
              "    <tr>\n",
              "      <th>A</th>\n",
              "      <td>False</td>\n",
              "      <td>True</td>\n",
              "      <td>False</td>\n",
              "      <td>True</td>\n",
              "    </tr>\n",
              "    <tr>\n",
              "      <th>B</th>\n",
              "      <td>True</td>\n",
              "      <td>True</td>\n",
              "      <td>False</td>\n",
              "      <td>True</td>\n",
              "    </tr>\n",
              "    <tr>\n",
              "      <th>C</th>\n",
              "      <td>True</td>\n",
              "      <td>True</td>\n",
              "      <td>True</td>\n",
              "      <td>True</td>\n",
              "    </tr>\n",
              "    <tr>\n",
              "      <th>D</th>\n",
              "      <td>False</td>\n",
              "      <td>False</td>\n",
              "      <td>False</td>\n",
              "      <td>False</td>\n",
              "    </tr>\n",
              "    <tr>\n",
              "      <th>E</th>\n",
              "      <td>False</td>\n",
              "      <td>True</td>\n",
              "      <td>True</td>\n",
              "      <td>False</td>\n",
              "    </tr>\n",
              "  </tbody>\n",
              "</table>\n",
              "</div>"
            ],
            "text/plain": [
              "       W      X      Y      Z\n",
              "A  False   True  False   True\n",
              "B   True   True  False   True\n",
              "C   True   True   True   True\n",
              "D  False  False  False  False\n",
              "E  False   True   True  False"
            ]
          },
          "metadata": {
            "tags": []
          },
          "execution_count": 27
        }
      ]
    },
    {
      "cell_type": "code",
      "metadata": {
        "id": "HL1wCNesNPa0",
        "colab_type": "code",
        "outputId": "4dd703a9-27e6-4fbb-f8c7-af5c655c1c00",
        "colab": {
          "base_uri": "https://localhost:8080/",
          "height": 202
        }
      },
      "source": [
        "df[df>0] #create the entire DataFrame with conditional selection"
      ],
      "execution_count": 0,
      "outputs": [
        {
          "output_type": "execute_result",
          "data": {
            "text/html": [
              "<div>\n",
              "<style scoped>\n",
              "    .dataframe tbody tr th:only-of-type {\n",
              "        vertical-align: middle;\n",
              "    }\n",
              "\n",
              "    .dataframe tbody tr th {\n",
              "        vertical-align: top;\n",
              "    }\n",
              "\n",
              "    .dataframe thead th {\n",
              "        text-align: right;\n",
              "    }\n",
              "</style>\n",
              "<table border=\"1\" class=\"dataframe\">\n",
              "  <thead>\n",
              "    <tr style=\"text-align: right;\">\n",
              "      <th></th>\n",
              "      <th>W</th>\n",
              "      <th>X</th>\n",
              "      <th>Y</th>\n",
              "      <th>Z</th>\n",
              "    </tr>\n",
              "  </thead>\n",
              "  <tbody>\n",
              "    <tr>\n",
              "      <th>A</th>\n",
              "      <td>NaN</td>\n",
              "      <td>0.412272</td>\n",
              "      <td>NaN</td>\n",
              "      <td>1.148645</td>\n",
              "    </tr>\n",
              "    <tr>\n",
              "      <th>B</th>\n",
              "      <td>0.809923</td>\n",
              "      <td>0.213892</td>\n",
              "      <td>NaN</td>\n",
              "      <td>1.415942</td>\n",
              "    </tr>\n",
              "    <tr>\n",
              "      <th>C</th>\n",
              "      <td>1.543218</td>\n",
              "      <td>0.017864</td>\n",
              "      <td>0.167067</td>\n",
              "      <td>0.424226</td>\n",
              "    </tr>\n",
              "    <tr>\n",
              "      <th>D</th>\n",
              "      <td>NaN</td>\n",
              "      <td>NaN</td>\n",
              "      <td>NaN</td>\n",
              "      <td>NaN</td>\n",
              "    </tr>\n",
              "    <tr>\n",
              "      <th>E</th>\n",
              "      <td>NaN</td>\n",
              "      <td>1.338293</td>\n",
              "      <td>0.005981</td>\n",
              "      <td>NaN</td>\n",
              "    </tr>\n",
              "  </tbody>\n",
              "</table>\n",
              "</div>"
            ],
            "text/plain": [
              "          W         X         Y         Z\n",
              "A       NaN  0.412272       NaN  1.148645\n",
              "B  0.809923  0.213892       NaN  1.415942\n",
              "C  1.543218  0.017864  0.167067  0.424226\n",
              "D       NaN       NaN       NaN       NaN\n",
              "E       NaN  1.338293  0.005981       NaN"
            ]
          },
          "metadata": {
            "tags": []
          },
          "execution_count": 28
        }
      ]
    },
    {
      "cell_type": "code",
      "metadata": {
        "id": "7F4V3UcNNSV0",
        "colab_type": "code",
        "outputId": "191d532d-e41b-4489-eecb-6aa854635751",
        "colab": {
          "base_uri": "https://localhost:8080/",
          "height": 121
        }
      },
      "source": [
        "df['W']>0 #yield bool series"
      ],
      "execution_count": 0,
      "outputs": [
        {
          "output_type": "execute_result",
          "data": {
            "text/plain": [
              "A    False\n",
              "B     True\n",
              "C     True\n",
              "D    False\n",
              "E    False\n",
              "Name: W, dtype: bool"
            ]
          },
          "metadata": {
            "tags": []
          },
          "execution_count": 29
        }
      ]
    },
    {
      "cell_type": "code",
      "metadata": {
        "id": "rQfaPkpSNZta",
        "colab_type": "code",
        "outputId": "2b837521-d409-4319-9fe9-20e77776c35e",
        "colab": {
          "base_uri": "https://localhost:8080/",
          "height": 110
        }
      },
      "source": [
        "df[df['W']>0] #only display rows that meet the condition"
      ],
      "execution_count": 0,
      "outputs": [
        {
          "output_type": "execute_result",
          "data": {
            "text/html": [
              "<div>\n",
              "<style scoped>\n",
              "    .dataframe tbody tr th:only-of-type {\n",
              "        vertical-align: middle;\n",
              "    }\n",
              "\n",
              "    .dataframe tbody tr th {\n",
              "        vertical-align: top;\n",
              "    }\n",
              "\n",
              "    .dataframe thead th {\n",
              "        text-align: right;\n",
              "    }\n",
              "</style>\n",
              "<table border=\"1\" class=\"dataframe\">\n",
              "  <thead>\n",
              "    <tr style=\"text-align: right;\">\n",
              "      <th></th>\n",
              "      <th>W</th>\n",
              "      <th>X</th>\n",
              "      <th>Y</th>\n",
              "      <th>Z</th>\n",
              "    </tr>\n",
              "  </thead>\n",
              "  <tbody>\n",
              "    <tr>\n",
              "      <th>B</th>\n",
              "      <td>0.809923</td>\n",
              "      <td>0.213892</td>\n",
              "      <td>-0.386341</td>\n",
              "      <td>1.415942</td>\n",
              "    </tr>\n",
              "    <tr>\n",
              "      <th>C</th>\n",
              "      <td>1.543218</td>\n",
              "      <td>0.017864</td>\n",
              "      <td>0.167067</td>\n",
              "      <td>0.424226</td>\n",
              "    </tr>\n",
              "  </tbody>\n",
              "</table>\n",
              "</div>"
            ],
            "text/plain": [
              "          W         X         Y         Z\n",
              "B  0.809923  0.213892 -0.386341  1.415942\n",
              "C  1.543218  0.017864  0.167067  0.424226"
            ]
          },
          "metadata": {
            "tags": []
          },
          "execution_count": 30
        }
      ]
    },
    {
      "cell_type": "code",
      "metadata": {
        "id": "MmuQtmbpNlux",
        "colab_type": "code",
        "outputId": "1de1656a-611d-44b7-f529-4168bfead8e7",
        "colab": {
          "base_uri": "https://localhost:8080/",
          "height": 110
        }
      },
      "source": [
        "df[df['Z']<0]"
      ],
      "execution_count": 0,
      "outputs": [
        {
          "output_type": "execute_result",
          "data": {
            "text/html": [
              "<div>\n",
              "<style scoped>\n",
              "    .dataframe tbody tr th:only-of-type {\n",
              "        vertical-align: middle;\n",
              "    }\n",
              "\n",
              "    .dataframe tbody tr th {\n",
              "        vertical-align: top;\n",
              "    }\n",
              "\n",
              "    .dataframe thead th {\n",
              "        text-align: right;\n",
              "    }\n",
              "</style>\n",
              "<table border=\"1\" class=\"dataframe\">\n",
              "  <thead>\n",
              "    <tr style=\"text-align: right;\">\n",
              "      <th></th>\n",
              "      <th>W</th>\n",
              "      <th>X</th>\n",
              "      <th>Y</th>\n",
              "      <th>Z</th>\n",
              "    </tr>\n",
              "  </thead>\n",
              "  <tbody>\n",
              "    <tr>\n",
              "      <th>D</th>\n",
              "      <td>-1.430443</td>\n",
              "      <td>-1.283506</td>\n",
              "      <td>-0.123416</td>\n",
              "      <td>-0.065747</td>\n",
              "    </tr>\n",
              "    <tr>\n",
              "      <th>E</th>\n",
              "      <td>-0.736882</td>\n",
              "      <td>1.338293</td>\n",
              "      <td>0.005981</td>\n",
              "      <td>-0.379174</td>\n",
              "    </tr>\n",
              "  </tbody>\n",
              "</table>\n",
              "</div>"
            ],
            "text/plain": [
              "          W         X         Y         Z\n",
              "D -1.430443 -1.283506 -0.123416 -0.065747\n",
              "E -0.736882  1.338293  0.005981 -0.379174"
            ]
          },
          "metadata": {
            "tags": []
          },
          "execution_count": 31
        }
      ]
    },
    {
      "cell_type": "code",
      "metadata": {
        "id": "uQyI8s12O6vE",
        "colab_type": "code",
        "outputId": "62fc4bb7-1f95-43ad-a962-9432eee5b8e0",
        "colab": {
          "base_uri": "https://localhost:8080/",
          "height": 141
        }
      },
      "source": [
        "df[(df['Z']>0) & (df['X']>0)] #muliple conditions can be checked with & (and) or | (or)"
      ],
      "execution_count": 0,
      "outputs": [
        {
          "output_type": "execute_result",
          "data": {
            "text/html": [
              "<div>\n",
              "<style scoped>\n",
              "    .dataframe tbody tr th:only-of-type {\n",
              "        vertical-align: middle;\n",
              "    }\n",
              "\n",
              "    .dataframe tbody tr th {\n",
              "        vertical-align: top;\n",
              "    }\n",
              "\n",
              "    .dataframe thead th {\n",
              "        text-align: right;\n",
              "    }\n",
              "</style>\n",
              "<table border=\"1\" class=\"dataframe\">\n",
              "  <thead>\n",
              "    <tr style=\"text-align: right;\">\n",
              "      <th></th>\n",
              "      <th>W</th>\n",
              "      <th>X</th>\n",
              "      <th>Y</th>\n",
              "      <th>Z</th>\n",
              "    </tr>\n",
              "  </thead>\n",
              "  <tbody>\n",
              "    <tr>\n",
              "      <th>A</th>\n",
              "      <td>-0.620021</td>\n",
              "      <td>0.412272</td>\n",
              "      <td>-0.796174</td>\n",
              "      <td>1.148645</td>\n",
              "    </tr>\n",
              "    <tr>\n",
              "      <th>B</th>\n",
              "      <td>0.809923</td>\n",
              "      <td>0.213892</td>\n",
              "      <td>-0.386341</td>\n",
              "      <td>1.415942</td>\n",
              "    </tr>\n",
              "    <tr>\n",
              "      <th>C</th>\n",
              "      <td>1.543218</td>\n",
              "      <td>0.017864</td>\n",
              "      <td>0.167067</td>\n",
              "      <td>0.424226</td>\n",
              "    </tr>\n",
              "  </tbody>\n",
              "</table>\n",
              "</div>"
            ],
            "text/plain": [
              "          W         X         Y         Z\n",
              "A -0.620021  0.412272 -0.796174  1.148645\n",
              "B  0.809923  0.213892 -0.386341  1.415942\n",
              "C  1.543218  0.017864  0.167067  0.424226"
            ]
          },
          "metadata": {
            "tags": []
          },
          "execution_count": 36
        }
      ]
    },
    {
      "cell_type": "code",
      "metadata": {
        "id": "4ZL8mlkgPuo1",
        "colab_type": "code",
        "outputId": "e01dba19-9969-4266-9c41-76727e5d77e8",
        "colab": {
          "base_uri": "https://localhost:8080/",
          "height": 172
        }
      },
      "source": [
        "df[(df['Z']>0) | (df['X']>0)]  #muliple conditions can be checked with & (and) or | (or)"
      ],
      "execution_count": 0,
      "outputs": [
        {
          "output_type": "execute_result",
          "data": {
            "text/html": [
              "<div>\n",
              "<style scoped>\n",
              "    .dataframe tbody tr th:only-of-type {\n",
              "        vertical-align: middle;\n",
              "    }\n",
              "\n",
              "    .dataframe tbody tr th {\n",
              "        vertical-align: top;\n",
              "    }\n",
              "\n",
              "    .dataframe thead th {\n",
              "        text-align: right;\n",
              "    }\n",
              "</style>\n",
              "<table border=\"1\" class=\"dataframe\">\n",
              "  <thead>\n",
              "    <tr style=\"text-align: right;\">\n",
              "      <th></th>\n",
              "      <th>W</th>\n",
              "      <th>X</th>\n",
              "      <th>Y</th>\n",
              "      <th>Z</th>\n",
              "    </tr>\n",
              "  </thead>\n",
              "  <tbody>\n",
              "    <tr>\n",
              "      <th>A</th>\n",
              "      <td>-0.620021</td>\n",
              "      <td>0.412272</td>\n",
              "      <td>-0.796174</td>\n",
              "      <td>1.148645</td>\n",
              "    </tr>\n",
              "    <tr>\n",
              "      <th>B</th>\n",
              "      <td>0.809923</td>\n",
              "      <td>0.213892</td>\n",
              "      <td>-0.386341</td>\n",
              "      <td>1.415942</td>\n",
              "    </tr>\n",
              "    <tr>\n",
              "      <th>C</th>\n",
              "      <td>1.543218</td>\n",
              "      <td>0.017864</td>\n",
              "      <td>0.167067</td>\n",
              "      <td>0.424226</td>\n",
              "    </tr>\n",
              "    <tr>\n",
              "      <th>E</th>\n",
              "      <td>-0.736882</td>\n",
              "      <td>1.338293</td>\n",
              "      <td>0.005981</td>\n",
              "      <td>-0.379174</td>\n",
              "    </tr>\n",
              "  </tbody>\n",
              "</table>\n",
              "</div>"
            ],
            "text/plain": [
              "          W         X         Y         Z\n",
              "A -0.620021  0.412272 -0.796174  1.148645\n",
              "B  0.809923  0.213892 -0.386341  1.415942\n",
              "C  1.543218  0.017864  0.167067  0.424226\n",
              "E -0.736882  1.338293  0.005981 -0.379174"
            ]
          },
          "metadata": {
            "tags": []
          },
          "execution_count": 37
        }
      ]
    },
    {
      "cell_type": "code",
      "metadata": {
        "id": "FMdVhk0bQKPV",
        "colab_type": "code",
        "outputId": "d3ffbe33-5051-4cf8-de5b-975a2aca8557",
        "colab": {
          "base_uri": "https://localhost:8080/",
          "height": 202
        }
      },
      "source": [
        "df.reset_index() # index reset to numerical index (inplace = True to save it) "
      ],
      "execution_count": 0,
      "outputs": [
        {
          "output_type": "execute_result",
          "data": {
            "text/html": [
              "<div>\n",
              "<style scoped>\n",
              "    .dataframe tbody tr th:only-of-type {\n",
              "        vertical-align: middle;\n",
              "    }\n",
              "\n",
              "    .dataframe tbody tr th {\n",
              "        vertical-align: top;\n",
              "    }\n",
              "\n",
              "    .dataframe thead th {\n",
              "        text-align: right;\n",
              "    }\n",
              "</style>\n",
              "<table border=\"1\" class=\"dataframe\">\n",
              "  <thead>\n",
              "    <tr style=\"text-align: right;\">\n",
              "      <th></th>\n",
              "      <th>index</th>\n",
              "      <th>W</th>\n",
              "      <th>X</th>\n",
              "      <th>Y</th>\n",
              "      <th>Z</th>\n",
              "    </tr>\n",
              "  </thead>\n",
              "  <tbody>\n",
              "    <tr>\n",
              "      <th>0</th>\n",
              "      <td>A</td>\n",
              "      <td>-0.620021</td>\n",
              "      <td>0.412272</td>\n",
              "      <td>-0.796174</td>\n",
              "      <td>1.148645</td>\n",
              "    </tr>\n",
              "    <tr>\n",
              "      <th>1</th>\n",
              "      <td>B</td>\n",
              "      <td>0.809923</td>\n",
              "      <td>0.213892</td>\n",
              "      <td>-0.386341</td>\n",
              "      <td>1.415942</td>\n",
              "    </tr>\n",
              "    <tr>\n",
              "      <th>2</th>\n",
              "      <td>C</td>\n",
              "      <td>1.543218</td>\n",
              "      <td>0.017864</td>\n",
              "      <td>0.167067</td>\n",
              "      <td>0.424226</td>\n",
              "    </tr>\n",
              "    <tr>\n",
              "      <th>3</th>\n",
              "      <td>D</td>\n",
              "      <td>-1.430443</td>\n",
              "      <td>-1.283506</td>\n",
              "      <td>-0.123416</td>\n",
              "      <td>-0.065747</td>\n",
              "    </tr>\n",
              "    <tr>\n",
              "      <th>4</th>\n",
              "      <td>E</td>\n",
              "      <td>-0.736882</td>\n",
              "      <td>1.338293</td>\n",
              "      <td>0.005981</td>\n",
              "      <td>-0.379174</td>\n",
              "    </tr>\n",
              "  </tbody>\n",
              "</table>\n",
              "</div>"
            ],
            "text/plain": [
              "  index         W         X         Y         Z\n",
              "0     A -0.620021  0.412272 -0.796174  1.148645\n",
              "1     B  0.809923  0.213892 -0.386341  1.415942\n",
              "2     C  1.543218  0.017864  0.167067  0.424226\n",
              "3     D -1.430443 -1.283506 -0.123416 -0.065747\n",
              "4     E -0.736882  1.338293  0.005981 -0.379174"
            ]
          },
          "metadata": {
            "tags": []
          },
          "execution_count": 38
        }
      ]
    },
    {
      "cell_type": "code",
      "metadata": {
        "id": "lEruBgaCpIrz",
        "colab_type": "code",
        "outputId": "97bb62fa-8a8e-4599-b532-42e8a7bb311c",
        "colab": {
          "base_uri": "https://localhost:8080/",
          "height": 202
        }
      },
      "source": [
        "df"
      ],
      "execution_count": 0,
      "outputs": [
        {
          "output_type": "execute_result",
          "data": {
            "text/html": [
              "<div>\n",
              "<style scoped>\n",
              "    .dataframe tbody tr th:only-of-type {\n",
              "        vertical-align: middle;\n",
              "    }\n",
              "\n",
              "    .dataframe tbody tr th {\n",
              "        vertical-align: top;\n",
              "    }\n",
              "\n",
              "    .dataframe thead th {\n",
              "        text-align: right;\n",
              "    }\n",
              "</style>\n",
              "<table border=\"1\" class=\"dataframe\">\n",
              "  <thead>\n",
              "    <tr style=\"text-align: right;\">\n",
              "      <th></th>\n",
              "      <th>W</th>\n",
              "      <th>X</th>\n",
              "      <th>Y</th>\n",
              "      <th>Z</th>\n",
              "    </tr>\n",
              "  </thead>\n",
              "  <tbody>\n",
              "    <tr>\n",
              "      <th>A</th>\n",
              "      <td>-0.620021</td>\n",
              "      <td>0.412272</td>\n",
              "      <td>-0.796174</td>\n",
              "      <td>1.148645</td>\n",
              "    </tr>\n",
              "    <tr>\n",
              "      <th>B</th>\n",
              "      <td>0.809923</td>\n",
              "      <td>0.213892</td>\n",
              "      <td>-0.386341</td>\n",
              "      <td>1.415942</td>\n",
              "    </tr>\n",
              "    <tr>\n",
              "      <th>C</th>\n",
              "      <td>1.543218</td>\n",
              "      <td>0.017864</td>\n",
              "      <td>0.167067</td>\n",
              "      <td>0.424226</td>\n",
              "    </tr>\n",
              "    <tr>\n",
              "      <th>D</th>\n",
              "      <td>-1.430443</td>\n",
              "      <td>-1.283506</td>\n",
              "      <td>-0.123416</td>\n",
              "      <td>-0.065747</td>\n",
              "    </tr>\n",
              "    <tr>\n",
              "      <th>E</th>\n",
              "      <td>-0.736882</td>\n",
              "      <td>1.338293</td>\n",
              "      <td>0.005981</td>\n",
              "      <td>-0.379174</td>\n",
              "    </tr>\n",
              "  </tbody>\n",
              "</table>\n",
              "</div>"
            ],
            "text/plain": [
              "          W         X         Y         Z\n",
              "A -0.620021  0.412272 -0.796174  1.148645\n",
              "B  0.809923  0.213892 -0.386341  1.415942\n",
              "C  1.543218  0.017864  0.167067  0.424226\n",
              "D -1.430443 -1.283506 -0.123416 -0.065747\n",
              "E -0.736882  1.338293  0.005981 -0.379174"
            ]
          },
          "metadata": {
            "tags": []
          },
          "execution_count": 39
        }
      ]
    },
    {
      "cell_type": "code",
      "metadata": {
        "id": "2DBMbVClQXbv",
        "colab_type": "code",
        "outputId": "02a21b2d-24af-4600-8adc-30e825d91451",
        "colab": {
          "base_uri": "https://localhost:8080/",
          "height": 202
        }
      },
      "source": [
        "newind = 'CA NY WY OR CO'.split()\n",
        "df['States'] = newind #add a new column\n",
        "df"
      ],
      "execution_count": 0,
      "outputs": [
        {
          "output_type": "execute_result",
          "data": {
            "text/html": [
              "<div>\n",
              "<style scoped>\n",
              "    .dataframe tbody tr th:only-of-type {\n",
              "        vertical-align: middle;\n",
              "    }\n",
              "\n",
              "    .dataframe tbody tr th {\n",
              "        vertical-align: top;\n",
              "    }\n",
              "\n",
              "    .dataframe thead th {\n",
              "        text-align: right;\n",
              "    }\n",
              "</style>\n",
              "<table border=\"1\" class=\"dataframe\">\n",
              "  <thead>\n",
              "    <tr style=\"text-align: right;\">\n",
              "      <th></th>\n",
              "      <th>W</th>\n",
              "      <th>X</th>\n",
              "      <th>Y</th>\n",
              "      <th>Z</th>\n",
              "      <th>States</th>\n",
              "    </tr>\n",
              "  </thead>\n",
              "  <tbody>\n",
              "    <tr>\n",
              "      <th>A</th>\n",
              "      <td>-0.620021</td>\n",
              "      <td>0.412272</td>\n",
              "      <td>-0.796174</td>\n",
              "      <td>1.148645</td>\n",
              "      <td>CA</td>\n",
              "    </tr>\n",
              "    <tr>\n",
              "      <th>B</th>\n",
              "      <td>0.809923</td>\n",
              "      <td>0.213892</td>\n",
              "      <td>-0.386341</td>\n",
              "      <td>1.415942</td>\n",
              "      <td>NY</td>\n",
              "    </tr>\n",
              "    <tr>\n",
              "      <th>C</th>\n",
              "      <td>1.543218</td>\n",
              "      <td>0.017864</td>\n",
              "      <td>0.167067</td>\n",
              "      <td>0.424226</td>\n",
              "      <td>WY</td>\n",
              "    </tr>\n",
              "    <tr>\n",
              "      <th>D</th>\n",
              "      <td>-1.430443</td>\n",
              "      <td>-1.283506</td>\n",
              "      <td>-0.123416</td>\n",
              "      <td>-0.065747</td>\n",
              "      <td>OR</td>\n",
              "    </tr>\n",
              "    <tr>\n",
              "      <th>E</th>\n",
              "      <td>-0.736882</td>\n",
              "      <td>1.338293</td>\n",
              "      <td>0.005981</td>\n",
              "      <td>-0.379174</td>\n",
              "      <td>CO</td>\n",
              "    </tr>\n",
              "  </tbody>\n",
              "</table>\n",
              "</div>"
            ],
            "text/plain": [
              "          W         X         Y         Z States\n",
              "A -0.620021  0.412272 -0.796174  1.148645     CA\n",
              "B  0.809923  0.213892 -0.386341  1.415942     NY\n",
              "C  1.543218  0.017864  0.167067  0.424226     WY\n",
              "D -1.430443 -1.283506 -0.123416 -0.065747     OR\n",
              "E -0.736882  1.338293  0.005981 -0.379174     CO"
            ]
          },
          "metadata": {
            "tags": []
          },
          "execution_count": 41
        }
      ]
    },
    {
      "cell_type": "code",
      "metadata": {
        "id": "wBBKKLsQQ6Tz",
        "colab_type": "code",
        "outputId": "a2a77d00-ad51-43b5-cea4-1d1e699db595",
        "colab": {
          "base_uri": "https://localhost:8080/",
          "height": 233
        }
      },
      "source": [
        "df.set_index('States') #set 'States' as the index (inplace = True to save it) "
      ],
      "execution_count": 0,
      "outputs": [
        {
          "output_type": "execute_result",
          "data": {
            "text/html": [
              "<div>\n",
              "<style scoped>\n",
              "    .dataframe tbody tr th:only-of-type {\n",
              "        vertical-align: middle;\n",
              "    }\n",
              "\n",
              "    .dataframe tbody tr th {\n",
              "        vertical-align: top;\n",
              "    }\n",
              "\n",
              "    .dataframe thead th {\n",
              "        text-align: right;\n",
              "    }\n",
              "</style>\n",
              "<table border=\"1\" class=\"dataframe\">\n",
              "  <thead>\n",
              "    <tr style=\"text-align: right;\">\n",
              "      <th></th>\n",
              "      <th>W</th>\n",
              "      <th>X</th>\n",
              "      <th>Y</th>\n",
              "      <th>Z</th>\n",
              "    </tr>\n",
              "    <tr>\n",
              "      <th>States</th>\n",
              "      <th></th>\n",
              "      <th></th>\n",
              "      <th></th>\n",
              "      <th></th>\n",
              "    </tr>\n",
              "  </thead>\n",
              "  <tbody>\n",
              "    <tr>\n",
              "      <th>CA</th>\n",
              "      <td>-0.620021</td>\n",
              "      <td>0.412272</td>\n",
              "      <td>-0.796174</td>\n",
              "      <td>1.148645</td>\n",
              "    </tr>\n",
              "    <tr>\n",
              "      <th>NY</th>\n",
              "      <td>0.809923</td>\n",
              "      <td>0.213892</td>\n",
              "      <td>-0.386341</td>\n",
              "      <td>1.415942</td>\n",
              "    </tr>\n",
              "    <tr>\n",
              "      <th>WY</th>\n",
              "      <td>1.543218</td>\n",
              "      <td>0.017864</td>\n",
              "      <td>0.167067</td>\n",
              "      <td>0.424226</td>\n",
              "    </tr>\n",
              "    <tr>\n",
              "      <th>OR</th>\n",
              "      <td>-1.430443</td>\n",
              "      <td>-1.283506</td>\n",
              "      <td>-0.123416</td>\n",
              "      <td>-0.065747</td>\n",
              "    </tr>\n",
              "    <tr>\n",
              "      <th>CO</th>\n",
              "      <td>-0.736882</td>\n",
              "      <td>1.338293</td>\n",
              "      <td>0.005981</td>\n",
              "      <td>-0.379174</td>\n",
              "    </tr>\n",
              "  </tbody>\n",
              "</table>\n",
              "</div>"
            ],
            "text/plain": [
              "               W         X         Y         Z\n",
              "States                                        \n",
              "CA     -0.620021  0.412272 -0.796174  1.148645\n",
              "NY      0.809923  0.213892 -0.386341  1.415942\n",
              "WY      1.543218  0.017864  0.167067  0.424226\n",
              "OR     -1.430443 -1.283506 -0.123416 -0.065747\n",
              "CO     -0.736882  1.338293  0.005981 -0.379174"
            ]
          },
          "metadata": {
            "tags": []
          },
          "execution_count": 42
        }
      ]
    },
    {
      "cell_type": "markdown",
      "metadata": {
        "id": "oVjP-o6_usg3",
        "colab_type": "text"
      },
      "source": [
        "###**2.4 Missing Data**\n",
        "* df.fillna()\n",
        "* df.dropna()"
      ]
    },
    {
      "cell_type": "code",
      "metadata": {
        "id": "wmuA-q5Eu46x",
        "colab_type": "code",
        "outputId": "c987827f-9474-49c5-9397-cd6ac73c5f48",
        "colab": {
          "base_uri": "https://localhost:8080/",
          "height": 172
        }
      },
      "source": [
        "#create a data frame from dictionary\n",
        "d = {'A':[1,2,np.nan,8],'B':[5,np.nan,np.nan,2],'C':[1,2,np.nan,3],'D':[np.nan,6,3,2]}\n",
        "df=pd.DataFrame(d)\n",
        "df"
      ],
      "execution_count": 0,
      "outputs": [
        {
          "output_type": "execute_result",
          "data": {
            "text/html": [
              "<div>\n",
              "<style scoped>\n",
              "    .dataframe tbody tr th:only-of-type {\n",
              "        vertical-align: middle;\n",
              "    }\n",
              "\n",
              "    .dataframe tbody tr th {\n",
              "        vertical-align: top;\n",
              "    }\n",
              "\n",
              "    .dataframe thead th {\n",
              "        text-align: right;\n",
              "    }\n",
              "</style>\n",
              "<table border=\"1\" class=\"dataframe\">\n",
              "  <thead>\n",
              "    <tr style=\"text-align: right;\">\n",
              "      <th></th>\n",
              "      <th>A</th>\n",
              "      <th>B</th>\n",
              "      <th>C</th>\n",
              "      <th>D</th>\n",
              "    </tr>\n",
              "  </thead>\n",
              "  <tbody>\n",
              "    <tr>\n",
              "      <th>0</th>\n",
              "      <td>1.0</td>\n",
              "      <td>5.0</td>\n",
              "      <td>1.0</td>\n",
              "      <td>NaN</td>\n",
              "    </tr>\n",
              "    <tr>\n",
              "      <th>1</th>\n",
              "      <td>2.0</td>\n",
              "      <td>NaN</td>\n",
              "      <td>2.0</td>\n",
              "      <td>6.0</td>\n",
              "    </tr>\n",
              "    <tr>\n",
              "      <th>2</th>\n",
              "      <td>NaN</td>\n",
              "      <td>NaN</td>\n",
              "      <td>NaN</td>\n",
              "      <td>3.0</td>\n",
              "    </tr>\n",
              "    <tr>\n",
              "      <th>3</th>\n",
              "      <td>8.0</td>\n",
              "      <td>2.0</td>\n",
              "      <td>3.0</td>\n",
              "      <td>2.0</td>\n",
              "    </tr>\n",
              "  </tbody>\n",
              "</table>\n",
              "</div>"
            ],
            "text/plain": [
              "     A    B    C    D\n",
              "0  1.0  5.0  1.0  NaN\n",
              "1  2.0  NaN  2.0  6.0\n",
              "2  NaN  NaN  NaN  3.0\n",
              "3  8.0  2.0  3.0  2.0"
            ]
          },
          "metadata": {
            "tags": []
          },
          "execution_count": 92
        }
      ]
    },
    {
      "cell_type": "code",
      "metadata": {
        "id": "2A2xUMokvlsf",
        "colab_type": "code",
        "outputId": "53687dc8-876c-4596-e488-8e48e1efabb2",
        "colab": {
          "base_uri": "https://localhost:8080/",
          "height": 172
        }
      },
      "source": [
        "#fill value\n",
        "df.fillna(value=0) #inplace=True to keep the value"
      ],
      "execution_count": 0,
      "outputs": [
        {
          "output_type": "execute_result",
          "data": {
            "text/html": [
              "<div>\n",
              "<style scoped>\n",
              "    .dataframe tbody tr th:only-of-type {\n",
              "        vertical-align: middle;\n",
              "    }\n",
              "\n",
              "    .dataframe tbody tr th {\n",
              "        vertical-align: top;\n",
              "    }\n",
              "\n",
              "    .dataframe thead th {\n",
              "        text-align: right;\n",
              "    }\n",
              "</style>\n",
              "<table border=\"1\" class=\"dataframe\">\n",
              "  <thead>\n",
              "    <tr style=\"text-align: right;\">\n",
              "      <th></th>\n",
              "      <th>A</th>\n",
              "      <th>B</th>\n",
              "      <th>C</th>\n",
              "      <th>D</th>\n",
              "    </tr>\n",
              "  </thead>\n",
              "  <tbody>\n",
              "    <tr>\n",
              "      <th>0</th>\n",
              "      <td>1.0</td>\n",
              "      <td>5.0</td>\n",
              "      <td>1.0</td>\n",
              "      <td>0.0</td>\n",
              "    </tr>\n",
              "    <tr>\n",
              "      <th>1</th>\n",
              "      <td>2.0</td>\n",
              "      <td>0.0</td>\n",
              "      <td>2.0</td>\n",
              "      <td>6.0</td>\n",
              "    </tr>\n",
              "    <tr>\n",
              "      <th>2</th>\n",
              "      <td>0.0</td>\n",
              "      <td>0.0</td>\n",
              "      <td>0.0</td>\n",
              "      <td>3.0</td>\n",
              "    </tr>\n",
              "    <tr>\n",
              "      <th>3</th>\n",
              "      <td>8.0</td>\n",
              "      <td>2.0</td>\n",
              "      <td>3.0</td>\n",
              "      <td>2.0</td>\n",
              "    </tr>\n",
              "  </tbody>\n",
              "</table>\n",
              "</div>"
            ],
            "text/plain": [
              "     A    B    C    D\n",
              "0  1.0  5.0  1.0  0.0\n",
              "1  2.0  0.0  2.0  6.0\n",
              "2  0.0  0.0  0.0  3.0\n",
              "3  8.0  2.0  3.0  2.0"
            ]
          },
          "metadata": {
            "tags": []
          },
          "execution_count": 85
        }
      ]
    },
    {
      "cell_type": "code",
      "metadata": {
        "id": "XzfRK0DWsUvj",
        "colab_type": "code",
        "outputId": "24f61f4a-3ea1-48b1-d7b4-dbd1aba20ad7",
        "colab": {
          "base_uri": "https://localhost:8080/",
          "height": 172
        }
      },
      "source": [
        "#fill method, method = bfill/backfill, ffill/pad\n",
        "df.fillna(method='bfill')"
      ],
      "execution_count": 0,
      "outputs": [
        {
          "output_type": "execute_result",
          "data": {
            "text/html": [
              "<div>\n",
              "<style scoped>\n",
              "    .dataframe tbody tr th:only-of-type {\n",
              "        vertical-align: middle;\n",
              "    }\n",
              "\n",
              "    .dataframe tbody tr th {\n",
              "        vertical-align: top;\n",
              "    }\n",
              "\n",
              "    .dataframe thead th {\n",
              "        text-align: right;\n",
              "    }\n",
              "</style>\n",
              "<table border=\"1\" class=\"dataframe\">\n",
              "  <thead>\n",
              "    <tr style=\"text-align: right;\">\n",
              "      <th></th>\n",
              "      <th>A</th>\n",
              "      <th>B</th>\n",
              "      <th>C</th>\n",
              "      <th>D</th>\n",
              "    </tr>\n",
              "  </thead>\n",
              "  <tbody>\n",
              "    <tr>\n",
              "      <th>0</th>\n",
              "      <td>1.0</td>\n",
              "      <td>5.0</td>\n",
              "      <td>1.0</td>\n",
              "      <td>NaN</td>\n",
              "    </tr>\n",
              "    <tr>\n",
              "      <th>1</th>\n",
              "      <td>2.0</td>\n",
              "      <td>5.0</td>\n",
              "      <td>2.0</td>\n",
              "      <td>6.0</td>\n",
              "    </tr>\n",
              "    <tr>\n",
              "      <th>2</th>\n",
              "      <td>2.0</td>\n",
              "      <td>5.0</td>\n",
              "      <td>2.0</td>\n",
              "      <td>3.0</td>\n",
              "    </tr>\n",
              "    <tr>\n",
              "      <th>3</th>\n",
              "      <td>8.0</td>\n",
              "      <td>2.0</td>\n",
              "      <td>3.0</td>\n",
              "      <td>2.0</td>\n",
              "    </tr>\n",
              "  </tbody>\n",
              "</table>\n",
              "</div>"
            ],
            "text/plain": [
              "     A    B    C    D\n",
              "0  1.0  5.0  1.0  NaN\n",
              "1  2.0  5.0  2.0  6.0\n",
              "2  2.0  5.0  2.0  3.0\n",
              "3  8.0  2.0  3.0  2.0"
            ]
          },
          "metadata": {
            "tags": []
          },
          "execution_count": 89
        }
      ]
    },
    {
      "cell_type": "code",
      "metadata": {
        "id": "baMukF85v33s",
        "colab_type": "code",
        "outputId": "f6f21676-e29a-4f5c-f06f-e6a81214f20c",
        "colab": {
          "base_uri": "https://localhost:8080/",
          "height": 172
        }
      },
      "source": [
        "#fill missing values as the mean value of the column\n",
        "df.fillna(value=df.mean())"
      ],
      "execution_count": 0,
      "outputs": [
        {
          "output_type": "execute_result",
          "data": {
            "text/html": [
              "<div>\n",
              "<style scoped>\n",
              "    .dataframe tbody tr th:only-of-type {\n",
              "        vertical-align: middle;\n",
              "    }\n",
              "\n",
              "    .dataframe tbody tr th {\n",
              "        vertical-align: top;\n",
              "    }\n",
              "\n",
              "    .dataframe thead th {\n",
              "        text-align: right;\n",
              "    }\n",
              "</style>\n",
              "<table border=\"1\" class=\"dataframe\">\n",
              "  <thead>\n",
              "    <tr style=\"text-align: right;\">\n",
              "      <th></th>\n",
              "      <th>A</th>\n",
              "      <th>B</th>\n",
              "      <th>C</th>\n",
              "      <th>D</th>\n",
              "    </tr>\n",
              "  </thead>\n",
              "  <tbody>\n",
              "    <tr>\n",
              "      <th>0</th>\n",
              "      <td>1.000000</td>\n",
              "      <td>5.0</td>\n",
              "      <td>1.0</td>\n",
              "      <td>3.666667</td>\n",
              "    </tr>\n",
              "    <tr>\n",
              "      <th>1</th>\n",
              "      <td>2.000000</td>\n",
              "      <td>3.5</td>\n",
              "      <td>2.0</td>\n",
              "      <td>6.000000</td>\n",
              "    </tr>\n",
              "    <tr>\n",
              "      <th>2</th>\n",
              "      <td>3.666667</td>\n",
              "      <td>3.5</td>\n",
              "      <td>2.0</td>\n",
              "      <td>3.000000</td>\n",
              "    </tr>\n",
              "    <tr>\n",
              "      <th>3</th>\n",
              "      <td>8.000000</td>\n",
              "      <td>2.0</td>\n",
              "      <td>3.0</td>\n",
              "      <td>2.000000</td>\n",
              "    </tr>\n",
              "  </tbody>\n",
              "</table>\n",
              "</div>"
            ],
            "text/plain": [
              "          A    B    C         D\n",
              "0  1.000000  5.0  1.0  3.666667\n",
              "1  2.000000  3.5  2.0  6.000000\n",
              "2  3.666667  3.5  2.0  3.000000\n",
              "3  8.000000  2.0  3.0  2.000000"
            ]
          },
          "metadata": {
            "tags": []
          },
          "execution_count": 94
        }
      ]
    },
    {
      "cell_type": "code",
      "metadata": {
        "id": "-ExWIT2kvL_E",
        "colab_type": "code",
        "outputId": "d935db98-d083-457f-bf3f-c9187ee0f560",
        "colab": {
          "base_uri": "https://localhost:8080/",
          "height": 80
        }
      },
      "source": [
        "#drop all NaN values (row)\n",
        "d = {'A':[1,2,np.nan,8],'B':[5,np.nan,np.nan,2],'C':[1,2,np.nan,3],'D':[np.nan,6,3,2]}\n",
        "df=pd.DataFrame(d)\n",
        "df.dropna()"
      ],
      "execution_count": 0,
      "outputs": [
        {
          "output_type": "execute_result",
          "data": {
            "text/html": [
              "<div>\n",
              "<style scoped>\n",
              "    .dataframe tbody tr th:only-of-type {\n",
              "        vertical-align: middle;\n",
              "    }\n",
              "\n",
              "    .dataframe tbody tr th {\n",
              "        vertical-align: top;\n",
              "    }\n",
              "\n",
              "    .dataframe thead th {\n",
              "        text-align: right;\n",
              "    }\n",
              "</style>\n",
              "<table border=\"1\" class=\"dataframe\">\n",
              "  <thead>\n",
              "    <tr style=\"text-align: right;\">\n",
              "      <th></th>\n",
              "      <th>A</th>\n",
              "      <th>B</th>\n",
              "      <th>C</th>\n",
              "      <th>D</th>\n",
              "    </tr>\n",
              "  </thead>\n",
              "  <tbody>\n",
              "    <tr>\n",
              "      <th>3</th>\n",
              "      <td>8.0</td>\n",
              "      <td>2.0</td>\n",
              "      <td>3.0</td>\n",
              "      <td>2.0</td>\n",
              "    </tr>\n",
              "  </tbody>\n",
              "</table>\n",
              "</div>"
            ],
            "text/plain": [
              "     A    B    C    D\n",
              "3  8.0  2.0  3.0  2.0"
            ]
          },
          "metadata": {
            "tags": []
          },
          "execution_count": 95
        }
      ]
    },
    {
      "cell_type": "code",
      "metadata": {
        "id": "s-SdFOjIvY2d",
        "colab_type": "code",
        "outputId": "f1a98e3b-a78e-4742-ff88-3191c541f73f",
        "colab": {
          "base_uri": "https://localhost:8080/",
          "height": 141
        }
      },
      "source": [
        "#drop all NaN with threshold = 2 (drop rows if Nan >= 2 values)\n",
        "df.dropna(thresh=2)"
      ],
      "execution_count": 0,
      "outputs": [
        {
          "output_type": "execute_result",
          "data": {
            "text/html": [
              "<div>\n",
              "<style scoped>\n",
              "    .dataframe tbody tr th:only-of-type {\n",
              "        vertical-align: middle;\n",
              "    }\n",
              "\n",
              "    .dataframe tbody tr th {\n",
              "        vertical-align: top;\n",
              "    }\n",
              "\n",
              "    .dataframe thead th {\n",
              "        text-align: right;\n",
              "    }\n",
              "</style>\n",
              "<table border=\"1\" class=\"dataframe\">\n",
              "  <thead>\n",
              "    <tr style=\"text-align: right;\">\n",
              "      <th></th>\n",
              "      <th>A</th>\n",
              "      <th>B</th>\n",
              "      <th>C</th>\n",
              "      <th>D</th>\n",
              "    </tr>\n",
              "  </thead>\n",
              "  <tbody>\n",
              "    <tr>\n",
              "      <th>0</th>\n",
              "      <td>1.0</td>\n",
              "      <td>5.0</td>\n",
              "      <td>1.0</td>\n",
              "      <td>NaN</td>\n",
              "    </tr>\n",
              "    <tr>\n",
              "      <th>1</th>\n",
              "      <td>2.0</td>\n",
              "      <td>NaN</td>\n",
              "      <td>2.0</td>\n",
              "      <td>6.0</td>\n",
              "    </tr>\n",
              "    <tr>\n",
              "      <th>3</th>\n",
              "      <td>8.0</td>\n",
              "      <td>2.0</td>\n",
              "      <td>3.0</td>\n",
              "      <td>2.0</td>\n",
              "    </tr>\n",
              "  </tbody>\n",
              "</table>\n",
              "</div>"
            ],
            "text/plain": [
              "     A    B    C    D\n",
              "0  1.0  5.0  1.0  NaN\n",
              "1  2.0  NaN  2.0  6.0\n",
              "3  8.0  2.0  3.0  2.0"
            ]
          },
          "metadata": {
            "tags": []
          },
          "execution_count": 99
        }
      ]
    },
    {
      "cell_type": "markdown",
      "metadata": {
        "id": "QcUnS-CDygl5",
        "colab_type": "text"
      },
      "source": [
        "###**2.5 Mergng, Joining and Concastenating**\n",
        "\n",
        "*   pd.concat([df1,df2])/row\n",
        "*   pd.concat([df1,df2],axis=1)/column\n",
        "*   pd.merge(df1,df2,on='datetime',how='outer')/on key\n",
        "*   df1.join(df2)/on index\n",
        "\n",
        "Merge and join need at least one duplicate key/index\n"
      ]
    },
    {
      "cell_type": "markdown",
      "metadata": {
        "id": "qH0i7eWK0-kO",
        "colab_type": "text"
      },
      "source": [
        "##### **(a) concat: adding rows (based on index)**"
      ]
    },
    {
      "cell_type": "code",
      "metadata": {
        "id": "-cClklyIyjqW",
        "colab_type": "code",
        "outputId": "a4c9841b-99a0-406e-9dbc-0da18ff597d4",
        "colab": {
          "base_uri": "https://localhost:8080/",
          "height": 225
        }
      },
      "source": [
        "df1 = pd.DataFrame({'A':['A0','A1','A2','A3'],\n",
        "                    'B':['B0','B1','B2','B3'],\n",
        "                    'C':['C0','C1','C2','C3']},\n",
        "                    index=['2019-01-01 00:00','2019-01-01 01:00','2019-01-01 02:00','2019-01-01 03:00'])\n",
        "df2 = pd.DataFrame({'A':['A4','A5','A6','A7'],\n",
        "                    'B':['B4','B5','B6','B7'],\n",
        "                    'C':['C4','C5','C6','C7']},\n",
        "                    index=['2019-01-01 04:00','2019-01-01 05:00','2019-01-01 06:00','2019-01-01 07:00'])\n",
        "print('-------------df1-------------')\n",
        "print(df1)\n",
        "print('-------------df2-------------')\n",
        "print(df2)"
      ],
      "execution_count": 0,
      "outputs": [
        {
          "output_type": "stream",
          "text": [
            "-------------df1-------------\n",
            "                   A   B   C\n",
            "2019-01-01 00:00  A0  B0  C0\n",
            "2019-01-01 01:00  A1  B1  C1\n",
            "2019-01-01 02:00  A2  B2  C2\n",
            "2019-01-01 03:00  A3  B3  C3\n",
            "-------------df2-------------\n",
            "                   A   B   C\n",
            "2019-01-01 04:00  A4  B4  C4\n",
            "2019-01-01 05:00  A5  B5  C5\n",
            "2019-01-01 06:00  A6  B6  C6\n",
            "2019-01-01 07:00  A7  B7  C7\n"
          ],
          "name": "stdout"
        }
      ]
    },
    {
      "cell_type": "code",
      "metadata": {
        "id": "CopuzD47zXP2",
        "colab_type": "code",
        "outputId": "49aa9395-58a1-4121-ddf4-7446c95197a3",
        "colab": {
          "base_uri": "https://localhost:8080/",
          "height": 294
        }
      },
      "source": [
        "#CONCAT by adding more rows\n",
        "pd.concat([df1,df2])"
      ],
      "execution_count": 0,
      "outputs": [
        {
          "output_type": "execute_result",
          "data": {
            "text/html": [
              "<div>\n",
              "<style scoped>\n",
              "    .dataframe tbody tr th:only-of-type {\n",
              "        vertical-align: middle;\n",
              "    }\n",
              "\n",
              "    .dataframe tbody tr th {\n",
              "        vertical-align: top;\n",
              "    }\n",
              "\n",
              "    .dataframe thead th {\n",
              "        text-align: right;\n",
              "    }\n",
              "</style>\n",
              "<table border=\"1\" class=\"dataframe\">\n",
              "  <thead>\n",
              "    <tr style=\"text-align: right;\">\n",
              "      <th></th>\n",
              "      <th>A</th>\n",
              "      <th>B</th>\n",
              "      <th>C</th>\n",
              "    </tr>\n",
              "  </thead>\n",
              "  <tbody>\n",
              "    <tr>\n",
              "      <th>2019-01-01 00:00</th>\n",
              "      <td>A0</td>\n",
              "      <td>B0</td>\n",
              "      <td>C0</td>\n",
              "    </tr>\n",
              "    <tr>\n",
              "      <th>2019-01-01 01:00</th>\n",
              "      <td>A1</td>\n",
              "      <td>B1</td>\n",
              "      <td>C1</td>\n",
              "    </tr>\n",
              "    <tr>\n",
              "      <th>2019-01-01 02:00</th>\n",
              "      <td>A2</td>\n",
              "      <td>B2</td>\n",
              "      <td>C2</td>\n",
              "    </tr>\n",
              "    <tr>\n",
              "      <th>2019-01-01 03:00</th>\n",
              "      <td>A3</td>\n",
              "      <td>B3</td>\n",
              "      <td>C3</td>\n",
              "    </tr>\n",
              "    <tr>\n",
              "      <th>2019-01-01 04:00</th>\n",
              "      <td>A4</td>\n",
              "      <td>B4</td>\n",
              "      <td>C4</td>\n",
              "    </tr>\n",
              "    <tr>\n",
              "      <th>2019-01-01 05:00</th>\n",
              "      <td>A5</td>\n",
              "      <td>B5</td>\n",
              "      <td>C5</td>\n",
              "    </tr>\n",
              "    <tr>\n",
              "      <th>2019-01-01 06:00</th>\n",
              "      <td>A6</td>\n",
              "      <td>B6</td>\n",
              "      <td>C6</td>\n",
              "    </tr>\n",
              "    <tr>\n",
              "      <th>2019-01-01 07:00</th>\n",
              "      <td>A7</td>\n",
              "      <td>B7</td>\n",
              "      <td>C7</td>\n",
              "    </tr>\n",
              "  </tbody>\n",
              "</table>\n",
              "</div>"
            ],
            "text/plain": [
              "                   A   B   C\n",
              "2019-01-01 00:00  A0  B0  C0\n",
              "2019-01-01 01:00  A1  B1  C1\n",
              "2019-01-01 02:00  A2  B2  C2\n",
              "2019-01-01 03:00  A3  B3  C3\n",
              "2019-01-01 04:00  A4  B4  C4\n",
              "2019-01-01 05:00  A5  B5  C5\n",
              "2019-01-01 06:00  A6  B6  C6\n",
              "2019-01-01 07:00  A7  B7  C7"
            ]
          },
          "metadata": {
            "tags": []
          },
          "execution_count": 118
        }
      ]
    },
    {
      "cell_type": "markdown",
      "metadata": {
        "id": "6mJZA-tm1IM6",
        "colab_type": "text"
      },
      "source": [
        "##### **(b) concat: adding columns (based on index)**"
      ]
    },
    {
      "cell_type": "code",
      "metadata": {
        "id": "Ip6ZUYxb0sww",
        "colab_type": "code",
        "outputId": "d9196062-5025-4545-d24e-4a5ef90934c2",
        "colab": {
          "base_uri": "https://localhost:8080/",
          "height": 208
        }
      },
      "source": [
        "df1 = pd.DataFrame({'A':['A0','A1','A2','A3'],\n",
        "                    'B':['B0','B1','B2','B3'],\n",
        "                    'C':['C0','C1','C2','C3']},\n",
        "                    index=['2019-01-01 00:00','2019-01-01 01:00','2019-01-01 02:00','2019-01-01 03:00'])\n",
        "df2 = pd.DataFrame({'D':['D4','D5','D7']},\n",
        "                    index=['2019-01-01 00:00','2019-01-01 01:00','2019-01-01 03:00'])\n",
        "print('-------------df1-------------')\n",
        "print(df1)\n",
        "print('-------------df2-------------')\n",
        "print(df2)"
      ],
      "execution_count": 0,
      "outputs": [
        {
          "output_type": "stream",
          "text": [
            "-------------df1-------------\n",
            "                   A   B   C\n",
            "2019-01-01 00:00  A0  B0  C0\n",
            "2019-01-01 01:00  A1  B1  C1\n",
            "2019-01-01 02:00  A2  B2  C2\n",
            "2019-01-01 03:00  A3  B3  C3\n",
            "-------------df2-------------\n",
            "                   D\n",
            "2019-01-01 00:00  D4\n",
            "2019-01-01 01:00  D5\n",
            "2019-01-01 03:00  D7\n"
          ],
          "name": "stdout"
        }
      ]
    },
    {
      "cell_type": "code",
      "metadata": {
        "id": "iQ3RymkxzYjq",
        "colab_type": "code",
        "outputId": "8fdd60e6-9f6b-456d-9334-9c2e0c14f83d",
        "colab": {
          "base_uri": "https://localhost:8080/",
          "height": 330
        }
      },
      "source": [
        "#CONCAT by adding more columns\n",
        "pd.concat([df1,df2],axis=1)"
      ],
      "execution_count": 0,
      "outputs": [
        {
          "output_type": "stream",
          "text": [
            "/usr/local/lib/python3.6/dist-packages/ipykernel_launcher.py:1: FutureWarning: Sorting because non-concatenation axis is not aligned. A future version\n",
            "of pandas will change to not sort by default.\n",
            "\n",
            "To accept the future behavior, pass 'sort=False'.\n",
            "\n",
            "To retain the current behavior and silence the warning, pass 'sort=True'.\n",
            "\n",
            "  \"\"\"Entry point for launching an IPython kernel.\n"
          ],
          "name": "stderr"
        },
        {
          "output_type": "execute_result",
          "data": {
            "text/html": [
              "<div>\n",
              "<style scoped>\n",
              "    .dataframe tbody tr th:only-of-type {\n",
              "        vertical-align: middle;\n",
              "    }\n",
              "\n",
              "    .dataframe tbody tr th {\n",
              "        vertical-align: top;\n",
              "    }\n",
              "\n",
              "    .dataframe thead th {\n",
              "        text-align: right;\n",
              "    }\n",
              "</style>\n",
              "<table border=\"1\" class=\"dataframe\">\n",
              "  <thead>\n",
              "    <tr style=\"text-align: right;\">\n",
              "      <th></th>\n",
              "      <th>A</th>\n",
              "      <th>B</th>\n",
              "      <th>C</th>\n",
              "      <th>D</th>\n",
              "    </tr>\n",
              "  </thead>\n",
              "  <tbody>\n",
              "    <tr>\n",
              "      <th>2019-01-01 00:00</th>\n",
              "      <td>A0</td>\n",
              "      <td>B0</td>\n",
              "      <td>C0</td>\n",
              "      <td>D4</td>\n",
              "    </tr>\n",
              "    <tr>\n",
              "      <th>2019-01-01 01:00</th>\n",
              "      <td>A1</td>\n",
              "      <td>B1</td>\n",
              "      <td>C1</td>\n",
              "      <td>D5</td>\n",
              "    </tr>\n",
              "    <tr>\n",
              "      <th>2019-01-01 02:00</th>\n",
              "      <td>A2</td>\n",
              "      <td>B2</td>\n",
              "      <td>C2</td>\n",
              "      <td>NaN</td>\n",
              "    </tr>\n",
              "    <tr>\n",
              "      <th>2019-01-01 03:00</th>\n",
              "      <td>A3</td>\n",
              "      <td>B3</td>\n",
              "      <td>C3</td>\n",
              "      <td>D7</td>\n",
              "    </tr>\n",
              "  </tbody>\n",
              "</table>\n",
              "</div>"
            ],
            "text/plain": [
              "                   A   B   C    D\n",
              "2019-01-01 00:00  A0  B0  C0   D4\n",
              "2019-01-01 01:00  A1  B1  C1   D5\n",
              "2019-01-01 02:00  A2  B2  C2  NaN\n",
              "2019-01-01 03:00  A3  B3  C3   D7"
            ]
          },
          "metadata": {
            "tags": []
          },
          "execution_count": 154
        }
      ]
    },
    {
      "cell_type": "markdown",
      "metadata": {
        "id": "FqEpNgsV2HIA",
        "colab_type": "text"
      },
      "source": [
        "##### **(c) Merge (on key)**\n",
        "\n",
        "merging on the same 'key' column that two dataframes share\n",
        "\n",
        "**how :** {‘left’, ‘right’, ‘outer’, ‘inner’}, default ‘inner’\n",
        "Type of merge to be performed.\n",
        "\n",
        "\n",
        "*   left: use only keys from left frame, similar to a SQL left outer join; preserve key order.\n",
        "* right: use only keys from right frame, similar to a SQL right outer join; preserve key order.\n",
        "* outer: use union of keys from both frames, similar to a SQL full outer join; sort keys lexicographically.\n",
        "* inner: use intersection of keys from both frames, similar to a SQL inner join; preserve the order of the left keys."
      ]
    },
    {
      "cell_type": "code",
      "metadata": {
        "id": "ZTAq04O51mvg",
        "colab_type": "code",
        "outputId": "8bd46815-62f9-432c-cc99-792f2d4b8609",
        "colab": {
          "base_uri": "https://localhost:8080/",
          "height": 208
        }
      },
      "source": [
        "df1 = pd.DataFrame({'datetime':['2019-01-01 00:00','2019-01-01 01:00','2019-01-01 02:00','2019-01-01 03:00'],\n",
        "                    'A':['A0','A1','A2','A3'],\n",
        "                    'B':['B0','B1','B2','B3'],\n",
        "                    'C':['C0','C1','C2','C3']}\n",
        "                    )\n",
        "df2 = pd.DataFrame({'datetime':['2019-01-01 00:00','2019-01-01 01:00','2019-01-01 03:00'],\n",
        "                    'D':['D4','D5','D7']}\n",
        "                   )\n",
        "print('-------------df1-------------')\n",
        "print(df1)\n",
        "print('-------------df2-------------')\n",
        "print(df2)"
      ],
      "execution_count": 0,
      "outputs": [
        {
          "output_type": "stream",
          "text": [
            "-------------df1-------------\n",
            "           datetime   A   B   C\n",
            "0  2019-01-01 00:00  A0  B0  C0\n",
            "1  2019-01-01 01:00  A1  B1  C1\n",
            "2  2019-01-01 02:00  A2  B2  C2\n",
            "3  2019-01-01 03:00  A3  B3  C3\n",
            "-------------df2-------------\n",
            "           datetime   D\n",
            "0  2019-01-01 00:00  D4\n",
            "1  2019-01-01 01:00  D5\n",
            "2  2019-01-01 03:00  D7\n"
          ],
          "name": "stdout"
        }
      ]
    },
    {
      "cell_type": "code",
      "metadata": {
        "id": "cEK6v5Al0b_A",
        "colab_type": "code",
        "outputId": "7d757fed-7b4c-40c2-a49a-d70d0cbdaa5f",
        "colab": {
          "base_uri": "https://localhost:8080/",
          "height": 172
        }
      },
      "source": [
        "pd.merge(df1,df2,on='datetime',how='outer')"
      ],
      "execution_count": 0,
      "outputs": [
        {
          "output_type": "execute_result",
          "data": {
            "text/html": [
              "<div>\n",
              "<style scoped>\n",
              "    .dataframe tbody tr th:only-of-type {\n",
              "        vertical-align: middle;\n",
              "    }\n",
              "\n",
              "    .dataframe tbody tr th {\n",
              "        vertical-align: top;\n",
              "    }\n",
              "\n",
              "    .dataframe thead th {\n",
              "        text-align: right;\n",
              "    }\n",
              "</style>\n",
              "<table border=\"1\" class=\"dataframe\">\n",
              "  <thead>\n",
              "    <tr style=\"text-align: right;\">\n",
              "      <th></th>\n",
              "      <th>datetime</th>\n",
              "      <th>A</th>\n",
              "      <th>B</th>\n",
              "      <th>C</th>\n",
              "      <th>D</th>\n",
              "    </tr>\n",
              "  </thead>\n",
              "  <tbody>\n",
              "    <tr>\n",
              "      <th>0</th>\n",
              "      <td>2019-01-01 00:00</td>\n",
              "      <td>A0</td>\n",
              "      <td>B0</td>\n",
              "      <td>C0</td>\n",
              "      <td>D4</td>\n",
              "    </tr>\n",
              "    <tr>\n",
              "      <th>1</th>\n",
              "      <td>2019-01-01 01:00</td>\n",
              "      <td>A1</td>\n",
              "      <td>B1</td>\n",
              "      <td>C1</td>\n",
              "      <td>D5</td>\n",
              "    </tr>\n",
              "    <tr>\n",
              "      <th>2</th>\n",
              "      <td>2019-01-01 02:00</td>\n",
              "      <td>A2</td>\n",
              "      <td>B2</td>\n",
              "      <td>C2</td>\n",
              "      <td>NaN</td>\n",
              "    </tr>\n",
              "    <tr>\n",
              "      <th>3</th>\n",
              "      <td>2019-01-01 03:00</td>\n",
              "      <td>A3</td>\n",
              "      <td>B3</td>\n",
              "      <td>C3</td>\n",
              "      <td>D7</td>\n",
              "    </tr>\n",
              "  </tbody>\n",
              "</table>\n",
              "</div>"
            ],
            "text/plain": [
              "           datetime   A   B   C    D\n",
              "0  2019-01-01 00:00  A0  B0  C0   D4\n",
              "1  2019-01-01 01:00  A1  B1  C1   D5\n",
              "2  2019-01-01 02:00  A2  B2  C2  NaN\n",
              "3  2019-01-01 03:00  A3  B3  C3   D7"
            ]
          },
          "metadata": {
            "tags": []
          },
          "execution_count": 161
        }
      ]
    },
    {
      "cell_type": "markdown",
      "metadata": {
        "id": "_jw3fXoI2faX",
        "colab_type": "text"
      },
      "source": [
        "##### **(d) join (on index)**\n",
        "Join columns of another DataFrame.\n",
        "\n",
        "**how :** {‘left’, ‘right’, ‘outer’, ‘inner’}, default ‘left’\n",
        "How to handle the operation of the two objects.\n",
        "\n",
        "* left: use calling frame’s index (or column if on is specified)\n",
        "* right: use other’s index.\n",
        "* outer: form union of calling frame’s index (or column if on is specified) with other’s index, and sort it. lexicographically.\n",
        "* inner: form intersection of calling frame’s index (or column if on is specified) with other’s index, preserving the order of the calling’s one."
      ]
    },
    {
      "cell_type": "code",
      "metadata": {
        "id": "t_LWo-Wo3I9q",
        "colab_type": "code",
        "outputId": "940ecbbe-8cab-48d5-bf9b-8eaef91acba0",
        "colab": {
          "base_uri": "https://localhost:8080/",
          "height": 208
        }
      },
      "source": [
        "df1 = pd.DataFrame({'A':['A0','A1','A2','A3'],\n",
        "                    'B':['B0','B1','B2','B3'],\n",
        "                    'C':['C0','C1','C2','C3']},\n",
        "                    index=['2019-01-01 00:00','2019-01-01 01:00','2019-01-01 02:00','2019-01-01 03:00'])\n",
        "df2 = pd.DataFrame({'D':['D4','D5','D7']},\n",
        "                    index=['2019-01-01 00:00','2019-01-01 01:00','2019-01-01 03:00'])\n",
        "print('-------------df1-------------')\n",
        "print(df1)\n",
        "print('-------------df2-------------')\n",
        "print(df2)"
      ],
      "execution_count": 0,
      "outputs": [
        {
          "output_type": "stream",
          "text": [
            "-------------df1-------------\n",
            "                   A   B   C\n",
            "2019-01-01 00:00  A0  B0  C0\n",
            "2019-01-01 01:00  A1  B1  C1\n",
            "2019-01-01 02:00  A2  B2  C2\n",
            "2019-01-01 03:00  A3  B3  C3\n",
            "-------------df2-------------\n",
            "                   D\n",
            "2019-01-01 00:00  D4\n",
            "2019-01-01 01:00  D5\n",
            "2019-01-01 03:00  D7\n"
          ],
          "name": "stdout"
        }
      ]
    },
    {
      "cell_type": "code",
      "metadata": {
        "id": "YnD9SRvR6n5m",
        "colab_type": "code",
        "outputId": "7fdea238-c4a1-4fc4-c5d0-cc61eae6ddd1",
        "colab": {
          "base_uri": "https://localhost:8080/",
          "height": 172
        }
      },
      "source": [
        "df1.join(df2)"
      ],
      "execution_count": 0,
      "outputs": [
        {
          "output_type": "execute_result",
          "data": {
            "text/html": [
              "<div>\n",
              "<style scoped>\n",
              "    .dataframe tbody tr th:only-of-type {\n",
              "        vertical-align: middle;\n",
              "    }\n",
              "\n",
              "    .dataframe tbody tr th {\n",
              "        vertical-align: top;\n",
              "    }\n",
              "\n",
              "    .dataframe thead th {\n",
              "        text-align: right;\n",
              "    }\n",
              "</style>\n",
              "<table border=\"1\" class=\"dataframe\">\n",
              "  <thead>\n",
              "    <tr style=\"text-align: right;\">\n",
              "      <th></th>\n",
              "      <th>A</th>\n",
              "      <th>B</th>\n",
              "      <th>C</th>\n",
              "      <th>D</th>\n",
              "    </tr>\n",
              "  </thead>\n",
              "  <tbody>\n",
              "    <tr>\n",
              "      <th>2019-01-01 00:00</th>\n",
              "      <td>A0</td>\n",
              "      <td>B0</td>\n",
              "      <td>C0</td>\n",
              "      <td>D4</td>\n",
              "    </tr>\n",
              "    <tr>\n",
              "      <th>2019-01-01 01:00</th>\n",
              "      <td>A1</td>\n",
              "      <td>B1</td>\n",
              "      <td>C1</td>\n",
              "      <td>D5</td>\n",
              "    </tr>\n",
              "    <tr>\n",
              "      <th>2019-01-01 02:00</th>\n",
              "      <td>A2</td>\n",
              "      <td>B2</td>\n",
              "      <td>C2</td>\n",
              "      <td>NaN</td>\n",
              "    </tr>\n",
              "    <tr>\n",
              "      <th>2019-01-01 03:00</th>\n",
              "      <td>A3</td>\n",
              "      <td>B3</td>\n",
              "      <td>C3</td>\n",
              "      <td>D7</td>\n",
              "    </tr>\n",
              "  </tbody>\n",
              "</table>\n",
              "</div>"
            ],
            "text/plain": [
              "                   A   B   C    D\n",
              "2019-01-01 00:00  A0  B0  C0   D4\n",
              "2019-01-01 01:00  A1  B1  C1   D5\n",
              "2019-01-01 02:00  A2  B2  C2  NaN\n",
              "2019-01-01 03:00  A3  B3  C3   D7"
            ]
          },
          "metadata": {
            "tags": []
          },
          "execution_count": 151
        }
      ]
    },
    {
      "cell_type": "code",
      "metadata": {
        "id": "0uBk1AMy6p8I",
        "colab_type": "code",
        "outputId": "4fd720b4-adac-4dd6-e649-135e3b7c0b08",
        "colab": {
          "base_uri": "https://localhost:8080/",
          "height": 172
        }
      },
      "source": [
        "df1.join(df2,how='outer')"
      ],
      "execution_count": 0,
      "outputs": [
        {
          "output_type": "execute_result",
          "data": {
            "text/html": [
              "<div>\n",
              "<style scoped>\n",
              "    .dataframe tbody tr th:only-of-type {\n",
              "        vertical-align: middle;\n",
              "    }\n",
              "\n",
              "    .dataframe tbody tr th {\n",
              "        vertical-align: top;\n",
              "    }\n",
              "\n",
              "    .dataframe thead th {\n",
              "        text-align: right;\n",
              "    }\n",
              "</style>\n",
              "<table border=\"1\" class=\"dataframe\">\n",
              "  <thead>\n",
              "    <tr style=\"text-align: right;\">\n",
              "      <th></th>\n",
              "      <th>A</th>\n",
              "      <th>B</th>\n",
              "      <th>C</th>\n",
              "      <th>D</th>\n",
              "    </tr>\n",
              "  </thead>\n",
              "  <tbody>\n",
              "    <tr>\n",
              "      <th>2019-01-01 00:00</th>\n",
              "      <td>A0</td>\n",
              "      <td>B0</td>\n",
              "      <td>C0</td>\n",
              "      <td>D4</td>\n",
              "    </tr>\n",
              "    <tr>\n",
              "      <th>2019-01-01 01:00</th>\n",
              "      <td>A1</td>\n",
              "      <td>B1</td>\n",
              "      <td>C1</td>\n",
              "      <td>D5</td>\n",
              "    </tr>\n",
              "    <tr>\n",
              "      <th>2019-01-01 02:00</th>\n",
              "      <td>A2</td>\n",
              "      <td>B2</td>\n",
              "      <td>C2</td>\n",
              "      <td>NaN</td>\n",
              "    </tr>\n",
              "    <tr>\n",
              "      <th>2019-01-01 03:00</th>\n",
              "      <td>A3</td>\n",
              "      <td>B3</td>\n",
              "      <td>C3</td>\n",
              "      <td>D7</td>\n",
              "    </tr>\n",
              "  </tbody>\n",
              "</table>\n",
              "</div>"
            ],
            "text/plain": [
              "                   A   B   C    D\n",
              "2019-01-01 00:00  A0  B0  C0   D4\n",
              "2019-01-01 01:00  A1  B1  C1   D5\n",
              "2019-01-01 02:00  A2  B2  C2  NaN\n",
              "2019-01-01 03:00  A3  B3  C3   D7"
            ]
          },
          "metadata": {
            "tags": []
          },
          "execution_count": 152
        }
      ]
    },
    {
      "cell_type": "markdown",
      "metadata": {
        "id": "xt_r6ca37gv6",
        "colab_type": "text"
      },
      "source": [
        "###**2.6 Operations**\n",
        "\n",
        "\n",
        "*   df['..'].unique()\n",
        "*   df['..'].nunique()\n",
        "*   df['..'].describe()\n",
        "*   df['..'].info()\n",
        "*   df['..'].count()\n",
        "*   df['..'].value_counts()\n",
        "*   df['..'].apply(times)\n",
        "*   df['..'].multiply(2)\n",
        "*   df.columns\n",
        "*   df.index\n",
        "*   df.sort_values('..')\n",
        "*   df.isnull()\n",
        "\n"
      ]
    },
    {
      "cell_type": "code",
      "metadata": {
        "id": "b9GnY0lQ7q8u",
        "colab_type": "code",
        "outputId": "f15c7c5a-a595-40b0-bf53-d80283b01ee3",
        "colab": {
          "base_uri": "https://localhost:8080/",
          "height": 172
        }
      },
      "source": [
        "df = pd.DataFrame({'col1':[1,2,3,4],\n",
        "                   'col2':[444,555,666,444],\n",
        "                   'col3':['abc','def','ghi','xyz']})\n",
        "df"
      ],
      "execution_count": 0,
      "outputs": [
        {
          "output_type": "execute_result",
          "data": {
            "text/html": [
              "<div>\n",
              "<style scoped>\n",
              "    .dataframe tbody tr th:only-of-type {\n",
              "        vertical-align: middle;\n",
              "    }\n",
              "\n",
              "    .dataframe tbody tr th {\n",
              "        vertical-align: top;\n",
              "    }\n",
              "\n",
              "    .dataframe thead th {\n",
              "        text-align: right;\n",
              "    }\n",
              "</style>\n",
              "<table border=\"1\" class=\"dataframe\">\n",
              "  <thead>\n",
              "    <tr style=\"text-align: right;\">\n",
              "      <th></th>\n",
              "      <th>col1</th>\n",
              "      <th>col2</th>\n",
              "      <th>col3</th>\n",
              "    </tr>\n",
              "  </thead>\n",
              "  <tbody>\n",
              "    <tr>\n",
              "      <th>0</th>\n",
              "      <td>1</td>\n",
              "      <td>444</td>\n",
              "      <td>abc</td>\n",
              "    </tr>\n",
              "    <tr>\n",
              "      <th>1</th>\n",
              "      <td>2</td>\n",
              "      <td>555</td>\n",
              "      <td>def</td>\n",
              "    </tr>\n",
              "    <tr>\n",
              "      <th>2</th>\n",
              "      <td>3</td>\n",
              "      <td>666</td>\n",
              "      <td>ghi</td>\n",
              "    </tr>\n",
              "    <tr>\n",
              "      <th>3</th>\n",
              "      <td>4</td>\n",
              "      <td>444</td>\n",
              "      <td>xyz</td>\n",
              "    </tr>\n",
              "  </tbody>\n",
              "</table>\n",
              "</div>"
            ],
            "text/plain": [
              "   col1  col2 col3\n",
              "0     1   444  abc\n",
              "1     2   555  def\n",
              "2     3   666  ghi\n",
              "3     4   444  xyz"
            ]
          },
          "metadata": {
            "tags": []
          },
          "execution_count": 162
        }
      ]
    },
    {
      "cell_type": "code",
      "metadata": {
        "id": "SOVtHAns7235",
        "colab_type": "code",
        "outputId": "7b42fa86-4fcb-4e54-c944-1e8a205de395",
        "colab": {
          "base_uri": "https://localhost:8080/",
          "height": 34
        }
      },
      "source": [
        "#find unique values in 'col2'\n",
        "df['col2'].unique()"
      ],
      "execution_count": 0,
      "outputs": [
        {
          "output_type": "execute_result",
          "data": {
            "text/plain": [
              "array([444, 555, 666])"
            ]
          },
          "metadata": {
            "tags": []
          },
          "execution_count": 163
        }
      ]
    },
    {
      "cell_type": "code",
      "metadata": {
        "id": "iv7KcrlT774c",
        "colab_type": "code",
        "outputId": "14560c1d-927c-4248-9d1c-11f450e13620",
        "colab": {
          "base_uri": "https://localhost:8080/",
          "height": 34
        }
      },
      "source": [
        "#find number of unique values in 'col2'\n",
        "df['col2'].nunique()"
      ],
      "execution_count": 0,
      "outputs": [
        {
          "output_type": "execute_result",
          "data": {
            "text/plain": [
              "3"
            ]
          },
          "metadata": {
            "tags": []
          },
          "execution_count": 164
        }
      ]
    },
    {
      "cell_type": "code",
      "metadata": {
        "id": "t0Qrvhhs80D_",
        "colab_type": "code",
        "outputId": "cb63269b-cc1a-426c-ea5a-28b2fd56e56e",
        "colab": {
          "base_uri": "https://localhost:8080/",
          "height": 294
        }
      },
      "source": [
        "df.describe()"
      ],
      "execution_count": 0,
      "outputs": [
        {
          "output_type": "execute_result",
          "data": {
            "text/html": [
              "<div>\n",
              "<style scoped>\n",
              "    .dataframe tbody tr th:only-of-type {\n",
              "        vertical-align: middle;\n",
              "    }\n",
              "\n",
              "    .dataframe tbody tr th {\n",
              "        vertical-align: top;\n",
              "    }\n",
              "\n",
              "    .dataframe thead th {\n",
              "        text-align: right;\n",
              "    }\n",
              "</style>\n",
              "<table border=\"1\" class=\"dataframe\">\n",
              "  <thead>\n",
              "    <tr style=\"text-align: right;\">\n",
              "      <th></th>\n",
              "      <th>col1</th>\n",
              "      <th>col2</th>\n",
              "    </tr>\n",
              "  </thead>\n",
              "  <tbody>\n",
              "    <tr>\n",
              "      <th>count</th>\n",
              "      <td>4.000000</td>\n",
              "      <td>4.000000</td>\n",
              "    </tr>\n",
              "    <tr>\n",
              "      <th>mean</th>\n",
              "      <td>2.500000</td>\n",
              "      <td>527.250000</td>\n",
              "    </tr>\n",
              "    <tr>\n",
              "      <th>std</th>\n",
              "      <td>1.290994</td>\n",
              "      <td>106.274409</td>\n",
              "    </tr>\n",
              "    <tr>\n",
              "      <th>min</th>\n",
              "      <td>1.000000</td>\n",
              "      <td>444.000000</td>\n",
              "    </tr>\n",
              "    <tr>\n",
              "      <th>25%</th>\n",
              "      <td>1.750000</td>\n",
              "      <td>444.000000</td>\n",
              "    </tr>\n",
              "    <tr>\n",
              "      <th>50%</th>\n",
              "      <td>2.500000</td>\n",
              "      <td>499.500000</td>\n",
              "    </tr>\n",
              "    <tr>\n",
              "      <th>75%</th>\n",
              "      <td>3.250000</td>\n",
              "      <td>582.750000</td>\n",
              "    </tr>\n",
              "    <tr>\n",
              "      <th>max</th>\n",
              "      <td>4.000000</td>\n",
              "      <td>666.000000</td>\n",
              "    </tr>\n",
              "  </tbody>\n",
              "</table>\n",
              "</div>"
            ],
            "text/plain": [
              "           col1        col2\n",
              "count  4.000000    4.000000\n",
              "mean   2.500000  527.250000\n",
              "std    1.290994  106.274409\n",
              "min    1.000000  444.000000\n",
              "25%    1.750000  444.000000\n",
              "50%    2.500000  499.500000\n",
              "75%    3.250000  582.750000\n",
              "max    4.000000  666.000000"
            ]
          },
          "metadata": {
            "tags": []
          },
          "execution_count": 174
        }
      ]
    },
    {
      "cell_type": "code",
      "metadata": {
        "id": "K0FxxbYh82ex",
        "colab_type": "code",
        "outputId": "97d00a1f-3709-4853-be9a-e2db58e6c95a",
        "colab": {
          "base_uri": "https://localhost:8080/",
          "height": 156
        }
      },
      "source": [
        "df.info()"
      ],
      "execution_count": 0,
      "outputs": [
        {
          "output_type": "stream",
          "text": [
            "<class 'pandas.core.frame.DataFrame'>\n",
            "RangeIndex: 4 entries, 0 to 3\n",
            "Data columns (total 3 columns):\n",
            "col1    4 non-null int64\n",
            "col2    4 non-null int64\n",
            "col3    4 non-null object\n",
            "dtypes: int64(2), object(1)\n",
            "memory usage: 224.0+ bytes\n"
          ],
          "name": "stdout"
        }
      ]
    },
    {
      "cell_type": "code",
      "metadata": {
        "id": "eOB7wn8784Dd",
        "colab_type": "code",
        "outputId": "2b657120-ceab-4cb4-9900-c329aa47a6f8",
        "colab": {
          "base_uri": "https://localhost:8080/",
          "height": 86
        }
      },
      "source": [
        "df.count()"
      ],
      "execution_count": 0,
      "outputs": [
        {
          "output_type": "execute_result",
          "data": {
            "text/plain": [
              "col1    4\n",
              "col2    4\n",
              "col3    4\n",
              "dtype: int64"
            ]
          },
          "metadata": {
            "tags": []
          },
          "execution_count": 176
        }
      ]
    },
    {
      "cell_type": "code",
      "metadata": {
        "id": "VsgEnXZk78nf",
        "colab_type": "code",
        "outputId": "c3227a35-3693-445b-b22d-83c7201d4169",
        "colab": {
          "base_uri": "https://localhost:8080/",
          "height": 86
        }
      },
      "source": [
        "#find counts of each value in 'col2'\n",
        "df['col2'].value_counts()"
      ],
      "execution_count": 0,
      "outputs": [
        {
          "output_type": "execute_result",
          "data": {
            "text/plain": [
              "444    2\n",
              "555    1\n",
              "666    1\n",
              "Name: col2, dtype: int64"
            ]
          },
          "metadata": {
            "tags": []
          },
          "execution_count": 165
        }
      ]
    },
    {
      "cell_type": "code",
      "metadata": {
        "id": "6J7qtciH8SDp",
        "colab_type": "code",
        "outputId": "77be73dd-4403-4c67-8c78-14b9b4d22583",
        "colab": {
          "base_uri": "https://localhost:8080/",
          "height": 110
        }
      },
      "source": [
        "#conditional selection\n",
        "df[df['col1']>2]"
      ],
      "execution_count": 0,
      "outputs": [
        {
          "output_type": "execute_result",
          "data": {
            "text/html": [
              "<div>\n",
              "<style scoped>\n",
              "    .dataframe tbody tr th:only-of-type {\n",
              "        vertical-align: middle;\n",
              "    }\n",
              "\n",
              "    .dataframe tbody tr th {\n",
              "        vertical-align: top;\n",
              "    }\n",
              "\n",
              "    .dataframe thead th {\n",
              "        text-align: right;\n",
              "    }\n",
              "</style>\n",
              "<table border=\"1\" class=\"dataframe\">\n",
              "  <thead>\n",
              "    <tr style=\"text-align: right;\">\n",
              "      <th></th>\n",
              "      <th>col1</th>\n",
              "      <th>col2</th>\n",
              "      <th>col3</th>\n",
              "    </tr>\n",
              "  </thead>\n",
              "  <tbody>\n",
              "    <tr>\n",
              "      <th>2</th>\n",
              "      <td>3</td>\n",
              "      <td>666</td>\n",
              "      <td>ghi</td>\n",
              "    </tr>\n",
              "    <tr>\n",
              "      <th>3</th>\n",
              "      <td>4</td>\n",
              "      <td>444</td>\n",
              "      <td>xyz</td>\n",
              "    </tr>\n",
              "  </tbody>\n",
              "</table>\n",
              "</div>"
            ],
            "text/plain": [
              "   col1  col2 col3\n",
              "2     3   666  ghi\n",
              "3     4   444  xyz"
            ]
          },
          "metadata": {
            "tags": []
          },
          "execution_count": 166
        }
      ]
    },
    {
      "cell_type": "code",
      "metadata": {
        "id": "jV8NAQbD8c5s",
        "colab_type": "code",
        "colab": {}
      },
      "source": [
        "def times(x):\n",
        "  return x*2"
      ],
      "execution_count": 0,
      "outputs": []
    },
    {
      "cell_type": "code",
      "metadata": {
        "id": "GKclvlcUB8-r",
        "colab_type": "code",
        "outputId": "a12f4c5c-fd87-4f0f-e0da-5dc237274e21",
        "colab": {
          "base_uri": "https://localhost:8080/",
          "height": 104
        }
      },
      "source": [
        "df['col1'].apply(times)"
      ],
      "execution_count": 0,
      "outputs": [
        {
          "output_type": "execute_result",
          "data": {
            "text/plain": [
              "0    2\n",
              "1    4\n",
              "2    6\n",
              "3    8\n",
              "Name: col1, dtype: int64"
            ]
          },
          "metadata": {
            "tags": []
          },
          "execution_count": 168
        }
      ]
    },
    {
      "cell_type": "code",
      "metadata": {
        "id": "PXq67URyCBAW",
        "colab_type": "code",
        "outputId": "ec8c08b6-3f39-4f94-b53a-6c3aaa0d1f8e",
        "colab": {
          "base_uri": "https://localhost:8080/",
          "height": 104
        }
      },
      "source": [
        "df['col2'].apply(lambda x: x*2)"
      ],
      "execution_count": 0,
      "outputs": [
        {
          "output_type": "execute_result",
          "data": {
            "text/plain": [
              "0     888\n",
              "1    1110\n",
              "2    1332\n",
              "3     888\n",
              "Name: col2, dtype: int64"
            ]
          },
          "metadata": {
            "tags": []
          },
          "execution_count": 169
        }
      ]
    },
    {
      "cell_type": "code",
      "metadata": {
        "id": "--HNCGU69Khu",
        "colab_type": "code",
        "outputId": "8031fc56-c0c2-4f22-9937-472dcc6903d8",
        "colab": {
          "base_uri": "https://localhost:8080/",
          "height": 104
        }
      },
      "source": [
        "df['col2'].multiply(2)"
      ],
      "execution_count": 0,
      "outputs": [
        {
          "output_type": "execute_result",
          "data": {
            "text/plain": [
              "0     888\n",
              "1    1110\n",
              "2    1332\n",
              "3     888\n",
              "Name: col2, dtype: int64"
            ]
          },
          "metadata": {
            "tags": []
          },
          "execution_count": 177
        }
      ]
    },
    {
      "cell_type": "code",
      "metadata": {
        "id": "xrJjQfGlCgeO",
        "colab_type": "code",
        "outputId": "e0c236cf-df46-40b6-e24e-cf2acc9fbb7a",
        "colab": {
          "base_uri": "https://localhost:8080/",
          "height": 34
        }
      },
      "source": [
        "#get column information\n",
        "df.columns"
      ],
      "execution_count": 0,
      "outputs": [
        {
          "output_type": "execute_result",
          "data": {
            "text/plain": [
              "Index(['col1', 'col2', 'col3'], dtype='object')"
            ]
          },
          "metadata": {
            "tags": []
          },
          "execution_count": 170
        }
      ]
    },
    {
      "cell_type": "code",
      "metadata": {
        "id": "7aJpu2dCCjRX",
        "colab_type": "code",
        "outputId": "8d637ec0-65ee-4381-c6e6-92162c92bd7b",
        "colab": {
          "base_uri": "https://localhost:8080/",
          "height": 34
        }
      },
      "source": [
        "#get row information\n",
        "df.index"
      ],
      "execution_count": 0,
      "outputs": [
        {
          "output_type": "execute_result",
          "data": {
            "text/plain": [
              "RangeIndex(start=0, stop=4, step=1)"
            ]
          },
          "metadata": {
            "tags": []
          },
          "execution_count": 171
        }
      ]
    },
    {
      "cell_type": "code",
      "metadata": {
        "id": "4NUSKksSCpkc",
        "colab_type": "code",
        "outputId": "d3c3b8bc-20ab-4446-9e9c-fdafa1754bb9",
        "colab": {
          "base_uri": "https://localhost:8080/",
          "height": 172
        }
      },
      "source": [
        "#sort\n",
        "df.sort_values('col2')\n",
        "#note: index stays attached to row"
      ],
      "execution_count": 0,
      "outputs": [
        {
          "output_type": "execute_result",
          "data": {
            "text/html": [
              "<div>\n",
              "<style scoped>\n",
              "    .dataframe tbody tr th:only-of-type {\n",
              "        vertical-align: middle;\n",
              "    }\n",
              "\n",
              "    .dataframe tbody tr th {\n",
              "        vertical-align: top;\n",
              "    }\n",
              "\n",
              "    .dataframe thead th {\n",
              "        text-align: right;\n",
              "    }\n",
              "</style>\n",
              "<table border=\"1\" class=\"dataframe\">\n",
              "  <thead>\n",
              "    <tr style=\"text-align: right;\">\n",
              "      <th></th>\n",
              "      <th>col1</th>\n",
              "      <th>col2</th>\n",
              "      <th>col3</th>\n",
              "    </tr>\n",
              "  </thead>\n",
              "  <tbody>\n",
              "    <tr>\n",
              "      <th>0</th>\n",
              "      <td>1</td>\n",
              "      <td>444</td>\n",
              "      <td>abc</td>\n",
              "    </tr>\n",
              "    <tr>\n",
              "      <th>3</th>\n",
              "      <td>4</td>\n",
              "      <td>444</td>\n",
              "      <td>xyz</td>\n",
              "    </tr>\n",
              "    <tr>\n",
              "      <th>1</th>\n",
              "      <td>2</td>\n",
              "      <td>555</td>\n",
              "      <td>def</td>\n",
              "    </tr>\n",
              "    <tr>\n",
              "      <th>2</th>\n",
              "      <td>3</td>\n",
              "      <td>666</td>\n",
              "      <td>ghi</td>\n",
              "    </tr>\n",
              "  </tbody>\n",
              "</table>\n",
              "</div>"
            ],
            "text/plain": [
              "   col1  col2 col3\n",
              "0     1   444  abc\n",
              "3     4   444  xyz\n",
              "1     2   555  def\n",
              "2     3   666  ghi"
            ]
          },
          "metadata": {
            "tags": []
          },
          "execution_count": 172
        }
      ]
    },
    {
      "cell_type": "code",
      "metadata": {
        "id": "ks1UfRgLDAY-",
        "colab_type": "code",
        "outputId": "fe02992a-e168-4317-98f6-728a4e25be91",
        "colab": {
          "base_uri": "https://localhost:8080/",
          "height": 172
        }
      },
      "source": [
        "#check if there is any null in data\n",
        "df.isnull()"
      ],
      "execution_count": 0,
      "outputs": [
        {
          "output_type": "execute_result",
          "data": {
            "text/html": [
              "<div>\n",
              "<style scoped>\n",
              "    .dataframe tbody tr th:only-of-type {\n",
              "        vertical-align: middle;\n",
              "    }\n",
              "\n",
              "    .dataframe tbody tr th {\n",
              "        vertical-align: top;\n",
              "    }\n",
              "\n",
              "    .dataframe thead th {\n",
              "        text-align: right;\n",
              "    }\n",
              "</style>\n",
              "<table border=\"1\" class=\"dataframe\">\n",
              "  <thead>\n",
              "    <tr style=\"text-align: right;\">\n",
              "      <th></th>\n",
              "      <th>col1</th>\n",
              "      <th>col2</th>\n",
              "      <th>col3</th>\n",
              "    </tr>\n",
              "  </thead>\n",
              "  <tbody>\n",
              "    <tr>\n",
              "      <th>0</th>\n",
              "      <td>False</td>\n",
              "      <td>False</td>\n",
              "      <td>False</td>\n",
              "    </tr>\n",
              "    <tr>\n",
              "      <th>1</th>\n",
              "      <td>False</td>\n",
              "      <td>False</td>\n",
              "      <td>False</td>\n",
              "    </tr>\n",
              "    <tr>\n",
              "      <th>2</th>\n",
              "      <td>False</td>\n",
              "      <td>False</td>\n",
              "      <td>False</td>\n",
              "    </tr>\n",
              "    <tr>\n",
              "      <th>3</th>\n",
              "      <td>False</td>\n",
              "      <td>False</td>\n",
              "      <td>False</td>\n",
              "    </tr>\n",
              "  </tbody>\n",
              "</table>\n",
              "</div>"
            ],
            "text/plain": [
              "    col1   col2   col3\n",
              "0  False  False  False\n",
              "1  False  False  False\n",
              "2  False  False  False\n",
              "3  False  False  False"
            ]
          },
          "metadata": {
            "tags": []
          },
          "execution_count": 173
        }
      ]
    },
    {
      "cell_type": "markdown",
      "metadata": {
        "id": "b8LWPoRfEVx3",
        "colab_type": "text"
      },
      "source": [
        "\n",
        "\n",
        "---\n",
        "\n",
        "\n",
        "# **3.0 Data Input and Output**\n",
        "\n",
        "\n"
      ]
    },
    {
      "cell_type": "markdown",
      "metadata": {
        "id": "jFIyn6FkDVJK",
        "colab_type": "text"
      },
      "source": [
        "## **3.1 Read from CSV**\n",
        "We can get data into colab in several fashions:\n",
        "\n",
        "1.   from github\n",
        "2.   from wget\n",
        "3.   from local drive\n",
        "4.   from google drive\n",
        "\n",
        "\n",
        "We will demonstrate all of these methods here.\n"
      ]
    },
    {
      "cell_type": "code",
      "metadata": {
        "id": "mULm0XWXEcB9",
        "colab_type": "code",
        "colab": {}
      },
      "source": [
        "#Method 1 read csv file from github \n",
        "#go to the github that hosts the file, and click 'view raw' and copy the URL.\n",
        "url ='https://raw.githubusercontent.com/mpipatta/mpipatta.github.io/master/testdata/7.csv'\n",
        "df = pd.read_csv(url, header=None, names=['Date','Humidity'])\n",
        "df.head()"
      ],
      "execution_count": 0,
      "outputs": []
    },
    {
      "cell_type": "code",
      "metadata": {
        "id": "QKwTuBjCE0LE",
        "colab_type": "code",
        "colab": {}
      },
      "source": [
        "#Method 2 use wget\n",
        "# Explanation of /dev/null 2>&1 can be found here: https://stackoverflow.com/questions/10508843/what-is-dev-null-21\n",
        "!wget -O 7.csv https://raw.githubusercontent.com/mpipatta/mpipatta.github.io/master/testdata/7.csv> /dev/null 2>&1\n",
        "df = pd.read_csv('7.csv', header=None, names=['Date','Humidity'])\n",
        "df.head()"
      ],
      "execution_count": 0,
      "outputs": []
    },
    {
      "cell_type": "code",
      "metadata": {
        "id": "orWcE-LbClnq",
        "colab_type": "code",
        "colab": {}
      },
      "source": [
        "#Method 3 from local drive\n",
        "from google.colab import files\n",
        "\n",
        "uploaded = files.upload()\n",
        "\n",
        "for fn in uploaded.keys():\n",
        "  print('User uploaded file \"{name}\" with length {length} bytes'.format(\n",
        "      name=fn, length=len(uploaded[fn])))"
      ],
      "execution_count": 0,
      "outputs": []
    },
    {
      "cell_type": "code",
      "metadata": {
        "id": "b5AmkMnXC2Ck",
        "colab_type": "code",
        "colab": {}
      },
      "source": [
        "df = pd.read_csv(\"7 (1).csv\", header=None, names=['Date','Humidity'])\n",
        "df.head()"
      ],
      "execution_count": 0,
      "outputs": []
    },
    {
      "cell_type": "code",
      "metadata": {
        "id": "JMGkDrrVB3Uz",
        "colab_type": "code",
        "colab": {}
      },
      "source": [
        "#Method 4 from google drive (for large/many files)\n",
        "from google.colab import drive\n",
        "drive.mount('/content/drive')"
      ],
      "execution_count": 0,
      "outputs": []
    },
    {
      "cell_type": "code",
      "metadata": {
        "id": "RjBfDsfECLAT",
        "colab_type": "code",
        "colab": {}
      },
      "source": [
        "#once authorized, you can now navigate through your google drive files using the left navigation panel.\n",
        "path = \"copy path here\"\n",
        "df = pd.read_csv(path)\n",
        "df.head()"
      ],
      "execution_count": 0,
      "outputs": []
    },
    {
      "cell_type": "markdown",
      "metadata": {
        "id": "9CYzDHIyDdeK",
        "colab_type": "text"
      },
      "source": [
        "## **3.2 Write to CSV**\n",
        "\n",
        "We can also write to CSV using df.to_csv('MyData.csv',index=False). The file can then be downloaded to our local drive."
      ]
    },
    {
      "cell_type": "code",
      "metadata": {
        "id": "CLVpH1haHWDw",
        "colab_type": "code",
        "colab": {}
      },
      "source": [
        "#write to csv file and download the file (or use left navigation bar)\n",
        "df.to_csv('MyData.csv',index=False)"
      ],
      "execution_count": 0,
      "outputs": []
    },
    {
      "cell_type": "code",
      "metadata": {
        "id": "DxVzDTQRDmPl",
        "colab_type": "code",
        "colab": {}
      },
      "source": [
        "from google.colab import files\n",
        "files.download('MyData.csv')"
      ],
      "execution_count": 0,
      "outputs": []
    },
    {
      "cell_type": "markdown",
      "metadata": {
        "id": "OdmuqCTmLYRQ",
        "colab_type": "text"
      },
      "source": [
        "\n",
        "\n",
        "---\n",
        "\n",
        "\n",
        "# **4.0 Matplotlib**\n",
        "Most popular plotting library for Python -- designed to have a similar feel to Matlab's graphical plotting\n",
        "\n",
        "matplotlib.org"
      ]
    },
    {
      "cell_type": "code",
      "metadata": {
        "id": "PPfCP6QshtjX",
        "colab_type": "code",
        "colab": {}
      },
      "source": [
        "import matplotlib.pyplot as plt\n",
        "import numpy as np\n",
        "\n",
        "x = np.linspace(0,10,11)"
      ],
      "execution_count": 0,
      "outputs": []
    },
    {
      "cell_type": "code",
      "metadata": {
        "id": "Q12KUbF6SEHY",
        "colab_type": "code",
        "outputId": "d32a8b19-9a54-4ff9-b22c-2d897e3c2e4e",
        "colab": {
          "base_uri": "https://localhost:8080/",
          "height": 368
        }
      },
      "source": [
        "plt.figure(figsize=(8,5))\n",
        "plt.plot(x,x**2,'r',label='power2')\n",
        "plt.plot(x,x**3,'b',label='power3')\n",
        "plt.xlabel('X Label')\n",
        "plt.ylabel('Y Label')\n",
        "plt.title('y = f(x)')\n",
        "plt.legend(loc=0)"
      ],
      "execution_count": 0,
      "outputs": [
        {
          "output_type": "execute_result",
          "data": {
            "text/plain": [
              "<matplotlib.legend.Legend at 0x7f094af51940>"
            ]
          },
          "metadata": {
            "tags": []
          },
          "execution_count": 272
        },
        {
          "output_type": "display_data",
          "data": {
            "image/png": "[encoded data removed]",
            "text/plain": [
              "<Figure size 576x360 with 1 Axes>"
            ]
          },
          "metadata": {
            "tags": []
          }
        }
      ]
    },
    {
      "cell_type": "markdown",
      "metadata": {
        "id": "A0gEvmRcKsJd",
        "colab_type": "text"
      },
      "source": [
        "**Note:**\n",
        "\n",
        "color='blue',linewidth=2, alpha=1, linestyle='--',marker='o',markersize=10, markerfacecolor='red'\n",
        "\n",
        "Location String\tLocation Code\n",
        "'best'\t0\n",
        "'upper right'\t1\n",
        "'upper left'\t2\n",
        "'lower left'\t3\n",
        "'lower right'\t4\n",
        "'right'\t5\n",
        "'center left'\t6\n",
        "'center right'\t7\n",
        "'lower center'\t8\n",
        "'upper center'\t9\n",
        "'center'\t10"
      ]
    },
    {
      "cell_type": "code",
      "metadata": {
        "id": "T3Q3b5PjVxmW",
        "colab_type": "code",
        "outputId": "c742c608-81aa-4956-e7da-1b5c401a3ce8",
        "colab": {
          "base_uri": "https://localhost:8080/",
          "height": 384
        }
      },
      "source": [
        "fig,axes = plt.subplots(nrows=1,ncols=2, figsize=(8,5), dpi=75)\n",
        "\n",
        "axes[0].plot(x,x,'r--',label='x^1')\n",
        "axes[0].plot(x,x**2,'r',label='x^2')\n",
        "\n",
        "axes[1].plot(x,x**3,'b--',label='x^3')\n",
        "axes[1].plot(x,x**4,'b',label='x^4')\n",
        "\n",
        "for ax in axes:\n",
        "  ax.set_ylim([0,1000])\n",
        "  ax.set_xlim([0,10])\n",
        "  ax.set_ylabel('y axis')\n",
        "  ax.set_xlabel('x axis')\n",
        "  ax.set_title('y=f(x)')\n",
        "  ax.legend(loc=2)\n",
        "\n",
        "plt.tight_layout()"
      ],
      "execution_count": 0,
      "outputs": [
        {
          "output_type": "display_data",
          "data": {
            "image/png": "[encoded data removed]",
            "text/plain": [
              "<Figure size 600x375 with 2 Axes>"
            ]
          },
          "metadata": {
            "tags": []
          }
        }
      ]
    },
    {
      "cell_type": "code",
      "metadata": {
        "colab_type": "code",
        "id": "yuV0addTJ8wW",
        "colab": {}
      },
      "source": [
        "fig.savefig('my_pic.png')"
      ],
      "execution_count": 0,
      "outputs": []
    },
    {
      "cell_type": "markdown",
      "metadata": {
        "id": "kv36l0SWShUw",
        "colab_type": "text"
      },
      "source": [
        "In the other tutorial, we will work with measured sensor data to create missing value plot using Seaborn, histogram plot and time series plots."
      ]
    }
  ]
}