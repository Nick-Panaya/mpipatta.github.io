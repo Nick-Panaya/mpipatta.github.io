{
  "nbformat": 4,
  "nbformat_minor": 0,
  "metadata": {
    "colab": {
      "name": "Day1(a)-ReviewBasicPython.ipynb",
      "provenance": []
    },
    "kernelspec": {
      "name": "python3",
      "display_name": "Python 3"
    }
  },
  "cells": [
    {
      "cell_type": "markdown",
      "metadata": {
        "id": "GpRdYgdcnXLO",
        "colab_type": "text"
      },
      "source": [
        "#**Review Basic Python**\n",
        "\n",
        "***Prepared by:*** [**Manisa Pipattanasomporn**](https://mpipatta.github.io)\n",
        "\n",
        "*Created: December 31, 2019 (updated: Mar 5, 2020)*\n",
        "\n",
        "Python is powerful to handle time series data. In this notebook, we will review commonly used Python codes/libraries for data analytics, including:\n",
        "* Basic (operation, index, list, if/else/for/while, append, function, split)\n",
        "* Numpy (array, index, operations)\n",
        "* Pandas (series, dataframe, missing data, merging, joining, concastenating)\n",
        "* Data input/output\n",
        "* Matplotlib\n",
        "\n",
        "\n",
        "\n",
        "\n",
        "---\n",
        "\n"
      ]
    },
    {
      "cell_type": "markdown",
      "metadata": {
        "id": "qtx5IrUESjIu",
        "colab_type": "text"
      },
      "source": [
        "# **0.0 Basic Python**\n",
        "Let us review basic Python operations.\n",
        "\n",
        "\n"
      ]
    },
    {
      "cell_type": "markdown",
      "metadata": {
        "id": "9eubGrDUTi6Z",
        "colab_type": "text"
      },
      "source": [
        "### **0.1 Basic Operations**"
      ]
    },
    {
      "cell_type": "code",
      "metadata": {
        "id": "a8ZqqN_qSnqS",
        "colab_type": "code",
        "colab": {
          "base_uri": "https://localhost:8080/",
          "height": 34
        },
        "outputId": "bf11f387-94cf-4f68-b99f-285e904fb565"
      },
      "source": [
        "1+1     #addition int\n",
        "1.0+1.0 #addition float\n",
        "1*3     #multiplication\n",
        "10/3    #division\n",
        "10//3   #truncation division\n",
        "2**4    #power\n",
        "2+3*5+5 #order of operation\n",
        "10%3    #modulo"
      ],
      "execution_count": 1,
      "outputs": [
        {
          "output_type": "execute_result",
          "data": {
            "text/plain": [
              "1"
            ]
          },
          "metadata": {
            "tags": []
          },
          "execution_count": 1
        }
      ]
    },
    {
      "cell_type": "code",
      "metadata": {
        "id": "c9AqnJ-4TpGZ",
        "colab_type": "code",
        "colab": {
          "base_uri": "https://localhost:8080/",
          "height": 34
        },
        "outputId": "958a73c9-d407-4f62-b38f-7d45a898a3ff"
      },
      "source": [
        "#understand string in Python\n",
        "'this is string'\n",
        "\"this is also string\"\n",
        "\"i can't go\""
      ],
      "execution_count": 2,
      "outputs": [
        {
          "output_type": "execute_result",
          "data": {
            "text/plain": [
              "\"i can't go\""
            ]
          },
          "metadata": {
            "tags": []
          },
          "execution_count": 2
        }
      ]
    },
    {
      "cell_type": "code",
      "metadata": {
        "id": "5rgFJUeITu-p",
        "colab_type": "code",
        "colab": {
          "base_uri": "https://localhost:8080/",
          "height": 34
        },
        "outputId": "52066590-f130-4f32-a6a1-f5ff28fca82d"
      },
      "source": [
        "#Type\n",
        "x='hello'\n",
        "type(x)\n",
        "\n",
        "a=3\n",
        "type(a)\n",
        "\n",
        "a=3.0\n",
        "type(a)"
      ],
      "execution_count": 3,
      "outputs": [
        {
          "output_type": "execute_result",
          "data": {
            "text/plain": [
              "float"
            ]
          },
          "metadata": {
            "tags": []
          },
          "execution_count": 3
        }
      ]
    },
    {
      "cell_type": "markdown",
      "metadata": {
        "id": "1ULPcXe5USiN",
        "colab_type": "text"
      },
      "source": [
        "### **0.2 Index, list, dictionary**"
      ]
    },
    {
      "cell_type": "markdown",
      "metadata": {
        "id": "aPc8qiUxGPBC",
        "colab_type": "text"
      },
      "source": [
        "#####**(a) String**"
      ]
    },
    {
      "cell_type": "code",
      "metadata": {
        "id": "ZXudqJJIDSj_",
        "colab_type": "code",
        "colab": {}
      },
      "source": [
        "x='hello, my name is Alice.'"
      ],
      "execution_count": 0,
      "outputs": []
    },
    {
      "cell_type": "code",
      "metadata": {
        "id": "RFFzBa8jlQaB",
        "colab_type": "code",
        "outputId": "8986e38d-7995-4966-cb2b-1f4effbedabf",
        "colab": {
          "base_uri": "https://localhost:8080/",
          "height": 34
        }
      },
      "source": [
        "x[5]"
      ],
      "execution_count": 5,
      "outputs": [
        {
          "output_type": "execute_result",
          "data": {
            "text/plain": [
              "','"
            ]
          },
          "metadata": {
            "tags": []
          },
          "execution_count": 5
        }
      ]
    },
    {
      "cell_type": "code",
      "metadata": {
        "colab_type": "code",
        "outputId": "f8c2583c-beaa-4c79-bdf5-fb2f544d8e4b",
        "id": "9jWoUScXef6B",
        "colab": {
          "base_uri": "https://localhost:8080/",
          "height": 34
        }
      },
      "source": [
        "x[0:5]"
      ],
      "execution_count": 6,
      "outputs": [
        {
          "output_type": "execute_result",
          "data": {
            "text/plain": [
              "'hello'"
            ]
          },
          "metadata": {
            "tags": []
          },
          "execution_count": 6
        }
      ]
    },
    {
      "cell_type": "code",
      "metadata": {
        "id": "kVYoM__0lU53",
        "colab_type": "code",
        "outputId": "bacd5ba2-4da5-4e46-966e-cf34adb55883",
        "colab": {
          "base_uri": "https://localhost:8080/",
          "height": 34
        }
      },
      "source": [
        "x[:5]"
      ],
      "execution_count": 7,
      "outputs": [
        {
          "output_type": "execute_result",
          "data": {
            "text/plain": [
              "'hello'"
            ]
          },
          "metadata": {
            "tags": []
          },
          "execution_count": 7
        }
      ]
    },
    {
      "cell_type": "code",
      "metadata": {
        "colab_type": "code",
        "outputId": "51c18565-1737-4cf8-e783-51e86505b251",
        "id": "qkUl-BA0efbM",
        "colab": {
          "base_uri": "https://localhost:8080/",
          "height": 34
        }
      },
      "source": [
        "x[5:]"
      ],
      "execution_count": 8,
      "outputs": [
        {
          "output_type": "execute_result",
          "data": {
            "text/plain": [
              "', my name is Alice.'"
            ]
          },
          "metadata": {
            "tags": []
          },
          "execution_count": 8
        }
      ]
    },
    {
      "cell_type": "code",
      "metadata": {
        "id": "1YNtbH50lX-s",
        "colab_type": "code",
        "outputId": "75836d39-8387-4013-9e6e-58655570424b",
        "colab": {
          "base_uri": "https://localhost:8080/",
          "height": 34
        }
      },
      "source": [
        "len(x)"
      ],
      "execution_count": 9,
      "outputs": [
        {
          "output_type": "execute_result",
          "data": {
            "text/plain": [
              "24"
            ]
          },
          "metadata": {
            "tags": []
          },
          "execution_count": 9
        }
      ]
    },
    {
      "cell_type": "code",
      "metadata": {
        "colab_type": "code",
        "outputId": "2dc41fb1-bffb-47d9-9871-21fc7d5b6e6d",
        "id": "qBjbiGU5efAG",
        "colab": {
          "base_uri": "https://localhost:8080/",
          "height": 34
        }
      },
      "source": [
        "x[5:24]"
      ],
      "execution_count": 10,
      "outputs": [
        {
          "output_type": "execute_result",
          "data": {
            "text/plain": [
              "', my name is Alice.'"
            ]
          },
          "metadata": {
            "tags": []
          },
          "execution_count": 10
        }
      ]
    },
    {
      "cell_type": "markdown",
      "metadata": {
        "id": "-IbkCs9LGUkW",
        "colab_type": "text"
      },
      "source": [
        "#####**(b) List**"
      ]
    },
    {
      "cell_type": "code",
      "metadata": {
        "id": "VVCPqCi5Up6w",
        "colab_type": "code",
        "outputId": "a55483a1-dacd-40dc-c920-f11150c7702f",
        "colab": {
          "base_uri": "https://localhost:8080/",
          "height": 34
        }
      },
      "source": [
        "mylist =['a','b','c']\n",
        "mylist"
      ],
      "execution_count": 11,
      "outputs": [
        {
          "output_type": "execute_result",
          "data": {
            "text/plain": [
              "['a', 'b', 'c']"
            ]
          },
          "metadata": {
            "tags": []
          },
          "execution_count": 11
        }
      ]
    },
    {
      "cell_type": "code",
      "metadata": {
        "id": "qoc1Ug8-Uu3v",
        "colab_type": "code",
        "outputId": "ba176457-75da-4266-d055-10f62e57256a",
        "colab": {
          "base_uri": "https://localhost:8080/",
          "height": 34
        }
      },
      "source": [
        "mylist[0]"
      ],
      "execution_count": 12,
      "outputs": [
        {
          "output_type": "execute_result",
          "data": {
            "text/plain": [
              "'a'"
            ]
          },
          "metadata": {
            "tags": []
          },
          "execution_count": 12
        }
      ]
    },
    {
      "cell_type": "code",
      "metadata": {
        "id": "BpuZtfTsUwtN",
        "colab_type": "code",
        "outputId": "7c09bd1d-6fb8-442e-cd18-f5b139bcfb0a",
        "colab": {
          "base_uri": "https://localhost:8080/",
          "height": 34
        }
      },
      "source": [
        "mylist.append('d')\n",
        "mylist"
      ],
      "execution_count": 13,
      "outputs": [
        {
          "output_type": "execute_result",
          "data": {
            "text/plain": [
              "['a', 'b', 'c', 'd']"
            ]
          },
          "metadata": {
            "tags": []
          },
          "execution_count": 13
        }
      ]
    },
    {
      "cell_type": "markdown",
      "metadata": {
        "id": "AIP78d9ZGbS8",
        "colab_type": "text"
      },
      "source": [
        "#####**(c) Dictionary**"
      ]
    },
    {
      "cell_type": "code",
      "metadata": {
        "id": "V5lt6AL5TvHX",
        "colab_type": "code",
        "outputId": "fe380c77-5375-4d44-f538-c656078ca3ec",
        "colab": {
          "base_uri": "https://localhost:8080/",
          "height": 34
        }
      },
      "source": [
        "d = {'key1':'value',\n",
        "     'key2':123,\n",
        "     'key3':[1,2,3]}\n",
        "d"
      ],
      "execution_count": 14,
      "outputs": [
        {
          "output_type": "execute_result",
          "data": {
            "text/plain": [
              "{'key1': 'value', 'key2': 123, 'key3': [1, 2, 3]}"
            ]
          },
          "metadata": {
            "tags": []
          },
          "execution_count": 14
        }
      ]
    },
    {
      "cell_type": "code",
      "metadata": {
        "id": "6uGmqTTtUhut",
        "colab_type": "code",
        "outputId": "0d9d6d6c-aa4f-4200-dbea-2ff893bae22b",
        "colab": {
          "base_uri": "https://localhost:8080/",
          "height": 34
        }
      },
      "source": [
        "d['key2']"
      ],
      "execution_count": 15,
      "outputs": [
        {
          "output_type": "execute_result",
          "data": {
            "text/plain": [
              "123"
            ]
          },
          "metadata": {
            "tags": []
          },
          "execution_count": 15
        }
      ]
    },
    {
      "cell_type": "code",
      "metadata": {
        "id": "LHvatAhmUkdV",
        "colab_type": "code",
        "outputId": "3b76c545-43d1-480e-9b3f-dae7d27d70c3",
        "colab": {
          "base_uri": "https://localhost:8080/",
          "height": 34
        }
      },
      "source": [
        "d['key3'][1]"
      ],
      "execution_count": 16,
      "outputs": [
        {
          "output_type": "execute_result",
          "data": {
            "text/plain": [
              "2"
            ]
          },
          "metadata": {
            "tags": []
          },
          "execution_count": 16
        }
      ]
    },
    {
      "cell_type": "markdown",
      "metadata": {
        "id": "m4C-N7HyU6kQ",
        "colab_type": "text"
      },
      "source": [
        "### **0.3 Comparison operators, if/else/for/while**"
      ]
    },
    {
      "cell_type": "markdown",
      "metadata": {
        "id": "jJgT1LAgHNdw",
        "colab_type": "text"
      },
      "source": [
        "#####**(a) Comparison operators**"
      ]
    },
    {
      "cell_type": "code",
      "metadata": {
        "id": "NqnU1zqFVB61",
        "colab_type": "code",
        "colab": {
          "base_uri": "https://localhost:8080/",
          "height": 34
        },
        "outputId": "e1b3cbc5-5cca-4a58-a46d-8166caa19fc3"
      },
      "source": [
        "1==2\n",
        "1>2\n",
        "2<3\n",
        "1!=2\n",
        "(1<2) and (2<3)\n",
        "(1>2) or (2<3)"
      ],
      "execution_count": 17,
      "outputs": [
        {
          "output_type": "execute_result",
          "data": {
            "text/plain": [
              "True"
            ]
          },
          "metadata": {
            "tags": []
          },
          "execution_count": 17
        }
      ]
    },
    {
      "cell_type": "markdown",
      "metadata": {
        "id": "MAzoUCYyHS0P",
        "colab_type": "text"
      },
      "source": [
        "#####**(b) if/else**"
      ]
    },
    {
      "cell_type": "code",
      "metadata": {
        "id": "hJrUWLmlVRbD",
        "colab_type": "code",
        "colab": {
          "base_uri": "https://localhost:8080/",
          "height": 34
        },
        "outputId": "60ed6e09-5479-4827-aebc-f611bd8cd589"
      },
      "source": [
        "a = 40\n",
        "if (a>100):\n",
        "  print('high')\n",
        "elif (a<30):\n",
        "  print('low')\n",
        "else:\n",
        "  print('medium')"
      ],
      "execution_count": 18,
      "outputs": [
        {
          "output_type": "stream",
          "text": [
            "medium\n"
          ],
          "name": "stdout"
        }
      ]
    },
    {
      "cell_type": "code",
      "metadata": {
        "id": "Y0vmjDf6VUzR",
        "colab_type": "code",
        "colab": {
          "base_uri": "https://localhost:8080/",
          "height": 34
        },
        "outputId": "01686eb2-ddfa-4ca3-8573-11543c94645d"
      },
      "source": [
        "if True:\n",
        "  print('perform code')"
      ],
      "execution_count": 19,
      "outputs": [
        {
          "output_type": "stream",
          "text": [
            "perform code\n"
          ],
          "name": "stdout"
        }
      ]
    },
    {
      "cell_type": "markdown",
      "metadata": {
        "id": "4OAuSkxeHZ1y",
        "colab_type": "text"
      },
      "source": [
        "#####**(c) for/while**"
      ]
    },
    {
      "cell_type": "code",
      "metadata": {
        "id": "fMYFmPyhVU9J",
        "colab_type": "code",
        "outputId": "02e521e3-fc89-4ecb-fc72-9af18c51235b",
        "colab": {
          "base_uri": "https://localhost:8080/",
          "height": 105
        }
      },
      "source": [
        "seq = [1,2,3,4,5]\n",
        "for i in seq:\n",
        "  print(i)"
      ],
      "execution_count": 20,
      "outputs": [
        {
          "output_type": "stream",
          "text": [
            "1\n",
            "2\n",
            "3\n",
            "4\n",
            "5\n"
          ],
          "name": "stdout"
        }
      ]
    },
    {
      "cell_type": "code",
      "metadata": {
        "id": "6TSep_flVRnB",
        "colab_type": "code",
        "outputId": "3fb6e736-3df6-483a-896a-b5f18ceb15f0",
        "colab": {
          "base_uri": "https://localhost:8080/",
          "height": 105
        }
      },
      "source": [
        "for i in range(0,5):\n",
        "  print(i)"
      ],
      "execution_count": 21,
      "outputs": [
        {
          "output_type": "stream",
          "text": [
            "0\n",
            "1\n",
            "2\n",
            "3\n",
            "4\n"
          ],
          "name": "stdout"
        }
      ]
    },
    {
      "cell_type": "code",
      "metadata": {
        "id": "rb3rjHUjDy2h",
        "colab_type": "code",
        "outputId": "22720ab2-aab9-4c19-dced-b76923c5c087",
        "colab": {
          "base_uri": "https://localhost:8080/",
          "height": 105
        }
      },
      "source": [
        "import numpy as np\n",
        "for i in np.arange(5):\n",
        "  print(i)"
      ],
      "execution_count": 22,
      "outputs": [
        {
          "output_type": "stream",
          "text": [
            "0\n",
            "1\n",
            "2\n",
            "3\n",
            "4\n"
          ],
          "name": "stdout"
        }
      ]
    },
    {
      "cell_type": "code",
      "metadata": {
        "id": "vOMvKT_GVsVm",
        "colab_type": "code",
        "outputId": "b8149d36-a3ea-4d69-9507-cd8d0f248720",
        "colab": {
          "base_uri": "https://localhost:8080/",
          "height": 105
        }
      },
      "source": [
        "i=0\n",
        "while i<5:\n",
        "  print(i)\n",
        "  i=i+1"
      ],
      "execution_count": 23,
      "outputs": [
        {
          "output_type": "stream",
          "text": [
            "0\n",
            "1\n",
            "2\n",
            "3\n",
            "4\n"
          ],
          "name": "stdout"
        }
      ]
    },
    {
      "cell_type": "markdown",
      "metadata": {
        "id": "bTJuj4SZZBMC",
        "colab_type": "text"
      },
      "source": [
        "### **0.4 Function**"
      ]
    },
    {
      "cell_type": "code",
      "metadata": {
        "id": "2wokiSI8ZSIo",
        "colab_type": "code",
        "outputId": "a3f578be-1693-488f-f1a6-428f59e10e1d",
        "colab": {
          "base_uri": "https://localhost:8080/",
          "height": 34
        }
      },
      "source": [
        "def multiplyTwo(a):\n",
        "  return(a*2)\n",
        "  \n",
        "multiplyTwo(3)"
      ],
      "execution_count": 24,
      "outputs": [
        {
          "output_type": "execute_result",
          "data": {
            "text/plain": [
              "6"
            ]
          },
          "metadata": {
            "tags": []
          },
          "execution_count": 24
        }
      ]
    },
    {
      "cell_type": "code",
      "metadata": {
        "id": "F5MiL5gmZYW1",
        "colab_type": "code",
        "outputId": "f3a7240e-6d21-4a3c-a8ee-95b9102800a0",
        "colab": {
          "base_uri": "https://localhost:8080/",
          "height": 34
        }
      },
      "source": [
        "def myname(name='Unknown'):\n",
        "  print('Good morning, ' + name)\n",
        "\n",
        "myname('Alice')"
      ],
      "execution_count": 25,
      "outputs": [
        {
          "output_type": "stream",
          "text": [
            "Good morning, Alice\n"
          ],
          "name": "stdout"
        }
      ]
    },
    {
      "cell_type": "code",
      "metadata": {
        "id": "iO93uIloZhI8",
        "colab_type": "code",
        "outputId": "698d1851-6b6f-4d9c-a734-a72a4c3566c3",
        "colab": {
          "base_uri": "https://localhost:8080/",
          "height": 34
        }
      },
      "source": [
        "myname()"
      ],
      "execution_count": 26,
      "outputs": [
        {
          "output_type": "stream",
          "text": [
            "Good morning, Unknown\n"
          ],
          "name": "stdout"
        }
      ]
    },
    {
      "cell_type": "markdown",
      "metadata": {
        "id": "JqeIF5cmZq9B",
        "colab_type": "text"
      },
      "source": [
        "### **0.5 map, lambda** "
      ]
    },
    {
      "cell_type": "code",
      "metadata": {
        "id": "qO88R9N1Zibb",
        "colab_type": "code",
        "outputId": "194320e2-8047-44b6-f927-fd18ad3934db",
        "colab": {
          "base_uri": "https://localhost:8080/",
          "height": 52
        }
      },
      "source": [
        "def times2(var):\n",
        "  return var*2\n",
        "\n",
        "num=10\n",
        "print(times2(num))\n",
        "\n",
        "seq=[1,2,3]\n",
        "print(times2(seq))"
      ],
      "execution_count": 27,
      "outputs": [
        {
          "output_type": "stream",
          "text": [
            "20\n",
            "[1, 2, 3, 1, 2, 3]\n"
          ],
          "name": "stdout"
        }
      ]
    },
    {
      "cell_type": "code",
      "metadata": {
        "id": "z0pg_S18ZimL",
        "colab_type": "code",
        "outputId": "6163490d-cd6a-439f-c4bb-c7a399de6f1d",
        "colab": {
          "base_uri": "https://localhost:8080/",
          "height": 34
        }
      },
      "source": [
        "#map = make an iterator that computes the function using arguments from each of the iterables\n",
        "list(map(times2,seq))"
      ],
      "execution_count": 28,
      "outputs": [
        {
          "output_type": "execute_result",
          "data": {
            "text/plain": [
              "[2, 4, 6]"
            ]
          },
          "metadata": {
            "tags": []
          },
          "execution_count": 28
        }
      ]
    },
    {
      "cell_type": "code",
      "metadata": {
        "id": "6V2JxPOFadQi",
        "colab_type": "code",
        "outputId": "506c96ea-21e7-4770-c48c-8846ea002d7c",
        "colab": {
          "base_uri": "https://localhost:8080/",
          "height": 52
        }
      },
      "source": [
        "times2 = lambda var:var*2 #lambda, a function with an input 'a', output is 'a*2'\n",
        "\n",
        "print(times2(num))\n",
        "print(times2(seq))"
      ],
      "execution_count": 29,
      "outputs": [
        {
          "output_type": "stream",
          "text": [
            "20\n",
            "[1, 2, 3, 1, 2, 3]\n"
          ],
          "name": "stdout"
        }
      ]
    },
    {
      "cell_type": "code",
      "metadata": {
        "id": "D_EUp3xUadfi",
        "colab_type": "code",
        "outputId": "e5b53ed4-2d49-49f7-854b-ccaa1a5fe18a",
        "colab": {
          "base_uri": "https://localhost:8080/",
          "height": 34
        }
      },
      "source": [
        "list(map(times2,seq))\n",
        "#list(map(lambda var:var*2,seq))"
      ],
      "execution_count": 30,
      "outputs": [
        {
          "output_type": "execute_result",
          "data": {
            "text/plain": [
              "[2, 4, 6]"
            ]
          },
          "metadata": {
            "tags": []
          },
          "execution_count": 30
        }
      ]
    },
    {
      "cell_type": "code",
      "metadata": {
        "id": "_E-pKvhiMR9f",
        "colab_type": "code",
        "outputId": "f8c10f5e-08d8-40ed-9243-1b3ffb082272",
        "colab": {
          "base_uri": "https://localhost:8080/",
          "height": 34
        }
      },
      "source": [
        "funcA = lambda var1,var2:var1**var2\n",
        "\n",
        "print(funcA(3,2))"
      ],
      "execution_count": 31,
      "outputs": [
        {
          "output_type": "stream",
          "text": [
            "9\n"
          ],
          "name": "stdout"
        }
      ]
    },
    {
      "cell_type": "markdown",
      "metadata": {
        "id": "VaARp8xUif4z",
        "colab_type": "text"
      },
      "source": [
        "### **0.6 Split**"
      ]
    },
    {
      "cell_type": "code",
      "metadata": {
        "id": "RXgix8sgh630",
        "colab_type": "code",
        "outputId": "196298d9-16f9-4c6a-e0c2-2b64483e7212",
        "colab": {
          "base_uri": "https://localhost:8080/",
          "height": 34
        }
      },
      "source": [
        "s = '2019-01-01 00:15'\n",
        "s.split()"
      ],
      "execution_count": 32,
      "outputs": [
        {
          "output_type": "execute_result",
          "data": {
            "text/plain": [
              "['2019-01-01', '00:15']"
            ]
          },
          "metadata": {
            "tags": []
          },
          "execution_count": 32
        }
      ]
    },
    {
      "cell_type": "code",
      "metadata": {
        "id": "5NSGFdO9iAfr",
        "colab_type": "code",
        "outputId": "0000dc6f-2191-4c60-a7d2-437c66ecd5eb",
        "colab": {
          "base_uri": "https://localhost:8080/",
          "height": 34
        }
      },
      "source": [
        "s = '2019-01-01'\n",
        "s.split('-')"
      ],
      "execution_count": 33,
      "outputs": [
        {
          "output_type": "execute_result",
          "data": {
            "text/plain": [
              "['2019', '01', '01']"
            ]
          },
          "metadata": {
            "tags": []
          },
          "execution_count": 33
        }
      ]
    },
    {
      "cell_type": "code",
      "metadata": {
        "id": "c-dAnxVYiInv",
        "colab_type": "code",
        "outputId": "6f2c249f-acae-4bf7-8718-03de21b30d9a",
        "colab": {
          "base_uri": "https://localhost:8080/",
          "height": 34
        }
      },
      "source": [
        "'A B C D E'.split() #useful to create header for DataFrame"
      ],
      "execution_count": 34,
      "outputs": [
        {
          "output_type": "execute_result",
          "data": {
            "text/plain": [
              "['A', 'B', 'C', 'D', 'E']"
            ]
          },
          "metadata": {
            "tags": []
          },
          "execution_count": 34
        }
      ]
    },
    {
      "cell_type": "markdown",
      "metadata": {
        "id": "fUCyyD4MBvUB",
        "colab_type": "text"
      },
      "source": [
        "\n",
        "\n",
        "---\n",
        "\n",
        "\n",
        "#**1.0 NumPy**\n",
        "\n",
        "Understand Numpy Array, indexing and numpy operations"
      ]
    },
    {
      "cell_type": "code",
      "metadata": {
        "id": "6XM2rvOX5B63",
        "colab_type": "code",
        "colab": {}
      },
      "source": [
        "import numpy as np #import numpy"
      ],
      "execution_count": 0,
      "outputs": []
    },
    {
      "cell_type": "markdown",
      "metadata": {
        "id": "iBgXiXv0jO5v",
        "colab_type": "text"
      },
      "source": [
        "###**1.1 Numpy Array**"
      ]
    },
    {
      "cell_type": "markdown",
      "metadata": {
        "id": "Rnx-ElUFcptA",
        "colab_type": "text"
      },
      "source": [
        "#####**(a) List vs Numpy Array**"
      ]
    },
    {
      "cell_type": "code",
      "metadata": {
        "id": "ZS5c1IVmi74D",
        "colab_type": "code",
        "outputId": "9247a516-1229-409e-b0c4-e52877f4e427",
        "colab": {
          "base_uri": "https://localhost:8080/",
          "height": 34
        }
      },
      "source": [
        "mylist = [1,2,3] #define a list\n",
        "mylist"
      ],
      "execution_count": 36,
      "outputs": [
        {
          "output_type": "execute_result",
          "data": {
            "text/plain": [
              "[1, 2, 3]"
            ]
          },
          "metadata": {
            "tags": []
          },
          "execution_count": 36
        }
      ]
    },
    {
      "cell_type": "code",
      "metadata": {
        "id": "PUTpNJkM5Gnl",
        "colab_type": "code",
        "outputId": "1ac56fb6-4900-44cb-b4a9-3439eb477f9b",
        "colab": {
          "base_uri": "https://localhost:8080/",
          "height": 34
        }
      },
      "source": [
        "arr=np.array(mylist) #create an array from a list\n",
        "arr"
      ],
      "execution_count": 37,
      "outputs": [
        {
          "output_type": "execute_result",
          "data": {
            "text/plain": [
              "array([1, 2, 3])"
            ]
          },
          "metadata": {
            "tags": []
          },
          "execution_count": 37
        }
      ]
    },
    {
      "cell_type": "code",
      "metadata": {
        "id": "EBTNNWQXYfSO",
        "colab_type": "code",
        "outputId": "6e598e1c-e26c-4175-e85e-2ec62fceaa45",
        "colab": {
          "base_uri": "https://localhost:8080/",
          "height": 34
        }
      },
      "source": [
        "arr*2 #Numpy array is suitable for math operation, unlike list."
      ],
      "execution_count": 38,
      "outputs": [
        {
          "output_type": "execute_result",
          "data": {
            "text/plain": [
              "array([2, 4, 6])"
            ]
          },
          "metadata": {
            "tags": []
          },
          "execution_count": 38
        }
      ]
    },
    {
      "cell_type": "code",
      "metadata": {
        "id": "a9oT-WM4wYNW",
        "colab_type": "code",
        "outputId": "b65cf0eb-1210-4d5b-8921-e08d2cd540fa",
        "colab": {
          "base_uri": "https://localhost:8080/",
          "height": 34
        }
      },
      "source": [
        "#previously we need to use map function:\n",
        "list(map(times2,mylist))"
      ],
      "execution_count": 39,
      "outputs": [
        {
          "output_type": "execute_result",
          "data": {
            "text/plain": [
              "[2, 4, 6]"
            ]
          },
          "metadata": {
            "tags": []
          },
          "execution_count": 39
        }
      ]
    },
    {
      "cell_type": "markdown",
      "metadata": {
        "id": "W3GSUh6lcv2B",
        "colab_type": "text"
      },
      "source": [
        "##### **(b) np.arange**"
      ]
    },
    {
      "cell_type": "code",
      "metadata": {
        "id": "wz31C4RHY8gW",
        "colab_type": "code",
        "colab": {
          "base_uri": "https://localhost:8080/",
          "height": 34
        },
        "outputId": "8f0375be-4dbe-4e54-e186-18b37cc6615e"
      },
      "source": [
        "np.arange(10)   #create an array from 0 to end-exclusive\n",
        "np.arange(5,10) #create an array from start-inclusive to end-exclusive\n",
        "np.arange(0,10,2) #add an argument indicating the step size "
      ],
      "execution_count": 40,
      "outputs": [
        {
          "output_type": "execute_result",
          "data": {
            "text/plain": [
              "array([0, 2, 4, 6, 8])"
            ]
          },
          "metadata": {
            "tags": []
          },
          "execution_count": 40
        }
      ]
    },
    {
      "cell_type": "markdown",
      "metadata": {
        "id": "ZXbRELvfc1Qf",
        "colab_type": "text"
      },
      "source": [
        "#####**(c) np.zeros, np.ones, np.eye**"
      ]
    },
    {
      "cell_type": "code",
      "metadata": {
        "id": "vO2mgIkp5vYa",
        "colab_type": "code",
        "colab": {
          "base_uri": "https://localhost:8080/",
          "height": 70
        },
        "outputId": "c592316e-f8d5-46ba-a939-e3d449589122"
      },
      "source": [
        "np.zeros(3) #create a zero array\n",
        "np.ones(3)  #creae an array filled with ones\n",
        "np.zeros((3,3)) #create a zero matrix\n",
        "np.ones((3,3)) #create a matrix filled with ones\n",
        "np.eye(3) #create identity matrix"
      ],
      "execution_count": 41,
      "outputs": [
        {
          "output_type": "execute_result",
          "data": {
            "text/plain": [
              "array([[1., 0., 0.],\n",
              "       [0., 1., 0.],\n",
              "       [0., 0., 1.]])"
            ]
          },
          "metadata": {
            "tags": []
          },
          "execution_count": 41
        }
      ]
    },
    {
      "cell_type": "markdown",
      "metadata": {
        "id": "tXaXxEscc_Cc",
        "colab_type": "text"
      },
      "source": [
        "##### **(d) np.random**"
      ]
    },
    {
      "cell_type": "code",
      "metadata": {
        "id": "G63RS1Pb_pI9",
        "colab_type": "code",
        "colab": {
          "base_uri": "https://localhost:8080/",
          "height": 34
        },
        "outputId": "12535b58-5d88-418f-ea54-ca424f5bd6fb"
      },
      "source": [
        "np.random.rand(3) #one dimentional array filled with random numbers (uniform distribution)\n",
        "np.random.randn(3) #one dimentional array filled with random number (guassian distribution)\n"
      ],
      "execution_count": 42,
      "outputs": [
        {
          "output_type": "execute_result",
          "data": {
            "text/plain": [
              "array([ 1.0838476 ,  0.72694424, -0.40281067])"
            ]
          },
          "metadata": {
            "tags": []
          },
          "execution_count": 42
        }
      ]
    },
    {
      "cell_type": "code",
      "metadata": {
        "id": "5WkiSaGCyRLM",
        "colab_type": "code",
        "outputId": "abae04b3-ea43-4a2a-8f3c-a34f83cbba19",
        "colab": {
          "base_uri": "https://localhost:8080/",
          "height": 282
        }
      },
      "source": [
        "import matplotlib.pyplot as plt\n",
        "a=np.random.rand(3000)\n",
        "plt.plot(a)"
      ],
      "execution_count": 43,
      "outputs": [
        {
          "output_type": "execute_result",
          "data": {
            "text/plain": [
              "[<matplotlib.lines.Line2D at 0x7fe1ef37ec18>]"
            ]
          },
          "metadata": {
            "tags": []
          },
          "execution_count": 43
        },
        {
          "output_type": "display_data",
          "data": {
            "image/png": "[encoded data removed]",
            "text/plain": [
              "<Figure size 432x288 with 1 Axes>"
            ]
          },
          "metadata": {
            "tags": []
          }
        }
      ]
    },
    {
      "cell_type": "code",
      "metadata": {
        "id": "AWqgiXuFyZnW",
        "colab_type": "code",
        "outputId": "9e197155-3f34-48e5-fb32-13768bfeacf3",
        "colab": {
          "base_uri": "https://localhost:8080/",
          "height": 353
        }
      },
      "source": [
        "plt.hist(a)"
      ],
      "execution_count": 44,
      "outputs": [
        {
          "output_type": "execute_result",
          "data": {
            "text/plain": [
              "(array([299., 299., 302., 310., 301., 296., 289., 309., 287., 308.]),\n",
              " array([2.60379705e-04, 1.00182252e-01, 2.00104124e-01, 3.00025995e-01,\n",
              "        3.99947867e-01, 4.99869739e-01, 5.99791611e-01, 6.99713483e-01,\n",
              "        7.99635355e-01, 8.99557227e-01, 9.99479099e-01]),\n",
              " <a list of 10 Patch objects>)"
            ]
          },
          "metadata": {
            "tags": []
          },
          "execution_count": 44
        },
        {
          "output_type": "display_data",
          "data": {
            "image/png": "[encoded data removed]",
            "text/plain": [
              "<Figure size 432x288 with 1 Axes>"
            ]
          },
          "metadata": {
            "tags": []
          }
        }
      ]
    },
    {
      "cell_type": "code",
      "metadata": {
        "id": "VVhEAR2byd28",
        "colab_type": "code",
        "outputId": "bbe76757-3948-4d82-a66b-8c99a6942f92",
        "colab": {
          "base_uri": "https://localhost:8080/",
          "height": 286
        }
      },
      "source": [
        "b=np.random.randn(3000)\n",
        "plt.plot(b)"
      ],
      "execution_count": 45,
      "outputs": [
        {
          "output_type": "execute_result",
          "data": {
            "text/plain": [
              "[<matplotlib.lines.Line2D at 0x7fe1eee3bf28>]"
            ]
          },
          "metadata": {
            "tags": []
          },
          "execution_count": 45
        },
        {
          "output_type": "display_data",
          "data": {
            "image/png": "[encoded data removed]",
            "text/plain": [
              "<Figure size 432x288 with 1 Axes>"
            ]
          },
          "metadata": {
            "tags": []
          }
        }
      ]
    },
    {
      "cell_type": "code",
      "metadata": {
        "id": "Gf76DrnFyidf",
        "colab_type": "code",
        "outputId": "0cf63c74-b7fe-488f-d2e6-9f02c092e77b",
        "colab": {
          "base_uri": "https://localhost:8080/",
          "height": 353
        }
      },
      "source": [
        "plt.hist(b)"
      ],
      "execution_count": 46,
      "outputs": [
        {
          "output_type": "execute_result",
          "data": {
            "text/plain": [
              "(array([  5.,  51., 217., 575., 814., 712., 423., 163.,  34.,   6.]),\n",
              " array([-3.44141251, -2.7319075 , -2.02240249, -1.31289748, -0.60339247,\n",
              "         0.10611254,  0.81561755,  1.52512256,  2.23462757,  2.94413258,\n",
              "         3.65363759]),\n",
              " <a list of 10 Patch objects>)"
            ]
          },
          "metadata": {
            "tags": []
          },
          "execution_count": 46
        },
        {
          "output_type": "display_data",
          "data": {
            "image/png": "[encoded data removed]",
            "text/plain": [
              "<Figure size 432x288 with 1 Axes>"
            ]
          },
          "metadata": {
            "tags": []
          }
        }
      ]
    },
    {
      "cell_type": "code",
      "metadata": {
        "id": "UGgQk9F9y13E",
        "colab_type": "code",
        "colab": {
          "base_uri": "https://localhost:8080/",
          "height": 87
        },
        "outputId": "e8cf6084-3a1c-45e0-f501-27284d51cecf"
      },
      "source": [
        "np.random.randint(1,100) #random integer - low-inclusive; high-exclusive\n",
        "np.random.rand(3,3) #a matrix filled with random numbers\n",
        "arr=np.random.randint(1,100,10) #specify number of random numbers to display\n",
        "print('arr=', arr)\n",
        "print('arrmax=', arr.max()) #max method\n",
        "print('argmax=', arr.argmax()) #return the index location of the max value\n",
        "print('arrshape=', arr.shape) #find the shape of the matrix"
      ],
      "execution_count": 47,
      "outputs": [
        {
          "output_type": "stream",
          "text": [
            "arr= [31 17 62 43 76 57 36  4 29 91]\n",
            "arrmax= 91\n",
            "argmax= 9\n",
            "arrshape= (10,)\n"
          ],
          "name": "stdout"
        }
      ]
    },
    {
      "cell_type": "markdown",
      "metadata": {
        "id": "CEFZtn-DEF3w",
        "colab_type": "text"
      },
      "source": [
        "###**1.2 Numpy Array Indexing and Selection**"
      ]
    },
    {
      "cell_type": "markdown",
      "metadata": {
        "id": "aJWP441xgWt3",
        "colab_type": "text"
      },
      "source": [
        "#####**(a) 1-D array example**"
      ]
    },
    {
      "cell_type": "code",
      "metadata": {
        "id": "FLE6VPc3ENrg",
        "colab_type": "code",
        "outputId": "9c685b19-bed3-4f00-ba84-d1e19520093b",
        "colab": {
          "base_uri": "https://localhost:8080/",
          "height": 34
        }
      },
      "source": [
        "arr = np.arange(0,11)\n",
        "arr"
      ],
      "execution_count": 48,
      "outputs": [
        {
          "output_type": "execute_result",
          "data": {
            "text/plain": [
              "array([ 0,  1,  2,  3,  4,  5,  6,  7,  8,  9, 10])"
            ]
          },
          "metadata": {
            "tags": []
          },
          "execution_count": 48
        }
      ]
    },
    {
      "cell_type": "code",
      "metadata": {
        "id": "_-4pTkTEESaK",
        "colab_type": "code",
        "colab": {
          "base_uri": "https://localhost:8080/",
          "height": 34
        },
        "outputId": "081817b3-08fe-4329-fbfc-dcbf23b86553"
      },
      "source": [
        "arr[1]\n",
        "arr[1:5]\n",
        "arr[:5]\n",
        "arr[5:]"
      ],
      "execution_count": 49,
      "outputs": [
        {
          "output_type": "execute_result",
          "data": {
            "text/plain": [
              "array([ 5,  6,  7,  8,  9, 10])"
            ]
          },
          "metadata": {
            "tags": []
          },
          "execution_count": 49
        }
      ]
    },
    {
      "cell_type": "code",
      "metadata": {
        "id": "TQFfcgIzE3_S",
        "colab_type": "code",
        "colab": {
          "base_uri": "https://localhost:8080/",
          "height": 34
        },
        "outputId": "da6cc3e2-d2fa-4f6e-b106-62fc641ebfcf"
      },
      "source": [
        "arr[0:5] = -100  #broadcast\n",
        "arr"
      ],
      "execution_count": 50,
      "outputs": [
        {
          "output_type": "execute_result",
          "data": {
            "text/plain": [
              "array([-100, -100, -100, -100, -100,    5,    6,    7,    8,    9,   10])"
            ]
          },
          "metadata": {
            "tags": []
          },
          "execution_count": 50
        }
      ]
    },
    {
      "cell_type": "code",
      "metadata": {
        "id": "fG6T93Qaffj1",
        "colab_type": "code",
        "colab": {
          "base_uri": "https://localhost:8080/",
          "height": 34
        },
        "outputId": "c2b6e705-8bff-4d86-9e85-09c6e5ccf7e2"
      },
      "source": [
        "arr[arr>5] #conditionally select the elements from the original array"
      ],
      "execution_count": 51,
      "outputs": [
        {
          "output_type": "execute_result",
          "data": {
            "text/plain": [
              "array([ 6,  7,  8,  9, 10])"
            ]
          },
          "metadata": {
            "tags": []
          },
          "execution_count": 51
        }
      ]
    },
    {
      "cell_type": "markdown",
      "metadata": {
        "id": "5rBmPNXggcqn",
        "colab_type": "text"
      },
      "source": [
        "##### **(b) 2-D arry example**"
      ]
    },
    {
      "cell_type": "code",
      "metadata": {
        "id": "K0ADtpqrFD8-",
        "colab_type": "code",
        "outputId": "ef2560ce-71f7-4a3e-a5e7-dd97e53657d9",
        "colab": {
          "base_uri": "https://localhost:8080/",
          "height": 70
        }
      },
      "source": [
        "arr_2d = np.array([[5,10,15],[20,25,30],[35,40,45]])\n",
        "arr_2d"
      ],
      "execution_count": 52,
      "outputs": [
        {
          "output_type": "execute_result",
          "data": {
            "text/plain": [
              "array([[ 5, 10, 15],\n",
              "       [20, 25, 30],\n",
              "       [35, 40, 45]])"
            ]
          },
          "metadata": {
            "tags": []
          },
          "execution_count": 52
        }
      ]
    },
    {
      "cell_type": "code",
      "metadata": {
        "id": "q4SW-xPM2bYO",
        "colab_type": "code",
        "outputId": "937a5aac-697c-41b9-82b4-add8d3805235",
        "colab": {
          "base_uri": "https://localhost:8080/",
          "height": 34
        }
      },
      "source": [
        "arr_2d.shape"
      ],
      "execution_count": 53,
      "outputs": [
        {
          "output_type": "execute_result",
          "data": {
            "text/plain": [
              "(3, 3)"
            ]
          },
          "metadata": {
            "tags": []
          },
          "execution_count": 53
        }
      ]
    },
    {
      "cell_type": "code",
      "metadata": {
        "id": "kjwS9KpIGFc9",
        "colab_type": "code",
        "colab": {
          "base_uri": "https://localhost:8080/",
          "height": 52
        },
        "outputId": "ac935ede-87ff-45de-a72b-706057c15a5e"
      },
      "source": [
        "arr_2d[0] #grabing a row\n",
        "arr_2d[0,0]\n",
        "arr_2d[0][0]\n",
        "arr_2d[:,0] #grabing a column\n",
        "arr_2d[:2,1:] #grabing rows 0, 1 and columns 1, 2"
      ],
      "execution_count": 54,
      "outputs": [
        {
          "output_type": "execute_result",
          "data": {
            "text/plain": [
              "array([[10, 15],\n",
              "       [25, 30]])"
            ]
          },
          "metadata": {
            "tags": []
          },
          "execution_count": 54
        }
      ]
    },
    {
      "cell_type": "markdown",
      "metadata": {
        "id": "CShfMbJ3dGSS",
        "colab_type": "text"
      },
      "source": [
        "##### **(c) array.reshape**"
      ]
    },
    {
      "cell_type": "code",
      "metadata": {
        "id": "wUzDWZyPJP2g",
        "colab_type": "code",
        "outputId": "8ebf5cce-4b11-47a5-87c8-ef3e5306a614",
        "colab": {
          "base_uri": "https://localhost:8080/",
          "height": 34
        }
      },
      "source": [
        "arr_1d = np.arange(9)\n",
        "arr_1d"
      ],
      "execution_count": 0,
      "outputs": [
        {
          "output_type": "execute_result",
          "data": {
            "text/plain": [
              "array([0, 1, 2, 3, 4, 5, 6, 7, 8])"
            ]
          },
          "metadata": {
            "tags": []
          },
          "execution_count": 153
        }
      ]
    },
    {
      "cell_type": "code",
      "metadata": {
        "id": "i1gzwjfOhHfb",
        "colab_type": "code",
        "outputId": "8123a4ac-b1ca-48bc-cfd0-86c640326d04",
        "colab": {
          "base_uri": "https://localhost:8080/",
          "height": 69
        }
      },
      "source": [
        "arr_2d = arr_1d.reshape(3,3)\n",
        "arr_2d"
      ],
      "execution_count": 0,
      "outputs": [
        {
          "output_type": "execute_result",
          "data": {
            "text/plain": [
              "array([[0, 1, 2],\n",
              "       [3, 4, 5],\n",
              "       [6, 7, 8]])"
            ]
          },
          "metadata": {
            "tags": []
          },
          "execution_count": 154
        }
      ]
    },
    {
      "cell_type": "code",
      "metadata": {
        "id": "SjbF7wWIhS76",
        "colab_type": "code",
        "outputId": "af9af785-6a1d-4b58-bd40-432369761c74",
        "colab": {
          "base_uri": "https://localhost:8080/",
          "height": 69
        }
      },
      "source": [
        "np.arange(9).reshape(3,3)"
      ],
      "execution_count": 0,
      "outputs": [
        {
          "output_type": "execute_result",
          "data": {
            "text/plain": [
              "array([[0, 1, 2],\n",
              "       [3, 4, 5],\n",
              "       [6, 7, 8]])"
            ]
          },
          "metadata": {
            "tags": []
          },
          "execution_count": 156
        }
      ]
    },
    {
      "cell_type": "markdown",
      "metadata": {
        "id": "eBeSFLc5J_Ti",
        "colab_type": "text"
      },
      "source": [
        "###**1.3 NumPy Operations**"
      ]
    },
    {
      "cell_type": "code",
      "metadata": {
        "id": "bfsfial4KFAA",
        "colab_type": "code",
        "outputId": "afd099ff-b297-4543-d6b4-2f66e54d8e5f",
        "colab": {
          "base_uri": "https://localhost:8080/",
          "height": 34
        }
      },
      "source": [
        "arr = np.arange(1,11)\n",
        "arr"
      ],
      "execution_count": 55,
      "outputs": [
        {
          "output_type": "execute_result",
          "data": {
            "text/plain": [
              "array([ 1,  2,  3,  4,  5,  6,  7,  8,  9, 10])"
            ]
          },
          "metadata": {
            "tags": []
          },
          "execution_count": 55
        }
      ]
    },
    {
      "cell_type": "code",
      "metadata": {
        "id": "9e13wGyEKKxu",
        "colab_type": "code",
        "colab": {
          "base_uri": "https://localhost:8080/",
          "height": 34
        },
        "outputId": "b65bff6c-a990-4cc8-f01d-fcfce48ff1bd"
      },
      "source": [
        "arr*2\n",
        "arr+arr\n",
        "arr**2\n",
        "arr+100\n",
        "arr-100\n",
        "arr/arr\n",
        "1/arr\n",
        "\n",
        "arr.max()\n",
        "arr.min()\n",
        "arr.sum()\n",
        "\n",
        "np.max(arr)\n",
        "np.min(arr)\n",
        "np.sum(arr)\n",
        "np.sin(arr)\n",
        "np.log(arr)\n",
        "np.mean(arr)   #we will use this for RMSE calculation\n",
        "np.square(arr) #we will use this for RMSE calculation\n",
        "np.sqrt(arr)   #we will use this for RMSE calculation\n",
        "np.abs(arr)    #we will use this for MAPE calculation\n"
      ],
      "execution_count": 56,
      "outputs": [
        {
          "output_type": "execute_result",
          "data": {
            "text/plain": [
              "array([ 1,  2,  3,  4,  5,  6,  7,  8,  9, 10])"
            ]
          },
          "metadata": {
            "tags": []
          },
          "execution_count": 56
        }
      ]
    },
    {
      "cell_type": "markdown",
      "metadata": {
        "id": "YpxkxDUmLgJS",
        "colab_type": "text"
      },
      "source": [
        "See more at https://docs.scipy.org/doc/numpy/reference/ufuncs.html"
      ]
    },
    {
      "cell_type": "markdown",
      "metadata": {
        "id": "Wnvzsp_TeS-G",
        "colab_type": "text"
      },
      "source": [
        "\n",
        "\n",
        "---\n",
        "\n",
        "\n",
        "# **2.0 Pandas**\n",
        "\n",
        "Understand Pandas series and DataFrames\n",
        "\n"
      ]
    },
    {
      "cell_type": "code",
      "metadata": {
        "id": "r86gnPHHeVht",
        "colab_type": "code",
        "colab": {}
      },
      "source": [
        "import numpy as np\n",
        "import pandas as pd"
      ],
      "execution_count": 0,
      "outputs": []
    },
    {
      "cell_type": "markdown",
      "metadata": {
        "id": "xtucCDP2jD-S",
        "colab_type": "text"
      },
      "source": [
        "###**2.1 Pandas Series**\n",
        "\n",
        "* Creating Pandas Series from a list or numpy array\n",
        "* Creating Pandas Series from a list + label\n",
        "* Creating Pandas series from a dictionary\n",
        "* Indexing and Pandas operation"
      ]
    },
    {
      "cell_type": "markdown",
      "metadata": {
        "id": "GfFUtw9bl75R",
        "colab_type": "text"
      },
      "source": [
        "##### **(a) Creating Pandas Series from a list or numpy array**"
      ]
    },
    {
      "cell_type": "code",
      "metadata": {
        "id": "W1u9r4f3fXqk",
        "colab_type": "code",
        "outputId": "f4947778-fbf4-4b31-8639-9d908645c43c",
        "colab": {
          "base_uri": "https://localhost:8080/",
          "height": 87
        }
      },
      "source": [
        "my_data = [10,20,30]\n",
        "pd.Series(data = my_data) #create a Pandas Series using a list\n",
        "#pd.Series(np.array(my_data) #you can put array in Pandas Series. it works the same way as list"
      ],
      "execution_count": 58,
      "outputs": [
        {
          "output_type": "execute_result",
          "data": {
            "text/plain": [
              "0    10\n",
              "1    20\n",
              "2    30\n",
              "dtype: int64"
            ]
          },
          "metadata": {
            "tags": []
          },
          "execution_count": 58
        }
      ]
    },
    {
      "cell_type": "markdown",
      "metadata": {
        "id": "Iqpe-a0zmBFo",
        "colab_type": "text"
      },
      "source": [
        "##### **(b) Creating Pandas Series from a list + labels**"
      ]
    },
    {
      "cell_type": "code",
      "metadata": {
        "id": "JzQ8EWgefjcj",
        "colab_type": "code",
        "outputId": "77ff007c-21d7-4e96-f565-3e923f089177",
        "colab": {
          "base_uri": "https://localhost:8080/",
          "height": 87
        }
      },
      "source": [
        "labels = ['a','b','c']\n",
        "pd.Series(my_data, labels)  #this works as long as you put them in the right order\n",
        "#pd.Series(data = my_data, index=labels) #create a Pandas Series using data & index"
      ],
      "execution_count": 59,
      "outputs": [
        {
          "output_type": "execute_result",
          "data": {
            "text/plain": [
              "a    10\n",
              "b    20\n",
              "c    30\n",
              "dtype: int64"
            ]
          },
          "metadata": {
            "tags": []
          },
          "execution_count": 59
        }
      ]
    },
    {
      "cell_type": "markdown",
      "metadata": {
        "id": "SaYbGtQmmHI5",
        "colab_type": "text"
      },
      "source": [
        "#####**(c) Creating Pandas Series from a dictionary**"
      ]
    },
    {
      "cell_type": "code",
      "metadata": {
        "id": "D0KqDaj8f74W",
        "colab_type": "code",
        "outputId": "d3e4d94f-ac43-4c22-96cc-30bfb2bf36b6",
        "colab": {
          "base_uri": "https://localhost:8080/",
          "height": 87
        }
      },
      "source": [
        "d = {'a':10,'b':20,'c':30}\n",
        "pd.Series(d) #add dictionary as an index"
      ],
      "execution_count": 60,
      "outputs": [
        {
          "output_type": "execute_result",
          "data": {
            "text/plain": [
              "a    10\n",
              "b    20\n",
              "c    30\n",
              "dtype: int64"
            ]
          },
          "metadata": {
            "tags": []
          },
          "execution_count": 60
        }
      ]
    },
    {
      "cell_type": "markdown",
      "metadata": {
        "id": "p4Wk9XsPmNtm",
        "colab_type": "text"
      },
      "source": [
        "##### **(d) Extras: Indexing and Pandas operation**"
      ]
    },
    {
      "cell_type": "code",
      "metadata": {
        "id": "7M7grRlEf_FJ",
        "colab_type": "code",
        "colab": {}
      },
      "source": [
        "data1 =[1,2,3,4]\n",
        "label1 =['USA', 'GERMANY', 'USSR', 'JAPAN']\n",
        "s1 = pd.Series(data1, label1)\n",
        "\n",
        "data2 =[5,6,7,8]\n",
        "label2 =['USA', 'GERMANY', 'KOREA', 'JAPAN']\n",
        "s2 = pd.Series(data2, label2)"
      ],
      "execution_count": 0,
      "outputs": []
    },
    {
      "cell_type": "code",
      "metadata": {
        "id": "yY3lOOuV0ncs",
        "colab_type": "code",
        "colab": {
          "base_uri": "https://localhost:8080/",
          "height": 34
        },
        "outputId": "1022bcd1-c630-40d7-9b0e-45cb0d4e5df5"
      },
      "source": [
        "s1['USA']"
      ],
      "execution_count": 62,
      "outputs": [
        {
          "output_type": "execute_result",
          "data": {
            "text/plain": [
              "1"
            ]
          },
          "metadata": {
            "tags": []
          },
          "execution_count": 62
        }
      ]
    },
    {
      "cell_type": "code",
      "metadata": {
        "id": "IKJNcBmDmY1V",
        "colab_type": "code",
        "outputId": "0011de11-6eb6-4277-ce43-72937edc258c",
        "colab": {
          "base_uri": "https://localhost:8080/",
          "height": 123
        }
      },
      "source": [
        "s1+s2 #Pandas operation - add data of the same index; integer converts to float;"
      ],
      "execution_count": 63,
      "outputs": [
        {
          "output_type": "execute_result",
          "data": {
            "text/plain": [
              "GERMANY     8.0\n",
              "JAPAN      12.0\n",
              "KOREA       NaN\n",
              "USA         6.0\n",
              "USSR        NaN\n",
              "dtype: float64"
            ]
          },
          "metadata": {
            "tags": []
          },
          "execution_count": 63
        }
      ]
    },
    {
      "cell_type": "markdown",
      "metadata": {
        "id": "6sFCFgsti6Dy",
        "colab_type": "text"
      },
      "source": [
        "###**2.2  DataFrames Part I**\n",
        "creating and indexing DataFrames\n",
        "\n",
        "*   pd.DataFrame\n",
        "*   df['col/row']\n",
        "*   df.drop('col',axis=1)\n",
        "*   df.drop('row',axis=0)\n",
        "*   df.loc['col/row']\n",
        "*   df.iloc['col/row']\n",
        "\n",
        "\n"
      ]
    },
    {
      "cell_type": "code",
      "metadata": {
        "id": "8K6aBtPJjJC6",
        "colab_type": "code",
        "colab": {}
      },
      "source": [
        "import numpy as np\n",
        "import pandas as pd\n",
        "from numpy.random import randn"
      ],
      "execution_count": 0,
      "outputs": []
    },
    {
      "cell_type": "code",
      "metadata": {
        "id": "H96kLgfMm_Qc",
        "colab_type": "code",
        "outputId": "e639665d-ac3c-46c1-f769-c9203b79906e",
        "colab": {
          "base_uri": "https://localhost:8080/",
          "height": 197
        }
      },
      "source": [
        "df = pd.DataFrame(randn(5,4),['A','B','C','D','E'],['W','X','Y','Z'])\n",
        "df #each column is a Pandas Series"
      ],
      "execution_count": 65,
      "outputs": [
        {
          "output_type": "execute_result",
          "data": {
            "text/html": [
              "<div>\n",
              "<style scoped>\n",
              "    .dataframe tbody tr th:only-of-type {\n",
              "        vertical-align: middle;\n",
              "    }\n",
              "\n",
              "    .dataframe tbody tr th {\n",
              "        vertical-align: top;\n",
              "    }\n",
              "\n",
              "    .dataframe thead th {\n",
              "        text-align: right;\n",
              "    }\n",
              "</style>\n",
              "<table border=\"1\" class=\"dataframe\">\n",
              "  <thead>\n",
              "    <tr style=\"text-align: right;\">\n",
              "      <th></th>\n",
              "      <th>W</th>\n",
              "      <th>X</th>\n",
              "      <th>Y</th>\n",
              "      <th>Z</th>\n",
              "    </tr>\n",
              "  </thead>\n",
              "  <tbody>\n",
              "    <tr>\n",
              "      <th>A</th>\n",
              "      <td>-1.168895</td>\n",
              "      <td>0.342971</td>\n",
              "      <td>-0.495758</td>\n",
              "      <td>-1.895639</td>\n",
              "    </tr>\n",
              "    <tr>\n",
              "      <th>B</th>\n",
              "      <td>0.538923</td>\n",
              "      <td>0.398015</td>\n",
              "      <td>-0.769468</td>\n",
              "      <td>0.780328</td>\n",
              "    </tr>\n",
              "    <tr>\n",
              "      <th>C</th>\n",
              "      <td>-0.163211</td>\n",
              "      <td>0.614357</td>\n",
              "      <td>-0.925455</td>\n",
              "      <td>0.514449</td>\n",
              "    </tr>\n",
              "    <tr>\n",
              "      <th>D</th>\n",
              "      <td>-2.074048</td>\n",
              "      <td>1.142308</td>\n",
              "      <td>0.592406</td>\n",
              "      <td>0.477078</td>\n",
              "    </tr>\n",
              "    <tr>\n",
              "      <th>E</th>\n",
              "      <td>0.373070</td>\n",
              "      <td>-0.584985</td>\n",
              "      <td>-2.001706</td>\n",
              "      <td>-0.563401</td>\n",
              "    </tr>\n",
              "  </tbody>\n",
              "</table>\n",
              "</div>"
            ],
            "text/plain": [
              "          W         X         Y         Z\n",
              "A -1.168895  0.342971 -0.495758 -1.895639\n",
              "B  0.538923  0.398015 -0.769468  0.780328\n",
              "C -0.163211  0.614357 -0.925455  0.514449\n",
              "D -2.074048  1.142308  0.592406  0.477078\n",
              "E  0.373070 -0.584985 -2.001706 -0.563401"
            ]
          },
          "metadata": {
            "tags": []
          },
          "execution_count": 65
        }
      ]
    },
    {
      "cell_type": "code",
      "metadata": {
        "id": "wJJYLQlxnYbC",
        "colab_type": "code",
        "outputId": "7561dfe3-89f1-4f2c-cab3-1d86685c1fad",
        "colab": {
          "base_uri": "https://localhost:8080/",
          "height": 123
        }
      },
      "source": [
        "df['W'] #select a column"
      ],
      "execution_count": 66,
      "outputs": [
        {
          "output_type": "execute_result",
          "data": {
            "text/plain": [
              "A   -1.168895\n",
              "B    0.538923\n",
              "C   -0.163211\n",
              "D   -2.074048\n",
              "E    0.373070\n",
              "Name: W, dtype: float64"
            ]
          },
          "metadata": {
            "tags": []
          },
          "execution_count": 66
        }
      ]
    },
    {
      "cell_type": "code",
      "metadata": {
        "id": "JRJwE290v1IA",
        "colab_type": "code",
        "outputId": "db7235ea-d8e0-4d2a-df82-9103391d9472",
        "colab": {
          "base_uri": "https://localhost:8080/",
          "height": 34
        }
      },
      "source": [
        "type(df['W']) #this is of type Pandas Series"
      ],
      "execution_count": 67,
      "outputs": [
        {
          "output_type": "execute_result",
          "data": {
            "text/plain": [
              "pandas.core.series.Series"
            ]
          },
          "metadata": {
            "tags": []
          },
          "execution_count": 67
        }
      ]
    },
    {
      "cell_type": "code",
      "metadata": {
        "id": "4QX_OJbpxQct",
        "colab_type": "code",
        "outputId": "f5212245-908e-4855-c149-6c4cf3f86954",
        "colab": {
          "base_uri": "https://localhost:8080/",
          "height": 197
        }
      },
      "source": [
        "df[['W','X']] #select multiple columns, get a DataFrame"
      ],
      "execution_count": 68,
      "outputs": [
        {
          "output_type": "execute_result",
          "data": {
            "text/html": [
              "<div>\n",
              "<style scoped>\n",
              "    .dataframe tbody tr th:only-of-type {\n",
              "        vertical-align: middle;\n",
              "    }\n",
              "\n",
              "    .dataframe tbody tr th {\n",
              "        vertical-align: top;\n",
              "    }\n",
              "\n",
              "    .dataframe thead th {\n",
              "        text-align: right;\n",
              "    }\n",
              "</style>\n",
              "<table border=\"1\" class=\"dataframe\">\n",
              "  <thead>\n",
              "    <tr style=\"text-align: right;\">\n",
              "      <th></th>\n",
              "      <th>W</th>\n",
              "      <th>X</th>\n",
              "    </tr>\n",
              "  </thead>\n",
              "  <tbody>\n",
              "    <tr>\n",
              "      <th>A</th>\n",
              "      <td>-1.168895</td>\n",
              "      <td>0.342971</td>\n",
              "    </tr>\n",
              "    <tr>\n",
              "      <th>B</th>\n",
              "      <td>0.538923</td>\n",
              "      <td>0.398015</td>\n",
              "    </tr>\n",
              "    <tr>\n",
              "      <th>C</th>\n",
              "      <td>-0.163211</td>\n",
              "      <td>0.614357</td>\n",
              "    </tr>\n",
              "    <tr>\n",
              "      <th>D</th>\n",
              "      <td>-2.074048</td>\n",
              "      <td>1.142308</td>\n",
              "    </tr>\n",
              "    <tr>\n",
              "      <th>E</th>\n",
              "      <td>0.373070</td>\n",
              "      <td>-0.584985</td>\n",
              "    </tr>\n",
              "  </tbody>\n",
              "</table>\n",
              "</div>"
            ],
            "text/plain": [
              "          W         X\n",
              "A -1.168895  0.342971\n",
              "B  0.538923  0.398015\n",
              "C -0.163211  0.614357\n",
              "D -2.074048  1.142308\n",
              "E  0.373070 -0.584985"
            ]
          },
          "metadata": {
            "tags": []
          },
          "execution_count": 68
        }
      ]
    },
    {
      "cell_type": "code",
      "metadata": {
        "id": "tGWz7XX8v7h8",
        "colab_type": "code",
        "outputId": "ee535415-d3fc-4b38-8b28-34ada32f5012",
        "colab": {
          "base_uri": "https://localhost:8080/",
          "height": 197
        }
      },
      "source": [
        "df['new'] = df['W']+df['X'] #adding a new column\n",
        "df"
      ],
      "execution_count": 69,
      "outputs": [
        {
          "output_type": "execute_result",
          "data": {
            "text/html": [
              "<div>\n",
              "<style scoped>\n",
              "    .dataframe tbody tr th:only-of-type {\n",
              "        vertical-align: middle;\n",
              "    }\n",
              "\n",
              "    .dataframe tbody tr th {\n",
              "        vertical-align: top;\n",
              "    }\n",
              "\n",
              "    .dataframe thead th {\n",
              "        text-align: right;\n",
              "    }\n",
              "</style>\n",
              "<table border=\"1\" class=\"dataframe\">\n",
              "  <thead>\n",
              "    <tr style=\"text-align: right;\">\n",
              "      <th></th>\n",
              "      <th>W</th>\n",
              "      <th>X</th>\n",
              "      <th>Y</th>\n",
              "      <th>Z</th>\n",
              "      <th>new</th>\n",
              "    </tr>\n",
              "  </thead>\n",
              "  <tbody>\n",
              "    <tr>\n",
              "      <th>A</th>\n",
              "      <td>-1.168895</td>\n",
              "      <td>0.342971</td>\n",
              "      <td>-0.495758</td>\n",
              "      <td>-1.895639</td>\n",
              "      <td>-0.825923</td>\n",
              "    </tr>\n",
              "    <tr>\n",
              "      <th>B</th>\n",
              "      <td>0.538923</td>\n",
              "      <td>0.398015</td>\n",
              "      <td>-0.769468</td>\n",
              "      <td>0.780328</td>\n",
              "      <td>0.936938</td>\n",
              "    </tr>\n",
              "    <tr>\n",
              "      <th>C</th>\n",
              "      <td>-0.163211</td>\n",
              "      <td>0.614357</td>\n",
              "      <td>-0.925455</td>\n",
              "      <td>0.514449</td>\n",
              "      <td>0.451145</td>\n",
              "    </tr>\n",
              "    <tr>\n",
              "      <th>D</th>\n",
              "      <td>-2.074048</td>\n",
              "      <td>1.142308</td>\n",
              "      <td>0.592406</td>\n",
              "      <td>0.477078</td>\n",
              "      <td>-0.931740</td>\n",
              "    </tr>\n",
              "    <tr>\n",
              "      <th>E</th>\n",
              "      <td>0.373070</td>\n",
              "      <td>-0.584985</td>\n",
              "      <td>-2.001706</td>\n",
              "      <td>-0.563401</td>\n",
              "      <td>-0.211915</td>\n",
              "    </tr>\n",
              "  </tbody>\n",
              "</table>\n",
              "</div>"
            ],
            "text/plain": [
              "          W         X         Y         Z       new\n",
              "A -1.168895  0.342971 -0.495758 -1.895639 -0.825923\n",
              "B  0.538923  0.398015 -0.769468  0.780328  0.936938\n",
              "C -0.163211  0.614357 -0.925455  0.514449  0.451145\n",
              "D -2.074048  1.142308  0.592406  0.477078 -0.931740\n",
              "E  0.373070 -0.584985 -2.001706 -0.563401 -0.211915"
            ]
          },
          "metadata": {
            "tags": []
          },
          "execution_count": 69
        }
      ]
    },
    {
      "cell_type": "code",
      "metadata": {
        "id": "iQ_ZeKLix9pr",
        "colab_type": "code",
        "outputId": "4e721b14-bf4b-495a-931a-134f77cd8d12",
        "colab": {
          "base_uri": "https://localhost:8080/",
          "height": 197
        }
      },
      "source": [
        "df.drop('new', axis=1) #axis=1 specifying column\n",
        "df"
      ],
      "execution_count": 70,
      "outputs": [
        {
          "output_type": "execute_result",
          "data": {
            "text/html": [
              "<div>\n",
              "<style scoped>\n",
              "    .dataframe tbody tr th:only-of-type {\n",
              "        vertical-align: middle;\n",
              "    }\n",
              "\n",
              "    .dataframe tbody tr th {\n",
              "        vertical-align: top;\n",
              "    }\n",
              "\n",
              "    .dataframe thead th {\n",
              "        text-align: right;\n",
              "    }\n",
              "</style>\n",
              "<table border=\"1\" class=\"dataframe\">\n",
              "  <thead>\n",
              "    <tr style=\"text-align: right;\">\n",
              "      <th></th>\n",
              "      <th>W</th>\n",
              "      <th>X</th>\n",
              "      <th>Y</th>\n",
              "      <th>Z</th>\n",
              "      <th>new</th>\n",
              "    </tr>\n",
              "  </thead>\n",
              "  <tbody>\n",
              "    <tr>\n",
              "      <th>A</th>\n",
              "      <td>-1.168895</td>\n",
              "      <td>0.342971</td>\n",
              "      <td>-0.495758</td>\n",
              "      <td>-1.895639</td>\n",
              "      <td>-0.825923</td>\n",
              "    </tr>\n",
              "    <tr>\n",
              "      <th>B</th>\n",
              "      <td>0.538923</td>\n",
              "      <td>0.398015</td>\n",
              "      <td>-0.769468</td>\n",
              "      <td>0.780328</td>\n",
              "      <td>0.936938</td>\n",
              "    </tr>\n",
              "    <tr>\n",
              "      <th>C</th>\n",
              "      <td>-0.163211</td>\n",
              "      <td>0.614357</td>\n",
              "      <td>-0.925455</td>\n",
              "      <td>0.514449</td>\n",
              "      <td>0.451145</td>\n",
              "    </tr>\n",
              "    <tr>\n",
              "      <th>D</th>\n",
              "      <td>-2.074048</td>\n",
              "      <td>1.142308</td>\n",
              "      <td>0.592406</td>\n",
              "      <td>0.477078</td>\n",
              "      <td>-0.931740</td>\n",
              "    </tr>\n",
              "    <tr>\n",
              "      <th>E</th>\n",
              "      <td>0.373070</td>\n",
              "      <td>-0.584985</td>\n",
              "      <td>-2.001706</td>\n",
              "      <td>-0.563401</td>\n",
              "      <td>-0.211915</td>\n",
              "    </tr>\n",
              "  </tbody>\n",
              "</table>\n",
              "</div>"
            ],
            "text/plain": [
              "          W         X         Y         Z       new\n",
              "A -1.168895  0.342971 -0.495758 -1.895639 -0.825923\n",
              "B  0.538923  0.398015 -0.769468  0.780328  0.936938\n",
              "C -0.163211  0.614357 -0.925455  0.514449  0.451145\n",
              "D -2.074048  1.142308  0.592406  0.477078 -0.931740\n",
              "E  0.373070 -0.584985 -2.001706 -0.563401 -0.211915"
            ]
          },
          "metadata": {
            "tags": []
          },
          "execution_count": 70
        }
      ]
    },
    {
      "cell_type": "code",
      "metadata": {
        "id": "qwG6XgmJyKm-",
        "colab_type": "code",
        "outputId": "05fd563f-15e6-42e2-867c-dda2eb766e17",
        "colab": {
          "base_uri": "https://localhost:8080/",
          "height": 197
        }
      },
      "source": [
        "df.drop('new', axis=1, inplace=True) #specifying inplace to drop the column and replace df\n",
        "df"
      ],
      "execution_count": 71,
      "outputs": [
        {
          "output_type": "execute_result",
          "data": {
            "text/html": [
              "<div>\n",
              "<style scoped>\n",
              "    .dataframe tbody tr th:only-of-type {\n",
              "        vertical-align: middle;\n",
              "    }\n",
              "\n",
              "    .dataframe tbody tr th {\n",
              "        vertical-align: top;\n",
              "    }\n",
              "\n",
              "    .dataframe thead th {\n",
              "        text-align: right;\n",
              "    }\n",
              "</style>\n",
              "<table border=\"1\" class=\"dataframe\">\n",
              "  <thead>\n",
              "    <tr style=\"text-align: right;\">\n",
              "      <th></th>\n",
              "      <th>W</th>\n",
              "      <th>X</th>\n",
              "      <th>Y</th>\n",
              "      <th>Z</th>\n",
              "    </tr>\n",
              "  </thead>\n",
              "  <tbody>\n",
              "    <tr>\n",
              "      <th>A</th>\n",
              "      <td>-1.168895</td>\n",
              "      <td>0.342971</td>\n",
              "      <td>-0.495758</td>\n",
              "      <td>-1.895639</td>\n",
              "    </tr>\n",
              "    <tr>\n",
              "      <th>B</th>\n",
              "      <td>0.538923</td>\n",
              "      <td>0.398015</td>\n",
              "      <td>-0.769468</td>\n",
              "      <td>0.780328</td>\n",
              "    </tr>\n",
              "    <tr>\n",
              "      <th>C</th>\n",
              "      <td>-0.163211</td>\n",
              "      <td>0.614357</td>\n",
              "      <td>-0.925455</td>\n",
              "      <td>0.514449</td>\n",
              "    </tr>\n",
              "    <tr>\n",
              "      <th>D</th>\n",
              "      <td>-2.074048</td>\n",
              "      <td>1.142308</td>\n",
              "      <td>0.592406</td>\n",
              "      <td>0.477078</td>\n",
              "    </tr>\n",
              "    <tr>\n",
              "      <th>E</th>\n",
              "      <td>0.373070</td>\n",
              "      <td>-0.584985</td>\n",
              "      <td>-2.001706</td>\n",
              "      <td>-0.563401</td>\n",
              "    </tr>\n",
              "  </tbody>\n",
              "</table>\n",
              "</div>"
            ],
            "text/plain": [
              "          W         X         Y         Z\n",
              "A -1.168895  0.342971 -0.495758 -1.895639\n",
              "B  0.538923  0.398015 -0.769468  0.780328\n",
              "C -0.163211  0.614357 -0.925455  0.514449\n",
              "D -2.074048  1.142308  0.592406  0.477078\n",
              "E  0.373070 -0.584985 -2.001706 -0.563401"
            ]
          },
          "metadata": {
            "tags": []
          },
          "execution_count": 71
        }
      ]
    },
    {
      "cell_type": "code",
      "metadata": {
        "id": "FzGo1VD3yZo6",
        "colab_type": "code",
        "outputId": "e1f2c607-8c24-4a68-c444-181a2a40f3ed",
        "colab": {
          "base_uri": "https://localhost:8080/",
          "height": 167
        }
      },
      "source": [
        "df.drop('E') #without specifying axis, the default is axis=0 or deleting row"
      ],
      "execution_count": 72,
      "outputs": [
        {
          "output_type": "execute_result",
          "data": {
            "text/html": [
              "<div>\n",
              "<style scoped>\n",
              "    .dataframe tbody tr th:only-of-type {\n",
              "        vertical-align: middle;\n",
              "    }\n",
              "\n",
              "    .dataframe tbody tr th {\n",
              "        vertical-align: top;\n",
              "    }\n",
              "\n",
              "    .dataframe thead th {\n",
              "        text-align: right;\n",
              "    }\n",
              "</style>\n",
              "<table border=\"1\" class=\"dataframe\">\n",
              "  <thead>\n",
              "    <tr style=\"text-align: right;\">\n",
              "      <th></th>\n",
              "      <th>W</th>\n",
              "      <th>X</th>\n",
              "      <th>Y</th>\n",
              "      <th>Z</th>\n",
              "    </tr>\n",
              "  </thead>\n",
              "  <tbody>\n",
              "    <tr>\n",
              "      <th>A</th>\n",
              "      <td>-1.168895</td>\n",
              "      <td>0.342971</td>\n",
              "      <td>-0.495758</td>\n",
              "      <td>-1.895639</td>\n",
              "    </tr>\n",
              "    <tr>\n",
              "      <th>B</th>\n",
              "      <td>0.538923</td>\n",
              "      <td>0.398015</td>\n",
              "      <td>-0.769468</td>\n",
              "      <td>0.780328</td>\n",
              "    </tr>\n",
              "    <tr>\n",
              "      <th>C</th>\n",
              "      <td>-0.163211</td>\n",
              "      <td>0.614357</td>\n",
              "      <td>-0.925455</td>\n",
              "      <td>0.514449</td>\n",
              "    </tr>\n",
              "    <tr>\n",
              "      <th>D</th>\n",
              "      <td>-2.074048</td>\n",
              "      <td>1.142308</td>\n",
              "      <td>0.592406</td>\n",
              "      <td>0.477078</td>\n",
              "    </tr>\n",
              "  </tbody>\n",
              "</table>\n",
              "</div>"
            ],
            "text/plain": [
              "          W         X         Y         Z\n",
              "A -1.168895  0.342971 -0.495758 -1.895639\n",
              "B  0.538923  0.398015 -0.769468  0.780328\n",
              "C -0.163211  0.614357 -0.925455  0.514449\n",
              "D -2.074048  1.142308  0.592406  0.477078"
            ]
          },
          "metadata": {
            "tags": []
          },
          "execution_count": 72
        }
      ]
    },
    {
      "cell_type": "code",
      "metadata": {
        "id": "GtJQmZHhyiF_",
        "colab_type": "code",
        "outputId": "cfad98fc-79e8-42f1-ce3e-968d08948051",
        "colab": {
          "base_uri": "https://localhost:8080/",
          "height": 105
        }
      },
      "source": [
        "df.loc['A'] #select a row - Method1"
      ],
      "execution_count": 73,
      "outputs": [
        {
          "output_type": "execute_result",
          "data": {
            "text/plain": [
              "W   -1.168895\n",
              "X    0.342971\n",
              "Y   -0.495758\n",
              "Z   -1.895639\n",
              "Name: A, dtype: float64"
            ]
          },
          "metadata": {
            "tags": []
          },
          "execution_count": 73
        }
      ]
    },
    {
      "cell_type": "code",
      "metadata": {
        "id": "Y6HMu1LXzO2c",
        "colab_type": "code",
        "outputId": "ccc7c286-c74c-4e37-d371-a890f774ae79",
        "colab": {
          "base_uri": "https://localhost:8080/",
          "height": 105
        }
      },
      "source": [
        "df.iloc[0] #select a row -Method2"
      ],
      "execution_count": 74,
      "outputs": [
        {
          "output_type": "execute_result",
          "data": {
            "text/plain": [
              "W   -1.168895\n",
              "X    0.342971\n",
              "Y   -0.495758\n",
              "Z   -1.895639\n",
              "Name: A, dtype: float64"
            ]
          },
          "metadata": {
            "tags": []
          },
          "execution_count": 74
        }
      ]
    },
    {
      "cell_type": "code",
      "metadata": {
        "id": "2m7VMvXtzXKc",
        "colab_type": "code",
        "outputId": "792ea7c6-3d2b-4f03-96ab-9f6092c295b7",
        "colab": {
          "base_uri": "https://localhost:8080/",
          "height": 34
        }
      },
      "source": [
        "df.loc['A','W'] #select a specific value (just like NumPy)"
      ],
      "execution_count": 75,
      "outputs": [
        {
          "output_type": "execute_result",
          "data": {
            "text/plain": [
              "-1.1688945475559094"
            ]
          },
          "metadata": {
            "tags": []
          },
          "execution_count": 75
        }
      ]
    },
    {
      "cell_type": "code",
      "metadata": {
        "id": "xhkV9gUAzi2N",
        "colab_type": "code",
        "outputId": "f5ff22fd-f2ec-47d3-e8df-06f63300e25d",
        "colab": {
          "base_uri": "https://localhost:8080/",
          "height": 107
        }
      },
      "source": [
        "df.loc[['A','B'],['W','Y']] #select specific rows/columns"
      ],
      "execution_count": 76,
      "outputs": [
        {
          "output_type": "execute_result",
          "data": {
            "text/html": [
              "<div>\n",
              "<style scoped>\n",
              "    .dataframe tbody tr th:only-of-type {\n",
              "        vertical-align: middle;\n",
              "    }\n",
              "\n",
              "    .dataframe tbody tr th {\n",
              "        vertical-align: top;\n",
              "    }\n",
              "\n",
              "    .dataframe thead th {\n",
              "        text-align: right;\n",
              "    }\n",
              "</style>\n",
              "<table border=\"1\" class=\"dataframe\">\n",
              "  <thead>\n",
              "    <tr style=\"text-align: right;\">\n",
              "      <th></th>\n",
              "      <th>W</th>\n",
              "      <th>Y</th>\n",
              "    </tr>\n",
              "  </thead>\n",
              "  <tbody>\n",
              "    <tr>\n",
              "      <th>A</th>\n",
              "      <td>-1.168895</td>\n",
              "      <td>-0.495758</td>\n",
              "    </tr>\n",
              "    <tr>\n",
              "      <th>B</th>\n",
              "      <td>0.538923</td>\n",
              "      <td>-0.769468</td>\n",
              "    </tr>\n",
              "  </tbody>\n",
              "</table>\n",
              "</div>"
            ],
            "text/plain": [
              "          W         Y\n",
              "A -1.168895 -0.495758\n",
              "B  0.538923 -0.769468"
            ]
          },
          "metadata": {
            "tags": []
          },
          "execution_count": 76
        }
      ]
    },
    {
      "cell_type": "markdown",
      "metadata": {
        "id": "8hAnQG1jMBOu",
        "colab_type": "text"
      },
      "source": [
        "###**2.3 DataFrames Part II**\n",
        "\n",
        "conditional selection\n",
        "* df>0\n",
        "* df[df>0]\n",
        "* df['col/row']>0\n",
        "* df[df['col/row']>0]\n",
        "* df.set_index('index_name')\n"
      ]
    },
    {
      "cell_type": "code",
      "metadata": {
        "id": "ec14yEVmMoxK",
        "colab_type": "code",
        "outputId": "937e62bd-a368-4dfb-a75b-746d97e6322b",
        "colab": {
          "base_uri": "https://localhost:8080/",
          "height": 197
        }
      },
      "source": [
        "df=pd.DataFrame(randn(5,4),['A','B','C','D','E'],['W','X','Y','Z'])\n",
        "df"
      ],
      "execution_count": 77,
      "outputs": [
        {
          "output_type": "execute_result",
          "data": {
            "text/html": [
              "<div>\n",
              "<style scoped>\n",
              "    .dataframe tbody tr th:only-of-type {\n",
              "        vertical-align: middle;\n",
              "    }\n",
              "\n",
              "    .dataframe tbody tr th {\n",
              "        vertical-align: top;\n",
              "    }\n",
              "\n",
              "    .dataframe thead th {\n",
              "        text-align: right;\n",
              "    }\n",
              "</style>\n",
              "<table border=\"1\" class=\"dataframe\">\n",
              "  <thead>\n",
              "    <tr style=\"text-align: right;\">\n",
              "      <th></th>\n",
              "      <th>W</th>\n",
              "      <th>X</th>\n",
              "      <th>Y</th>\n",
              "      <th>Z</th>\n",
              "    </tr>\n",
              "  </thead>\n",
              "  <tbody>\n",
              "    <tr>\n",
              "      <th>A</th>\n",
              "      <td>0.673858</td>\n",
              "      <td>-0.468250</td>\n",
              "      <td>-2.135991</td>\n",
              "      <td>0.614166</td>\n",
              "    </tr>\n",
              "    <tr>\n",
              "      <th>B</th>\n",
              "      <td>0.158239</td>\n",
              "      <td>2.174342</td>\n",
              "      <td>-0.422609</td>\n",
              "      <td>0.329517</td>\n",
              "    </tr>\n",
              "    <tr>\n",
              "      <th>C</th>\n",
              "      <td>-0.692647</td>\n",
              "      <td>0.658624</td>\n",
              "      <td>-1.197652</td>\n",
              "      <td>0.548789</td>\n",
              "    </tr>\n",
              "    <tr>\n",
              "      <th>D</th>\n",
              "      <td>-0.321052</td>\n",
              "      <td>0.421792</td>\n",
              "      <td>0.707855</td>\n",
              "      <td>1.098968</td>\n",
              "    </tr>\n",
              "    <tr>\n",
              "      <th>E</th>\n",
              "      <td>0.059392</td>\n",
              "      <td>-1.525721</td>\n",
              "      <td>-0.862611</td>\n",
              "      <td>-0.871551</td>\n",
              "    </tr>\n",
              "  </tbody>\n",
              "</table>\n",
              "</div>"
            ],
            "text/plain": [
              "          W         X         Y         Z\n",
              "A  0.673858 -0.468250 -2.135991  0.614166\n",
              "B  0.158239  2.174342 -0.422609  0.329517\n",
              "C -0.692647  0.658624 -1.197652  0.548789\n",
              "D -0.321052  0.421792  0.707855  1.098968\n",
              "E  0.059392 -1.525721 -0.862611 -0.871551"
            ]
          },
          "metadata": {
            "tags": []
          },
          "execution_count": 77
        }
      ]
    },
    {
      "cell_type": "code",
      "metadata": {
        "id": "YxSbMjMTMxbr",
        "colab_type": "code",
        "outputId": "600ee9ec-c349-4a9a-fb2c-4f463eed4a81",
        "colab": {
          "base_uri": "https://localhost:8080/",
          "height": 202
        }
      },
      "source": [
        "df>0 #yield bool table"
      ],
      "execution_count": 0,
      "outputs": [
        {
          "output_type": "execute_result",
          "data": {
            "text/html": [
              "<div>\n",
              "<style scoped>\n",
              "    .dataframe tbody tr th:only-of-type {\n",
              "        vertical-align: middle;\n",
              "    }\n",
              "\n",
              "    .dataframe tbody tr th {\n",
              "        vertical-align: top;\n",
              "    }\n",
              "\n",
              "    .dataframe thead th {\n",
              "        text-align: right;\n",
              "    }\n",
              "</style>\n",
              "<table border=\"1\" class=\"dataframe\">\n",
              "  <thead>\n",
              "    <tr style=\"text-align: right;\">\n",
              "      <th></th>\n",
              "      <th>W</th>\n",
              "      <th>X</th>\n",
              "      <th>Y</th>\n",
              "      <th>Z</th>\n",
              "    </tr>\n",
              "  </thead>\n",
              "  <tbody>\n",
              "    <tr>\n",
              "      <th>A</th>\n",
              "      <td>False</td>\n",
              "      <td>True</td>\n",
              "      <td>False</td>\n",
              "      <td>True</td>\n",
              "    </tr>\n",
              "    <tr>\n",
              "      <th>B</th>\n",
              "      <td>True</td>\n",
              "      <td>True</td>\n",
              "      <td>False</td>\n",
              "      <td>True</td>\n",
              "    </tr>\n",
              "    <tr>\n",
              "      <th>C</th>\n",
              "      <td>True</td>\n",
              "      <td>True</td>\n",
              "      <td>True</td>\n",
              "      <td>True</td>\n",
              "    </tr>\n",
              "    <tr>\n",
              "      <th>D</th>\n",
              "      <td>False</td>\n",
              "      <td>False</td>\n",
              "      <td>False</td>\n",
              "      <td>False</td>\n",
              "    </tr>\n",
              "    <tr>\n",
              "      <th>E</th>\n",
              "      <td>False</td>\n",
              "      <td>True</td>\n",
              "      <td>True</td>\n",
              "      <td>False</td>\n",
              "    </tr>\n",
              "  </tbody>\n",
              "</table>\n",
              "</div>"
            ],
            "text/plain": [
              "       W      X      Y      Z\n",
              "A  False   True  False   True\n",
              "B   True   True  False   True\n",
              "C   True   True   True   True\n",
              "D  False  False  False  False\n",
              "E  False   True   True  False"
            ]
          },
          "metadata": {
            "tags": []
          },
          "execution_count": 27
        }
      ]
    },
    {
      "cell_type": "code",
      "metadata": {
        "id": "HL1wCNesNPa0",
        "colab_type": "code",
        "outputId": "63a2f530-f280-4aa1-86e3-3c3b0aa6f5fd",
        "colab": {
          "base_uri": "https://localhost:8080/",
          "height": 197
        }
      },
      "source": [
        "df[df>0] #create the entire DataFrame with conditional selection"
      ],
      "execution_count": 78,
      "outputs": [
        {
          "output_type": "execute_result",
          "data": {
            "text/html": [
              "<div>\n",
              "<style scoped>\n",
              "    .dataframe tbody tr th:only-of-type {\n",
              "        vertical-align: middle;\n",
              "    }\n",
              "\n",
              "    .dataframe tbody tr th {\n",
              "        vertical-align: top;\n",
              "    }\n",
              "\n",
              "    .dataframe thead th {\n",
              "        text-align: right;\n",
              "    }\n",
              "</style>\n",
              "<table border=\"1\" class=\"dataframe\">\n",
              "  <thead>\n",
              "    <tr style=\"text-align: right;\">\n",
              "      <th></th>\n",
              "      <th>W</th>\n",
              "      <th>X</th>\n",
              "      <th>Y</th>\n",
              "      <th>Z</th>\n",
              "    </tr>\n",
              "  </thead>\n",
              "  <tbody>\n",
              "    <tr>\n",
              "      <th>A</th>\n",
              "      <td>0.673858</td>\n",
              "      <td>NaN</td>\n",
              "      <td>NaN</td>\n",
              "      <td>0.614166</td>\n",
              "    </tr>\n",
              "    <tr>\n",
              "      <th>B</th>\n",
              "      <td>0.158239</td>\n",
              "      <td>2.174342</td>\n",
              "      <td>NaN</td>\n",
              "      <td>0.329517</td>\n",
              "    </tr>\n",
              "    <tr>\n",
              "      <th>C</th>\n",
              "      <td>NaN</td>\n",
              "      <td>0.658624</td>\n",
              "      <td>NaN</td>\n",
              "      <td>0.548789</td>\n",
              "    </tr>\n",
              "    <tr>\n",
              "      <th>D</th>\n",
              "      <td>NaN</td>\n",
              "      <td>0.421792</td>\n",
              "      <td>0.707855</td>\n",
              "      <td>1.098968</td>\n",
              "    </tr>\n",
              "    <tr>\n",
              "      <th>E</th>\n",
              "      <td>0.059392</td>\n",
              "      <td>NaN</td>\n",
              "      <td>NaN</td>\n",
              "      <td>NaN</td>\n",
              "    </tr>\n",
              "  </tbody>\n",
              "</table>\n",
              "</div>"
            ],
            "text/plain": [
              "          W         X         Y         Z\n",
              "A  0.673858       NaN       NaN  0.614166\n",
              "B  0.158239  2.174342       NaN  0.329517\n",
              "C       NaN  0.658624       NaN  0.548789\n",
              "D       NaN  0.421792  0.707855  1.098968\n",
              "E  0.059392       NaN       NaN       NaN"
            ]
          },
          "metadata": {
            "tags": []
          },
          "execution_count": 78
        }
      ]
    },
    {
      "cell_type": "code",
      "metadata": {
        "id": "7F4V3UcNNSV0",
        "colab_type": "code",
        "outputId": "081b1f03-1348-48ad-af87-db984b203452",
        "colab": {
          "base_uri": "https://localhost:8080/",
          "height": 123
        }
      },
      "source": [
        "df['W']>0 #yield bool series"
      ],
      "execution_count": 79,
      "outputs": [
        {
          "output_type": "execute_result",
          "data": {
            "text/plain": [
              "A     True\n",
              "B     True\n",
              "C    False\n",
              "D    False\n",
              "E     True\n",
              "Name: W, dtype: bool"
            ]
          },
          "metadata": {
            "tags": []
          },
          "execution_count": 79
        }
      ]
    },
    {
      "cell_type": "code",
      "metadata": {
        "id": "rQfaPkpSNZta",
        "colab_type": "code",
        "outputId": "f42aa3bb-a27b-4e83-a28e-dafbb8995e29",
        "colab": {
          "base_uri": "https://localhost:8080/",
          "height": 137
        }
      },
      "source": [
        "df[df['W']>0] #only display rows that meet the condition"
      ],
      "execution_count": 80,
      "outputs": [
        {
          "output_type": "execute_result",
          "data": {
            "text/html": [
              "<div>\n",
              "<style scoped>\n",
              "    .dataframe tbody tr th:only-of-type {\n",
              "        vertical-align: middle;\n",
              "    }\n",
              "\n",
              "    .dataframe tbody tr th {\n",
              "        vertical-align: top;\n",
              "    }\n",
              "\n",
              "    .dataframe thead th {\n",
              "        text-align: right;\n",
              "    }\n",
              "</style>\n",
              "<table border=\"1\" class=\"dataframe\">\n",
              "  <thead>\n",
              "    <tr style=\"text-align: right;\">\n",
              "      <th></th>\n",
              "      <th>W</th>\n",
              "      <th>X</th>\n",
              "      <th>Y</th>\n",
              "      <th>Z</th>\n",
              "    </tr>\n",
              "  </thead>\n",
              "  <tbody>\n",
              "    <tr>\n",
              "      <th>A</th>\n",
              "      <td>0.673858</td>\n",
              "      <td>-0.468250</td>\n",
              "      <td>-2.135991</td>\n",
              "      <td>0.614166</td>\n",
              "    </tr>\n",
              "    <tr>\n",
              "      <th>B</th>\n",
              "      <td>0.158239</td>\n",
              "      <td>2.174342</td>\n",
              "      <td>-0.422609</td>\n",
              "      <td>0.329517</td>\n",
              "    </tr>\n",
              "    <tr>\n",
              "      <th>E</th>\n",
              "      <td>0.059392</td>\n",
              "      <td>-1.525721</td>\n",
              "      <td>-0.862611</td>\n",
              "      <td>-0.871551</td>\n",
              "    </tr>\n",
              "  </tbody>\n",
              "</table>\n",
              "</div>"
            ],
            "text/plain": [
              "          W         X         Y         Z\n",
              "A  0.673858 -0.468250 -2.135991  0.614166\n",
              "B  0.158239  2.174342 -0.422609  0.329517\n",
              "E  0.059392 -1.525721 -0.862611 -0.871551"
            ]
          },
          "metadata": {
            "tags": []
          },
          "execution_count": 80
        }
      ]
    },
    {
      "cell_type": "code",
      "metadata": {
        "id": "MmuQtmbpNlux",
        "colab_type": "code",
        "outputId": "fbdbfddb-39e1-49c8-eaed-7c7330b7ecb5",
        "colab": {
          "base_uri": "https://localhost:8080/",
          "height": 77
        }
      },
      "source": [
        "df[df['Z']<0]"
      ],
      "execution_count": 81,
      "outputs": [
        {
          "output_type": "execute_result",
          "data": {
            "text/html": [
              "<div>\n",
              "<style scoped>\n",
              "    .dataframe tbody tr th:only-of-type {\n",
              "        vertical-align: middle;\n",
              "    }\n",
              "\n",
              "    .dataframe tbody tr th {\n",
              "        vertical-align: top;\n",
              "    }\n",
              "\n",
              "    .dataframe thead th {\n",
              "        text-align: right;\n",
              "    }\n",
              "</style>\n",
              "<table border=\"1\" class=\"dataframe\">\n",
              "  <thead>\n",
              "    <tr style=\"text-align: right;\">\n",
              "      <th></th>\n",
              "      <th>W</th>\n",
              "      <th>X</th>\n",
              "      <th>Y</th>\n",
              "      <th>Z</th>\n",
              "    </tr>\n",
              "  </thead>\n",
              "  <tbody>\n",
              "    <tr>\n",
              "      <th>E</th>\n",
              "      <td>0.059392</td>\n",
              "      <td>-1.525721</td>\n",
              "      <td>-0.862611</td>\n",
              "      <td>-0.871551</td>\n",
              "    </tr>\n",
              "  </tbody>\n",
              "</table>\n",
              "</div>"
            ],
            "text/plain": [
              "          W         X         Y         Z\n",
              "E  0.059392 -1.525721 -0.862611 -0.871551"
            ]
          },
          "metadata": {
            "tags": []
          },
          "execution_count": 81
        }
      ]
    },
    {
      "cell_type": "code",
      "metadata": {
        "id": "uQyI8s12O6vE",
        "colab_type": "code",
        "outputId": "eb6cbb84-b0dd-46f7-b686-a61477433bb6",
        "colab": {
          "base_uri": "https://localhost:8080/",
          "height": 137
        }
      },
      "source": [
        "df[(df['Z']>0) & (df['X']>0)] #muliple conditions can be checked with & (and) or | (or)"
      ],
      "execution_count": 82,
      "outputs": [
        {
          "output_type": "execute_result",
          "data": {
            "text/html": [
              "<div>\n",
              "<style scoped>\n",
              "    .dataframe tbody tr th:only-of-type {\n",
              "        vertical-align: middle;\n",
              "    }\n",
              "\n",
              "    .dataframe tbody tr th {\n",
              "        vertical-align: top;\n",
              "    }\n",
              "\n",
              "    .dataframe thead th {\n",
              "        text-align: right;\n",
              "    }\n",
              "</style>\n",
              "<table border=\"1\" class=\"dataframe\">\n",
              "  <thead>\n",
              "    <tr style=\"text-align: right;\">\n",
              "      <th></th>\n",
              "      <th>W</th>\n",
              "      <th>X</th>\n",
              "      <th>Y</th>\n",
              "      <th>Z</th>\n",
              "    </tr>\n",
              "  </thead>\n",
              "  <tbody>\n",
              "    <tr>\n",
              "      <th>B</th>\n",
              "      <td>0.158239</td>\n",
              "      <td>2.174342</td>\n",
              "      <td>-0.422609</td>\n",
              "      <td>0.329517</td>\n",
              "    </tr>\n",
              "    <tr>\n",
              "      <th>C</th>\n",
              "      <td>-0.692647</td>\n",
              "      <td>0.658624</td>\n",
              "      <td>-1.197652</td>\n",
              "      <td>0.548789</td>\n",
              "    </tr>\n",
              "    <tr>\n",
              "      <th>D</th>\n",
              "      <td>-0.321052</td>\n",
              "      <td>0.421792</td>\n",
              "      <td>0.707855</td>\n",
              "      <td>1.098968</td>\n",
              "    </tr>\n",
              "  </tbody>\n",
              "</table>\n",
              "</div>"
            ],
            "text/plain": [
              "          W         X         Y         Z\n",
              "B  0.158239  2.174342 -0.422609  0.329517\n",
              "C -0.692647  0.658624 -1.197652  0.548789\n",
              "D -0.321052  0.421792  0.707855  1.098968"
            ]
          },
          "metadata": {
            "tags": []
          },
          "execution_count": 82
        }
      ]
    },
    {
      "cell_type": "code",
      "metadata": {
        "id": "4ZL8mlkgPuo1",
        "colab_type": "code",
        "outputId": "ddd80374-fe48-4c80-a511-ae8e1540c855",
        "colab": {
          "base_uri": "https://localhost:8080/",
          "height": 167
        }
      },
      "source": [
        "df[(df['Z']>0) | (df['X']>0)]  #muliple conditions can be checked with & (and) or | (or)"
      ],
      "execution_count": 83,
      "outputs": [
        {
          "output_type": "execute_result",
          "data": {
            "text/html": [
              "<div>\n",
              "<style scoped>\n",
              "    .dataframe tbody tr th:only-of-type {\n",
              "        vertical-align: middle;\n",
              "    }\n",
              "\n",
              "    .dataframe tbody tr th {\n",
              "        vertical-align: top;\n",
              "    }\n",
              "\n",
              "    .dataframe thead th {\n",
              "        text-align: right;\n",
              "    }\n",
              "</style>\n",
              "<table border=\"1\" class=\"dataframe\">\n",
              "  <thead>\n",
              "    <tr style=\"text-align: right;\">\n",
              "      <th></th>\n",
              "      <th>W</th>\n",
              "      <th>X</th>\n",
              "      <th>Y</th>\n",
              "      <th>Z</th>\n",
              "    </tr>\n",
              "  </thead>\n",
              "  <tbody>\n",
              "    <tr>\n",
              "      <th>A</th>\n",
              "      <td>0.673858</td>\n",
              "      <td>-0.468250</td>\n",
              "      <td>-2.135991</td>\n",
              "      <td>0.614166</td>\n",
              "    </tr>\n",
              "    <tr>\n",
              "      <th>B</th>\n",
              "      <td>0.158239</td>\n",
              "      <td>2.174342</td>\n",
              "      <td>-0.422609</td>\n",
              "      <td>0.329517</td>\n",
              "    </tr>\n",
              "    <tr>\n",
              "      <th>C</th>\n",
              "      <td>-0.692647</td>\n",
              "      <td>0.658624</td>\n",
              "      <td>-1.197652</td>\n",
              "      <td>0.548789</td>\n",
              "    </tr>\n",
              "    <tr>\n",
              "      <th>D</th>\n",
              "      <td>-0.321052</td>\n",
              "      <td>0.421792</td>\n",
              "      <td>0.707855</td>\n",
              "      <td>1.098968</td>\n",
              "    </tr>\n",
              "  </tbody>\n",
              "</table>\n",
              "</div>"
            ],
            "text/plain": [
              "          W         X         Y         Z\n",
              "A  0.673858 -0.468250 -2.135991  0.614166\n",
              "B  0.158239  2.174342 -0.422609  0.329517\n",
              "C -0.692647  0.658624 -1.197652  0.548789\n",
              "D -0.321052  0.421792  0.707855  1.098968"
            ]
          },
          "metadata": {
            "tags": []
          },
          "execution_count": 83
        }
      ]
    },
    {
      "cell_type": "code",
      "metadata": {
        "id": "FMdVhk0bQKPV",
        "colab_type": "code",
        "outputId": "a0294469-de52-46d6-b961-84d9c3279847",
        "colab": {
          "base_uri": "https://localhost:8080/",
          "height": 197
        }
      },
      "source": [
        "df.reset_index() # index reset to numerical index (inplace = True to save it) "
      ],
      "execution_count": 84,
      "outputs": [
        {
          "output_type": "execute_result",
          "data": {
            "text/html": [
              "<div>\n",
              "<style scoped>\n",
              "    .dataframe tbody tr th:only-of-type {\n",
              "        vertical-align: middle;\n",
              "    }\n",
              "\n",
              "    .dataframe tbody tr th {\n",
              "        vertical-align: top;\n",
              "    }\n",
              "\n",
              "    .dataframe thead th {\n",
              "        text-align: right;\n",
              "    }\n",
              "</style>\n",
              "<table border=\"1\" class=\"dataframe\">\n",
              "  <thead>\n",
              "    <tr style=\"text-align: right;\">\n",
              "      <th></th>\n",
              "      <th>index</th>\n",
              "      <th>W</th>\n",
              "      <th>X</th>\n",
              "      <th>Y</th>\n",
              "      <th>Z</th>\n",
              "    </tr>\n",
              "  </thead>\n",
              "  <tbody>\n",
              "    <tr>\n",
              "      <th>0</th>\n",
              "      <td>A</td>\n",
              "      <td>0.673858</td>\n",
              "      <td>-0.468250</td>\n",
              "      <td>-2.135991</td>\n",
              "      <td>0.614166</td>\n",
              "    </tr>\n",
              "    <tr>\n",
              "      <th>1</th>\n",
              "      <td>B</td>\n",
              "      <td>0.158239</td>\n",
              "      <td>2.174342</td>\n",
              "      <td>-0.422609</td>\n",
              "      <td>0.329517</td>\n",
              "    </tr>\n",
              "    <tr>\n",
              "      <th>2</th>\n",
              "      <td>C</td>\n",
              "      <td>-0.692647</td>\n",
              "      <td>0.658624</td>\n",
              "      <td>-1.197652</td>\n",
              "      <td>0.548789</td>\n",
              "    </tr>\n",
              "    <tr>\n",
              "      <th>3</th>\n",
              "      <td>D</td>\n",
              "      <td>-0.321052</td>\n",
              "      <td>0.421792</td>\n",
              "      <td>0.707855</td>\n",
              "      <td>1.098968</td>\n",
              "    </tr>\n",
              "    <tr>\n",
              "      <th>4</th>\n",
              "      <td>E</td>\n",
              "      <td>0.059392</td>\n",
              "      <td>-1.525721</td>\n",
              "      <td>-0.862611</td>\n",
              "      <td>-0.871551</td>\n",
              "    </tr>\n",
              "  </tbody>\n",
              "</table>\n",
              "</div>"
            ],
            "text/plain": [
              "  index         W         X         Y         Z\n",
              "0     A  0.673858 -0.468250 -2.135991  0.614166\n",
              "1     B  0.158239  2.174342 -0.422609  0.329517\n",
              "2     C -0.692647  0.658624 -1.197652  0.548789\n",
              "3     D -0.321052  0.421792  0.707855  1.098968\n",
              "4     E  0.059392 -1.525721 -0.862611 -0.871551"
            ]
          },
          "metadata": {
            "tags": []
          },
          "execution_count": 84
        }
      ]
    },
    {
      "cell_type": "code",
      "metadata": {
        "id": "lEruBgaCpIrz",
        "colab_type": "code",
        "outputId": "7ec35144-6ac9-4fc3-9a4f-1fca98d2f636",
        "colab": {
          "base_uri": "https://localhost:8080/",
          "height": 197
        }
      },
      "source": [
        "df"
      ],
      "execution_count": 85,
      "outputs": [
        {
          "output_type": "execute_result",
          "data": {
            "text/html": [
              "<div>\n",
              "<style scoped>\n",
              "    .dataframe tbody tr th:only-of-type {\n",
              "        vertical-align: middle;\n",
              "    }\n",
              "\n",
              "    .dataframe tbody tr th {\n",
              "        vertical-align: top;\n",
              "    }\n",
              "\n",
              "    .dataframe thead th {\n",
              "        text-align: right;\n",
              "    }\n",
              "</style>\n",
              "<table border=\"1\" class=\"dataframe\">\n",
              "  <thead>\n",
              "    <tr style=\"text-align: right;\">\n",
              "      <th></th>\n",
              "      <th>W</th>\n",
              "      <th>X</th>\n",
              "      <th>Y</th>\n",
              "      <th>Z</th>\n",
              "    </tr>\n",
              "  </thead>\n",
              "  <tbody>\n",
              "    <tr>\n",
              "      <th>A</th>\n",
              "      <td>0.673858</td>\n",
              "      <td>-0.468250</td>\n",
              "      <td>-2.135991</td>\n",
              "      <td>0.614166</td>\n",
              "    </tr>\n",
              "    <tr>\n",
              "      <th>B</th>\n",
              "      <td>0.158239</td>\n",
              "      <td>2.174342</td>\n",
              "      <td>-0.422609</td>\n",
              "      <td>0.329517</td>\n",
              "    </tr>\n",
              "    <tr>\n",
              "      <th>C</th>\n",
              "      <td>-0.692647</td>\n",
              "      <td>0.658624</td>\n",
              "      <td>-1.197652</td>\n",
              "      <td>0.548789</td>\n",
              "    </tr>\n",
              "    <tr>\n",
              "      <th>D</th>\n",
              "      <td>-0.321052</td>\n",
              "      <td>0.421792</td>\n",
              "      <td>0.707855</td>\n",
              "      <td>1.098968</td>\n",
              "    </tr>\n",
              "    <tr>\n",
              "      <th>E</th>\n",
              "      <td>0.059392</td>\n",
              "      <td>-1.525721</td>\n",
              "      <td>-0.862611</td>\n",
              "      <td>-0.871551</td>\n",
              "    </tr>\n",
              "  </tbody>\n",
              "</table>\n",
              "</div>"
            ],
            "text/plain": [
              "          W         X         Y         Z\n",
              "A  0.673858 -0.468250 -2.135991  0.614166\n",
              "B  0.158239  2.174342 -0.422609  0.329517\n",
              "C -0.692647  0.658624 -1.197652  0.548789\n",
              "D -0.321052  0.421792  0.707855  1.098968\n",
              "E  0.059392 -1.525721 -0.862611 -0.871551"
            ]
          },
          "metadata": {
            "tags": []
          },
          "execution_count": 85
        }
      ]
    },
    {
      "cell_type": "code",
      "metadata": {
        "id": "2DBMbVClQXbv",
        "colab_type": "code",
        "outputId": "db85b334-8ac5-47b6-dafd-7a642afac42d",
        "colab": {
          "base_uri": "https://localhost:8080/",
          "height": 197
        }
      },
      "source": [
        "newind = 'CA NY WY OR CO'.split()\n",
        "df['States'] = newind #add a new column\n",
        "df"
      ],
      "execution_count": 86,
      "outputs": [
        {
          "output_type": "execute_result",
          "data": {
            "text/html": [
              "<div>\n",
              "<style scoped>\n",
              "    .dataframe tbody tr th:only-of-type {\n",
              "        vertical-align: middle;\n",
              "    }\n",
              "\n",
              "    .dataframe tbody tr th {\n",
              "        vertical-align: top;\n",
              "    }\n",
              "\n",
              "    .dataframe thead th {\n",
              "        text-align: right;\n",
              "    }\n",
              "</style>\n",
              "<table border=\"1\" class=\"dataframe\">\n",
              "  <thead>\n",
              "    <tr style=\"text-align: right;\">\n",
              "      <th></th>\n",
              "      <th>W</th>\n",
              "      <th>X</th>\n",
              "      <th>Y</th>\n",
              "      <th>Z</th>\n",
              "      <th>States</th>\n",
              "    </tr>\n",
              "  </thead>\n",
              "  <tbody>\n",
              "    <tr>\n",
              "      <th>A</th>\n",
              "      <td>0.673858</td>\n",
              "      <td>-0.468250</td>\n",
              "      <td>-2.135991</td>\n",
              "      <td>0.614166</td>\n",
              "      <td>CA</td>\n",
              "    </tr>\n",
              "    <tr>\n",
              "      <th>B</th>\n",
              "      <td>0.158239</td>\n",
              "      <td>2.174342</td>\n",
              "      <td>-0.422609</td>\n",
              "      <td>0.329517</td>\n",
              "      <td>NY</td>\n",
              "    </tr>\n",
              "    <tr>\n",
              "      <th>C</th>\n",
              "      <td>-0.692647</td>\n",
              "      <td>0.658624</td>\n",
              "      <td>-1.197652</td>\n",
              "      <td>0.548789</td>\n",
              "      <td>WY</td>\n",
              "    </tr>\n",
              "    <tr>\n",
              "      <th>D</th>\n",
              "      <td>-0.321052</td>\n",
              "      <td>0.421792</td>\n",
              "      <td>0.707855</td>\n",
              "      <td>1.098968</td>\n",
              "      <td>OR</td>\n",
              "    </tr>\n",
              "    <tr>\n",
              "      <th>E</th>\n",
              "      <td>0.059392</td>\n",
              "      <td>-1.525721</td>\n",
              "      <td>-0.862611</td>\n",
              "      <td>-0.871551</td>\n",
              "      <td>CO</td>\n",
              "    </tr>\n",
              "  </tbody>\n",
              "</table>\n",
              "</div>"
            ],
            "text/plain": [
              "          W         X         Y         Z States\n",
              "A  0.673858 -0.468250 -2.135991  0.614166     CA\n",
              "B  0.158239  2.174342 -0.422609  0.329517     NY\n",
              "C -0.692647  0.658624 -1.197652  0.548789     WY\n",
              "D -0.321052  0.421792  0.707855  1.098968     OR\n",
              "E  0.059392 -1.525721 -0.862611 -0.871551     CO"
            ]
          },
          "metadata": {
            "tags": []
          },
          "execution_count": 86
        }
      ]
    },
    {
      "cell_type": "code",
      "metadata": {
        "id": "wBBKKLsQQ6Tz",
        "colab_type": "code",
        "outputId": "84b6316c-5c90-44df-f804-123a1681d28b",
        "colab": {
          "base_uri": "https://localhost:8080/",
          "height": 227
        }
      },
      "source": [
        "df.set_index('States') #set 'States' as the index (inplace = True to save it) "
      ],
      "execution_count": 87,
      "outputs": [
        {
          "output_type": "execute_result",
          "data": {
            "text/html": [
              "<div>\n",
              "<style scoped>\n",
              "    .dataframe tbody tr th:only-of-type {\n",
              "        vertical-align: middle;\n",
              "    }\n",
              "\n",
              "    .dataframe tbody tr th {\n",
              "        vertical-align: top;\n",
              "    }\n",
              "\n",
              "    .dataframe thead th {\n",
              "        text-align: right;\n",
              "    }\n",
              "</style>\n",
              "<table border=\"1\" class=\"dataframe\">\n",
              "  <thead>\n",
              "    <tr style=\"text-align: right;\">\n",
              "      <th></th>\n",
              "      <th>W</th>\n",
              "      <th>X</th>\n",
              "      <th>Y</th>\n",
              "      <th>Z</th>\n",
              "    </tr>\n",
              "    <tr>\n",
              "      <th>States</th>\n",
              "      <th></th>\n",
              "      <th></th>\n",
              "      <th></th>\n",
              "      <th></th>\n",
              "    </tr>\n",
              "  </thead>\n",
              "  <tbody>\n",
              "    <tr>\n",
              "      <th>CA</th>\n",
              "      <td>0.673858</td>\n",
              "      <td>-0.468250</td>\n",
              "      <td>-2.135991</td>\n",
              "      <td>0.614166</td>\n",
              "    </tr>\n",
              "    <tr>\n",
              "      <th>NY</th>\n",
              "      <td>0.158239</td>\n",
              "      <td>2.174342</td>\n",
              "      <td>-0.422609</td>\n",
              "      <td>0.329517</td>\n",
              "    </tr>\n",
              "    <tr>\n",
              "      <th>WY</th>\n",
              "      <td>-0.692647</td>\n",
              "      <td>0.658624</td>\n",
              "      <td>-1.197652</td>\n",
              "      <td>0.548789</td>\n",
              "    </tr>\n",
              "    <tr>\n",
              "      <th>OR</th>\n",
              "      <td>-0.321052</td>\n",
              "      <td>0.421792</td>\n",
              "      <td>0.707855</td>\n",
              "      <td>1.098968</td>\n",
              "    </tr>\n",
              "    <tr>\n",
              "      <th>CO</th>\n",
              "      <td>0.059392</td>\n",
              "      <td>-1.525721</td>\n",
              "      <td>-0.862611</td>\n",
              "      <td>-0.871551</td>\n",
              "    </tr>\n",
              "  </tbody>\n",
              "</table>\n",
              "</div>"
            ],
            "text/plain": [
              "               W         X         Y         Z\n",
              "States                                        \n",
              "CA      0.673858 -0.468250 -2.135991  0.614166\n",
              "NY      0.158239  2.174342 -0.422609  0.329517\n",
              "WY     -0.692647  0.658624 -1.197652  0.548789\n",
              "OR     -0.321052  0.421792  0.707855  1.098968\n",
              "CO      0.059392 -1.525721 -0.862611 -0.871551"
            ]
          },
          "metadata": {
            "tags": []
          },
          "execution_count": 87
        }
      ]
    },
    {
      "cell_type": "markdown",
      "metadata": {
        "id": "oVjP-o6_usg3",
        "colab_type": "text"
      },
      "source": [
        "###**2.4 Missing Data**\n",
        "* df.fillna()\n",
        "* df.dropna()"
      ]
    },
    {
      "cell_type": "code",
      "metadata": {
        "id": "wmuA-q5Eu46x",
        "colab_type": "code",
        "outputId": "287c4101-aab2-4ded-9553-120b2670ebfe",
        "colab": {
          "base_uri": "https://localhost:8080/",
          "height": 167
        }
      },
      "source": [
        "#create a data frame from dictionary\n",
        "d = {'A':[1,2,np.nan,8],\n",
        "     'B':[5,np.nan,np.nan,2],\n",
        "     'C':[1,2,np.nan,3],\n",
        "     'D':[np.nan,6,3,2]}\n",
        "df=pd.DataFrame(d)\n",
        "df"
      ],
      "execution_count": 88,
      "outputs": [
        {
          "output_type": "execute_result",
          "data": {
            "text/html": [
              "<div>\n",
              "<style scoped>\n",
              "    .dataframe tbody tr th:only-of-type {\n",
              "        vertical-align: middle;\n",
              "    }\n",
              "\n",
              "    .dataframe tbody tr th {\n",
              "        vertical-align: top;\n",
              "    }\n",
              "\n",
              "    .dataframe thead th {\n",
              "        text-align: right;\n",
              "    }\n",
              "</style>\n",
              "<table border=\"1\" class=\"dataframe\">\n",
              "  <thead>\n",
              "    <tr style=\"text-align: right;\">\n",
              "      <th></th>\n",
              "      <th>A</th>\n",
              "      <th>B</th>\n",
              "      <th>C</th>\n",
              "      <th>D</th>\n",
              "    </tr>\n",
              "  </thead>\n",
              "  <tbody>\n",
              "    <tr>\n",
              "      <th>0</th>\n",
              "      <td>1.0</td>\n",
              "      <td>5.0</td>\n",
              "      <td>1.0</td>\n",
              "      <td>NaN</td>\n",
              "    </tr>\n",
              "    <tr>\n",
              "      <th>1</th>\n",
              "      <td>2.0</td>\n",
              "      <td>NaN</td>\n",
              "      <td>2.0</td>\n",
              "      <td>6.0</td>\n",
              "    </tr>\n",
              "    <tr>\n",
              "      <th>2</th>\n",
              "      <td>NaN</td>\n",
              "      <td>NaN</td>\n",
              "      <td>NaN</td>\n",
              "      <td>3.0</td>\n",
              "    </tr>\n",
              "    <tr>\n",
              "      <th>3</th>\n",
              "      <td>8.0</td>\n",
              "      <td>2.0</td>\n",
              "      <td>3.0</td>\n",
              "      <td>2.0</td>\n",
              "    </tr>\n",
              "  </tbody>\n",
              "</table>\n",
              "</div>"
            ],
            "text/plain": [
              "     A    B    C    D\n",
              "0  1.0  5.0  1.0  NaN\n",
              "1  2.0  NaN  2.0  6.0\n",
              "2  NaN  NaN  NaN  3.0\n",
              "3  8.0  2.0  3.0  2.0"
            ]
          },
          "metadata": {
            "tags": []
          },
          "execution_count": 88
        }
      ]
    },
    {
      "cell_type": "code",
      "metadata": {
        "id": "2A2xUMokvlsf",
        "colab_type": "code",
        "outputId": "582b33cc-94cf-4fcb-df55-e0308a219bf4",
        "colab": {
          "base_uri": "https://localhost:8080/",
          "height": 167
        }
      },
      "source": [
        "#fill value\n",
        "df.fillna(value=0) #inplace=True to keep the value"
      ],
      "execution_count": 89,
      "outputs": [
        {
          "output_type": "execute_result",
          "data": {
            "text/html": [
              "<div>\n",
              "<style scoped>\n",
              "    .dataframe tbody tr th:only-of-type {\n",
              "        vertical-align: middle;\n",
              "    }\n",
              "\n",
              "    .dataframe tbody tr th {\n",
              "        vertical-align: top;\n",
              "    }\n",
              "\n",
              "    .dataframe thead th {\n",
              "        text-align: right;\n",
              "    }\n",
              "</style>\n",
              "<table border=\"1\" class=\"dataframe\">\n",
              "  <thead>\n",
              "    <tr style=\"text-align: right;\">\n",
              "      <th></th>\n",
              "      <th>A</th>\n",
              "      <th>B</th>\n",
              "      <th>C</th>\n",
              "      <th>D</th>\n",
              "    </tr>\n",
              "  </thead>\n",
              "  <tbody>\n",
              "    <tr>\n",
              "      <th>0</th>\n",
              "      <td>1.0</td>\n",
              "      <td>5.0</td>\n",
              "      <td>1.0</td>\n",
              "      <td>0.0</td>\n",
              "    </tr>\n",
              "    <tr>\n",
              "      <th>1</th>\n",
              "      <td>2.0</td>\n",
              "      <td>0.0</td>\n",
              "      <td>2.0</td>\n",
              "      <td>6.0</td>\n",
              "    </tr>\n",
              "    <tr>\n",
              "      <th>2</th>\n",
              "      <td>0.0</td>\n",
              "      <td>0.0</td>\n",
              "      <td>0.0</td>\n",
              "      <td>3.0</td>\n",
              "    </tr>\n",
              "    <tr>\n",
              "      <th>3</th>\n",
              "      <td>8.0</td>\n",
              "      <td>2.0</td>\n",
              "      <td>3.0</td>\n",
              "      <td>2.0</td>\n",
              "    </tr>\n",
              "  </tbody>\n",
              "</table>\n",
              "</div>"
            ],
            "text/plain": [
              "     A    B    C    D\n",
              "0  1.0  5.0  1.0  0.0\n",
              "1  2.0  0.0  2.0  6.0\n",
              "2  0.0  0.0  0.0  3.0\n",
              "3  8.0  2.0  3.0  2.0"
            ]
          },
          "metadata": {
            "tags": []
          },
          "execution_count": 89
        }
      ]
    },
    {
      "cell_type": "code",
      "metadata": {
        "id": "XzfRK0DWsUvj",
        "colab_type": "code",
        "outputId": "1548baec-82f1-4ea4-c783-ddb98fc26fe8",
        "colab": {
          "base_uri": "https://localhost:8080/",
          "height": 167
        }
      },
      "source": [
        "#fill method, method = bfill/backfill, ffill/pad\n",
        "df.fillna(method='bfill')"
      ],
      "execution_count": 90,
      "outputs": [
        {
          "output_type": "execute_result",
          "data": {
            "text/html": [
              "<div>\n",
              "<style scoped>\n",
              "    .dataframe tbody tr th:only-of-type {\n",
              "        vertical-align: middle;\n",
              "    }\n",
              "\n",
              "    .dataframe tbody tr th {\n",
              "        vertical-align: top;\n",
              "    }\n",
              "\n",
              "    .dataframe thead th {\n",
              "        text-align: right;\n",
              "    }\n",
              "</style>\n",
              "<table border=\"1\" class=\"dataframe\">\n",
              "  <thead>\n",
              "    <tr style=\"text-align: right;\">\n",
              "      <th></th>\n",
              "      <th>A</th>\n",
              "      <th>B</th>\n",
              "      <th>C</th>\n",
              "      <th>D</th>\n",
              "    </tr>\n",
              "  </thead>\n",
              "  <tbody>\n",
              "    <tr>\n",
              "      <th>0</th>\n",
              "      <td>1.0</td>\n",
              "      <td>5.0</td>\n",
              "      <td>1.0</td>\n",
              "      <td>6.0</td>\n",
              "    </tr>\n",
              "    <tr>\n",
              "      <th>1</th>\n",
              "      <td>2.0</td>\n",
              "      <td>2.0</td>\n",
              "      <td>2.0</td>\n",
              "      <td>6.0</td>\n",
              "    </tr>\n",
              "    <tr>\n",
              "      <th>2</th>\n",
              "      <td>8.0</td>\n",
              "      <td>2.0</td>\n",
              "      <td>3.0</td>\n",
              "      <td>3.0</td>\n",
              "    </tr>\n",
              "    <tr>\n",
              "      <th>3</th>\n",
              "      <td>8.0</td>\n",
              "      <td>2.0</td>\n",
              "      <td>3.0</td>\n",
              "      <td>2.0</td>\n",
              "    </tr>\n",
              "  </tbody>\n",
              "</table>\n",
              "</div>"
            ],
            "text/plain": [
              "     A    B    C    D\n",
              "0  1.0  5.0  1.0  6.0\n",
              "1  2.0  2.0  2.0  6.0\n",
              "2  8.0  2.0  3.0  3.0\n",
              "3  8.0  2.0  3.0  2.0"
            ]
          },
          "metadata": {
            "tags": []
          },
          "execution_count": 90
        }
      ]
    },
    {
      "cell_type": "code",
      "metadata": {
        "id": "baMukF85v33s",
        "colab_type": "code",
        "outputId": "f744f6a2-6d54-46f5-cb50-ff6e0beb5a58",
        "colab": {
          "base_uri": "https://localhost:8080/",
          "height": 167
        }
      },
      "source": [
        "#fill missing values as the mean value of the column\n",
        "df.fillna(value=df.mean())"
      ],
      "execution_count": 91,
      "outputs": [
        {
          "output_type": "execute_result",
          "data": {
            "text/html": [
              "<div>\n",
              "<style scoped>\n",
              "    .dataframe tbody tr th:only-of-type {\n",
              "        vertical-align: middle;\n",
              "    }\n",
              "\n",
              "    .dataframe tbody tr th {\n",
              "        vertical-align: top;\n",
              "    }\n",
              "\n",
              "    .dataframe thead th {\n",
              "        text-align: right;\n",
              "    }\n",
              "</style>\n",
              "<table border=\"1\" class=\"dataframe\">\n",
              "  <thead>\n",
              "    <tr style=\"text-align: right;\">\n",
              "      <th></th>\n",
              "      <th>A</th>\n",
              "      <th>B</th>\n",
              "      <th>C</th>\n",
              "      <th>D</th>\n",
              "    </tr>\n",
              "  </thead>\n",
              "  <tbody>\n",
              "    <tr>\n",
              "      <th>0</th>\n",
              "      <td>1.000000</td>\n",
              "      <td>5.0</td>\n",
              "      <td>1.0</td>\n",
              "      <td>3.666667</td>\n",
              "    </tr>\n",
              "    <tr>\n",
              "      <th>1</th>\n",
              "      <td>2.000000</td>\n",
              "      <td>3.5</td>\n",
              "      <td>2.0</td>\n",
              "      <td>6.000000</td>\n",
              "    </tr>\n",
              "    <tr>\n",
              "      <th>2</th>\n",
              "      <td>3.666667</td>\n",
              "      <td>3.5</td>\n",
              "      <td>2.0</td>\n",
              "      <td>3.000000</td>\n",
              "    </tr>\n",
              "    <tr>\n",
              "      <th>3</th>\n",
              "      <td>8.000000</td>\n",
              "      <td>2.0</td>\n",
              "      <td>3.0</td>\n",
              "      <td>2.000000</td>\n",
              "    </tr>\n",
              "  </tbody>\n",
              "</table>\n",
              "</div>"
            ],
            "text/plain": [
              "          A    B    C         D\n",
              "0  1.000000  5.0  1.0  3.666667\n",
              "1  2.000000  3.5  2.0  6.000000\n",
              "2  3.666667  3.5  2.0  3.000000\n",
              "3  8.000000  2.0  3.0  2.000000"
            ]
          },
          "metadata": {
            "tags": []
          },
          "execution_count": 91
        }
      ]
    },
    {
      "cell_type": "code",
      "metadata": {
        "id": "-ExWIT2kvL_E",
        "colab_type": "code",
        "outputId": "ec817f64-7e27-4de7-d861-03cb99595eb9",
        "colab": {
          "base_uri": "https://localhost:8080/",
          "height": 77
        }
      },
      "source": [
        "#drop all NaN values (row)\n",
        "df.dropna()"
      ],
      "execution_count": 92,
      "outputs": [
        {
          "output_type": "execute_result",
          "data": {
            "text/html": [
              "<div>\n",
              "<style scoped>\n",
              "    .dataframe tbody tr th:only-of-type {\n",
              "        vertical-align: middle;\n",
              "    }\n",
              "\n",
              "    .dataframe tbody tr th {\n",
              "        vertical-align: top;\n",
              "    }\n",
              "\n",
              "    .dataframe thead th {\n",
              "        text-align: right;\n",
              "    }\n",
              "</style>\n",
              "<table border=\"1\" class=\"dataframe\">\n",
              "  <thead>\n",
              "    <tr style=\"text-align: right;\">\n",
              "      <th></th>\n",
              "      <th>A</th>\n",
              "      <th>B</th>\n",
              "      <th>C</th>\n",
              "      <th>D</th>\n",
              "    </tr>\n",
              "  </thead>\n",
              "  <tbody>\n",
              "    <tr>\n",
              "      <th>3</th>\n",
              "      <td>8.0</td>\n",
              "      <td>2.0</td>\n",
              "      <td>3.0</td>\n",
              "      <td>2.0</td>\n",
              "    </tr>\n",
              "  </tbody>\n",
              "</table>\n",
              "</div>"
            ],
            "text/plain": [
              "     A    B    C    D\n",
              "3  8.0  2.0  3.0  2.0"
            ]
          },
          "metadata": {
            "tags": []
          },
          "execution_count": 92
        }
      ]
    },
    {
      "cell_type": "code",
      "metadata": {
        "id": "s-SdFOjIvY2d",
        "colab_type": "code",
        "outputId": "ecb9583e-0cee-4b79-f61c-6423dbc52bb0",
        "colab": {
          "base_uri": "https://localhost:8080/",
          "height": 137
        }
      },
      "source": [
        "#drop all NaN with threshold = 2 (drop rows if Nan >= 2 values)\n",
        "df.dropna(thresh=2)"
      ],
      "execution_count": 93,
      "outputs": [
        {
          "output_type": "execute_result",
          "data": {
            "text/html": [
              "<div>\n",
              "<style scoped>\n",
              "    .dataframe tbody tr th:only-of-type {\n",
              "        vertical-align: middle;\n",
              "    }\n",
              "\n",
              "    .dataframe tbody tr th {\n",
              "        vertical-align: top;\n",
              "    }\n",
              "\n",
              "    .dataframe thead th {\n",
              "        text-align: right;\n",
              "    }\n",
              "</style>\n",
              "<table border=\"1\" class=\"dataframe\">\n",
              "  <thead>\n",
              "    <tr style=\"text-align: right;\">\n",
              "      <th></th>\n",
              "      <th>A</th>\n",
              "      <th>B</th>\n",
              "      <th>C</th>\n",
              "      <th>D</th>\n",
              "    </tr>\n",
              "  </thead>\n",
              "  <tbody>\n",
              "    <tr>\n",
              "      <th>0</th>\n",
              "      <td>1.0</td>\n",
              "      <td>5.0</td>\n",
              "      <td>1.0</td>\n",
              "      <td>NaN</td>\n",
              "    </tr>\n",
              "    <tr>\n",
              "      <th>1</th>\n",
              "      <td>2.0</td>\n",
              "      <td>NaN</td>\n",
              "      <td>2.0</td>\n",
              "      <td>6.0</td>\n",
              "    </tr>\n",
              "    <tr>\n",
              "      <th>3</th>\n",
              "      <td>8.0</td>\n",
              "      <td>2.0</td>\n",
              "      <td>3.0</td>\n",
              "      <td>2.0</td>\n",
              "    </tr>\n",
              "  </tbody>\n",
              "</table>\n",
              "</div>"
            ],
            "text/plain": [
              "     A    B    C    D\n",
              "0  1.0  5.0  1.0  NaN\n",
              "1  2.0  NaN  2.0  6.0\n",
              "3  8.0  2.0  3.0  2.0"
            ]
          },
          "metadata": {
            "tags": []
          },
          "execution_count": 93
        }
      ]
    },
    {
      "cell_type": "markdown",
      "metadata": {
        "id": "QcUnS-CDygl5",
        "colab_type": "text"
      },
      "source": [
        "###**2.5 Concat and Join**\n",
        "\n",
        "*   pd.concat([df1,df2])/row\n",
        "*   pd.concat([df1,df2],axis=1)/column\n",
        "*   df1.join(df2)/on index\n",
        "\n",
        "Join need at least one duplicate key/index\n"
      ]
    },
    {
      "cell_type": "markdown",
      "metadata": {
        "id": "qH0i7eWK0-kO",
        "colab_type": "text"
      },
      "source": [
        "##### **(a) concat: adding rows (based on index)**"
      ]
    },
    {
      "cell_type": "code",
      "metadata": {
        "id": "-cClklyIyjqW",
        "colab_type": "code",
        "outputId": "6ac84e3f-35c1-4e1d-cdcb-7a0768462884",
        "colab": {
          "base_uri": "https://localhost:8080/",
          "height": 230
        }
      },
      "source": [
        "df1 = pd.DataFrame({'Temp':     [24, 25, 26, 26],\n",
        "                    'Humidity': [65, 64, 63, 62],\n",
        "                    'Irradiation':[800, 850, 900, 950]},\n",
        "                    index=['2019-01-01 00:00','2019-01-01 01:00','2019-01-01 02:00','2019-01-01 03:00'])\n",
        "\n",
        "df2 = pd.DataFrame({'Temp':     [24, 25, 26, 26],\n",
        "                    'Humidity': [65, 64, 63, 62],\n",
        "                    'Irradiation':[800, 850, 900, 950]},\n",
        "                    index=['2019-01-01 04:00','2019-01-01 05:00','2019-01-01 06:00','2019-01-01 07:00'])\n",
        "\n",
        "print('-------------df1-------------')\n",
        "print(df1)\n",
        "print('-------------df2-------------')\n",
        "print(df2)"
      ],
      "execution_count": 94,
      "outputs": [
        {
          "output_type": "stream",
          "text": [
            "-------------df1-------------\n",
            "                  Temp  Humidity  Irradiation\n",
            "2019-01-01 00:00    24        65          800\n",
            "2019-01-01 01:00    25        64          850\n",
            "2019-01-01 02:00    26        63          900\n",
            "2019-01-01 03:00    26        62          950\n",
            "-------------df2-------------\n",
            "                  Temp  Humidity  Irradiation\n",
            "2019-01-01 04:00    24        65          800\n",
            "2019-01-01 05:00    25        64          850\n",
            "2019-01-01 06:00    26        63          900\n",
            "2019-01-01 07:00    26        62          950\n"
          ],
          "name": "stdout"
        }
      ]
    },
    {
      "cell_type": "code",
      "metadata": {
        "id": "CopuzD47zXP2",
        "colab_type": "code",
        "outputId": "e590a648-47a4-4801-f5f5-8b7cd217e9a3",
        "colab": {
          "base_uri": "https://localhost:8080/",
          "height": 287
        }
      },
      "source": [
        "#CONCAT by adding more rows\n",
        "pd.concat([df1,df2])"
      ],
      "execution_count": 95,
      "outputs": [
        {
          "output_type": "execute_result",
          "data": {
            "text/html": [
              "<div>\n",
              "<style scoped>\n",
              "    .dataframe tbody tr th:only-of-type {\n",
              "        vertical-align: middle;\n",
              "    }\n",
              "\n",
              "    .dataframe tbody tr th {\n",
              "        vertical-align: top;\n",
              "    }\n",
              "\n",
              "    .dataframe thead th {\n",
              "        text-align: right;\n",
              "    }\n",
              "</style>\n",
              "<table border=\"1\" class=\"dataframe\">\n",
              "  <thead>\n",
              "    <tr style=\"text-align: right;\">\n",
              "      <th></th>\n",
              "      <th>Temp</th>\n",
              "      <th>Humidity</th>\n",
              "      <th>Irradiation</th>\n",
              "    </tr>\n",
              "  </thead>\n",
              "  <tbody>\n",
              "    <tr>\n",
              "      <th>2019-01-01 00:00</th>\n",
              "      <td>24</td>\n",
              "      <td>65</td>\n",
              "      <td>800</td>\n",
              "    </tr>\n",
              "    <tr>\n",
              "      <th>2019-01-01 01:00</th>\n",
              "      <td>25</td>\n",
              "      <td>64</td>\n",
              "      <td>850</td>\n",
              "    </tr>\n",
              "    <tr>\n",
              "      <th>2019-01-01 02:00</th>\n",
              "      <td>26</td>\n",
              "      <td>63</td>\n",
              "      <td>900</td>\n",
              "    </tr>\n",
              "    <tr>\n",
              "      <th>2019-01-01 03:00</th>\n",
              "      <td>26</td>\n",
              "      <td>62</td>\n",
              "      <td>950</td>\n",
              "    </tr>\n",
              "    <tr>\n",
              "      <th>2019-01-01 04:00</th>\n",
              "      <td>24</td>\n",
              "      <td>65</td>\n",
              "      <td>800</td>\n",
              "    </tr>\n",
              "    <tr>\n",
              "      <th>2019-01-01 05:00</th>\n",
              "      <td>25</td>\n",
              "      <td>64</td>\n",
              "      <td>850</td>\n",
              "    </tr>\n",
              "    <tr>\n",
              "      <th>2019-01-01 06:00</th>\n",
              "      <td>26</td>\n",
              "      <td>63</td>\n",
              "      <td>900</td>\n",
              "    </tr>\n",
              "    <tr>\n",
              "      <th>2019-01-01 07:00</th>\n",
              "      <td>26</td>\n",
              "      <td>62</td>\n",
              "      <td>950</td>\n",
              "    </tr>\n",
              "  </tbody>\n",
              "</table>\n",
              "</div>"
            ],
            "text/plain": [
              "                  Temp  Humidity  Irradiation\n",
              "2019-01-01 00:00    24        65          800\n",
              "2019-01-01 01:00    25        64          850\n",
              "2019-01-01 02:00    26        63          900\n",
              "2019-01-01 03:00    26        62          950\n",
              "2019-01-01 04:00    24        65          800\n",
              "2019-01-01 05:00    25        64          850\n",
              "2019-01-01 06:00    26        63          900\n",
              "2019-01-01 07:00    26        62          950"
            ]
          },
          "metadata": {
            "tags": []
          },
          "execution_count": 95
        }
      ]
    },
    {
      "cell_type": "markdown",
      "metadata": {
        "id": "6mJZA-tm1IM6",
        "colab_type": "text"
      },
      "source": [
        "##### **(b) concat: adding columns (based on index)**"
      ]
    },
    {
      "cell_type": "code",
      "metadata": {
        "id": "Ip6ZUYxb0sww",
        "colab_type": "code",
        "outputId": "c8ad1ef5-183d-49c5-85a0-9a569986cd4c",
        "colab": {
          "base_uri": "https://localhost:8080/",
          "height": 230
        }
      },
      "source": [
        "df1 = pd.DataFrame({'Temp':     [24, 25, 26, 26],\n",
        "                    'Humidity': [65, 64, 63, 62],\n",
        "                    'Irradiation':[800, 850, 900, 950]},\n",
        "                    index=['2019-01-01 00:00','2019-01-01 01:00','2019-01-01 02:00','2019-01-01 03:00'])\n",
        "\n",
        "df2 = pd.DataFrame({'Temp2':     [24, 25, 26, 26],\n",
        "                    'Humidity2': [65, 64, 63, 62],\n",
        "                    'Irradiation2':[800, 850, 900, 950]},\n",
        "                    index=['2019-01-01 00:00','2019-01-01 01:00','2019-01-01 02:00','2019-01-01 03:00'])\n",
        "\n",
        "print('-------------df1-------------')\n",
        "print(df1)\n",
        "print('-------------df2-------------')\n",
        "print(df2)"
      ],
      "execution_count": 96,
      "outputs": [
        {
          "output_type": "stream",
          "text": [
            "-------------df1-------------\n",
            "                  Temp  Humidity  Irradiation\n",
            "2019-01-01 00:00    24        65          800\n",
            "2019-01-01 01:00    25        64          850\n",
            "2019-01-01 02:00    26        63          900\n",
            "2019-01-01 03:00    26        62          950\n",
            "-------------df2-------------\n",
            "                  Temp2  Humidity2  Irradiation2\n",
            "2019-01-01 00:00     24         65           800\n",
            "2019-01-01 01:00     25         64           850\n",
            "2019-01-01 02:00     26         63           900\n",
            "2019-01-01 03:00     26         62           950\n"
          ],
          "name": "stdout"
        }
      ]
    },
    {
      "cell_type": "code",
      "metadata": {
        "id": "iQ3RymkxzYjq",
        "colab_type": "code",
        "outputId": "3cd03a2d-5f12-4386-b202-780d77dcea5f",
        "colab": {
          "base_uri": "https://localhost:8080/",
          "height": 167
        }
      },
      "source": [
        "#CONCAT by adding more columns\n",
        "pd.concat([df1,df2],axis=1)"
      ],
      "execution_count": 97,
      "outputs": [
        {
          "output_type": "execute_result",
          "data": {
            "text/html": [
              "<div>\n",
              "<style scoped>\n",
              "    .dataframe tbody tr th:only-of-type {\n",
              "        vertical-align: middle;\n",
              "    }\n",
              "\n",
              "    .dataframe tbody tr th {\n",
              "        vertical-align: top;\n",
              "    }\n",
              "\n",
              "    .dataframe thead th {\n",
              "        text-align: right;\n",
              "    }\n",
              "</style>\n",
              "<table border=\"1\" class=\"dataframe\">\n",
              "  <thead>\n",
              "    <tr style=\"text-align: right;\">\n",
              "      <th></th>\n",
              "      <th>Temp</th>\n",
              "      <th>Humidity</th>\n",
              "      <th>Irradiation</th>\n",
              "      <th>Temp2</th>\n",
              "      <th>Humidity2</th>\n",
              "      <th>Irradiation2</th>\n",
              "    </tr>\n",
              "  </thead>\n",
              "  <tbody>\n",
              "    <tr>\n",
              "      <th>2019-01-01 00:00</th>\n",
              "      <td>24</td>\n",
              "      <td>65</td>\n",
              "      <td>800</td>\n",
              "      <td>24</td>\n",
              "      <td>65</td>\n",
              "      <td>800</td>\n",
              "    </tr>\n",
              "    <tr>\n",
              "      <th>2019-01-01 01:00</th>\n",
              "      <td>25</td>\n",
              "      <td>64</td>\n",
              "      <td>850</td>\n",
              "      <td>25</td>\n",
              "      <td>64</td>\n",
              "      <td>850</td>\n",
              "    </tr>\n",
              "    <tr>\n",
              "      <th>2019-01-01 02:00</th>\n",
              "      <td>26</td>\n",
              "      <td>63</td>\n",
              "      <td>900</td>\n",
              "      <td>26</td>\n",
              "      <td>63</td>\n",
              "      <td>900</td>\n",
              "    </tr>\n",
              "    <tr>\n",
              "      <th>2019-01-01 03:00</th>\n",
              "      <td>26</td>\n",
              "      <td>62</td>\n",
              "      <td>950</td>\n",
              "      <td>26</td>\n",
              "      <td>62</td>\n",
              "      <td>950</td>\n",
              "    </tr>\n",
              "  </tbody>\n",
              "</table>\n",
              "</div>"
            ],
            "text/plain": [
              "                  Temp  Humidity  Irradiation  Temp2  Humidity2  Irradiation2\n",
              "2019-01-01 00:00    24        65          800     24         65           800\n",
              "2019-01-01 01:00    25        64          850     25         64           850\n",
              "2019-01-01 02:00    26        63          900     26         63           900\n",
              "2019-01-01 03:00    26        62          950     26         62           950"
            ]
          },
          "metadata": {
            "tags": []
          },
          "execution_count": 97
        }
      ]
    },
    {
      "cell_type": "markdown",
      "metadata": {
        "id": "gVCbbjuY8pj5",
        "colab_type": "text"
      },
      "source": [
        "##### **(c) Join: join on index**"
      ]
    },
    {
      "cell_type": "code",
      "metadata": {
        "id": "dwe_hx4K8YFL",
        "colab_type": "code",
        "colab": {
          "base_uri": "https://localhost:8080/",
          "height": 167
        },
        "outputId": "706e0ea2-eade-4703-d6cf-a3850720e2ea"
      },
      "source": [
        "df1.join(df2) #join on index"
      ],
      "execution_count": 98,
      "outputs": [
        {
          "output_type": "execute_result",
          "data": {
            "text/html": [
              "<div>\n",
              "<style scoped>\n",
              "    .dataframe tbody tr th:only-of-type {\n",
              "        vertical-align: middle;\n",
              "    }\n",
              "\n",
              "    .dataframe tbody tr th {\n",
              "        vertical-align: top;\n",
              "    }\n",
              "\n",
              "    .dataframe thead th {\n",
              "        text-align: right;\n",
              "    }\n",
              "</style>\n",
              "<table border=\"1\" class=\"dataframe\">\n",
              "  <thead>\n",
              "    <tr style=\"text-align: right;\">\n",
              "      <th></th>\n",
              "      <th>Temp</th>\n",
              "      <th>Humidity</th>\n",
              "      <th>Irradiation</th>\n",
              "      <th>Temp2</th>\n",
              "      <th>Humidity2</th>\n",
              "      <th>Irradiation2</th>\n",
              "    </tr>\n",
              "  </thead>\n",
              "  <tbody>\n",
              "    <tr>\n",
              "      <th>2019-01-01 00:00</th>\n",
              "      <td>24</td>\n",
              "      <td>65</td>\n",
              "      <td>800</td>\n",
              "      <td>24</td>\n",
              "      <td>65</td>\n",
              "      <td>800</td>\n",
              "    </tr>\n",
              "    <tr>\n",
              "      <th>2019-01-01 01:00</th>\n",
              "      <td>25</td>\n",
              "      <td>64</td>\n",
              "      <td>850</td>\n",
              "      <td>25</td>\n",
              "      <td>64</td>\n",
              "      <td>850</td>\n",
              "    </tr>\n",
              "    <tr>\n",
              "      <th>2019-01-01 02:00</th>\n",
              "      <td>26</td>\n",
              "      <td>63</td>\n",
              "      <td>900</td>\n",
              "      <td>26</td>\n",
              "      <td>63</td>\n",
              "      <td>900</td>\n",
              "    </tr>\n",
              "    <tr>\n",
              "      <th>2019-01-01 03:00</th>\n",
              "      <td>26</td>\n",
              "      <td>62</td>\n",
              "      <td>950</td>\n",
              "      <td>26</td>\n",
              "      <td>62</td>\n",
              "      <td>950</td>\n",
              "    </tr>\n",
              "  </tbody>\n",
              "</table>\n",
              "</div>"
            ],
            "text/plain": [
              "                  Temp  Humidity  Irradiation  Temp2  Humidity2  Irradiation2\n",
              "2019-01-01 00:00    24        65          800     24         65           800\n",
              "2019-01-01 01:00    25        64          850     25         64           850\n",
              "2019-01-01 02:00    26        63          900     26         63           900\n",
              "2019-01-01 03:00    26        62          950     26         62           950"
            ]
          },
          "metadata": {
            "tags": []
          },
          "execution_count": 98
        }
      ]
    },
    {
      "cell_type": "markdown",
      "metadata": {
        "id": "xt_r6ca37gv6",
        "colab_type": "text"
      },
      "source": [
        "###**2.6 Operations**\n",
        "\n",
        "\n",
        "*   df['..'].unique()\n",
        "*   df['..'].nunique()\n",
        "*   df['..'].describe()\n",
        "*   df['..'].info()\n",
        "*   df['..'].count()\n",
        "*   df['..'].value_counts()\n",
        "*   df['..'].apply(times)\n",
        "*   df['..'].multiply(2)\n",
        "*   df.columns\n",
        "*   df.index\n",
        "*   df.sort_values('..')\n",
        "*   df.isnull()\n",
        "\n"
      ]
    },
    {
      "cell_type": "code",
      "metadata": {
        "id": "b9GnY0lQ7q8u",
        "colab_type": "code",
        "outputId": "a7fd7d91-0a5d-48e4-a9a0-e28b97c1a80f",
        "colab": {
          "base_uri": "https://localhost:8080/",
          "height": 167
        }
      },
      "source": [
        "df = pd.DataFrame({'col1':[1,2,3,4],\n",
        "                   'col2':[444,555,666,444],\n",
        "                   'col3':['abc','def','ghi','xyz']})\n",
        "df"
      ],
      "execution_count": 99,
      "outputs": [
        {
          "output_type": "execute_result",
          "data": {
            "text/html": [
              "<div>\n",
              "<style scoped>\n",
              "    .dataframe tbody tr th:only-of-type {\n",
              "        vertical-align: middle;\n",
              "    }\n",
              "\n",
              "    .dataframe tbody tr th {\n",
              "        vertical-align: top;\n",
              "    }\n",
              "\n",
              "    .dataframe thead th {\n",
              "        text-align: right;\n",
              "    }\n",
              "</style>\n",
              "<table border=\"1\" class=\"dataframe\">\n",
              "  <thead>\n",
              "    <tr style=\"text-align: right;\">\n",
              "      <th></th>\n",
              "      <th>col1</th>\n",
              "      <th>col2</th>\n",
              "      <th>col3</th>\n",
              "    </tr>\n",
              "  </thead>\n",
              "  <tbody>\n",
              "    <tr>\n",
              "      <th>0</th>\n",
              "      <td>1</td>\n",
              "      <td>444</td>\n",
              "      <td>abc</td>\n",
              "    </tr>\n",
              "    <tr>\n",
              "      <th>1</th>\n",
              "      <td>2</td>\n",
              "      <td>555</td>\n",
              "      <td>def</td>\n",
              "    </tr>\n",
              "    <tr>\n",
              "      <th>2</th>\n",
              "      <td>3</td>\n",
              "      <td>666</td>\n",
              "      <td>ghi</td>\n",
              "    </tr>\n",
              "    <tr>\n",
              "      <th>3</th>\n",
              "      <td>4</td>\n",
              "      <td>444</td>\n",
              "      <td>xyz</td>\n",
              "    </tr>\n",
              "  </tbody>\n",
              "</table>\n",
              "</div>"
            ],
            "text/plain": [
              "   col1  col2 col3\n",
              "0     1   444  abc\n",
              "1     2   555  def\n",
              "2     3   666  ghi\n",
              "3     4   444  xyz"
            ]
          },
          "metadata": {
            "tags": []
          },
          "execution_count": 99
        }
      ]
    },
    {
      "cell_type": "code",
      "metadata": {
        "id": "SOVtHAns7235",
        "colab_type": "code",
        "outputId": "46479af3-9e22-4759-bd67-9e4a3e6d0cbc",
        "colab": {
          "base_uri": "https://localhost:8080/",
          "height": 34
        }
      },
      "source": [
        "#find unique values in 'col2'\n",
        "df['col2'].unique()"
      ],
      "execution_count": 100,
      "outputs": [
        {
          "output_type": "execute_result",
          "data": {
            "text/plain": [
              "array([444, 555, 666])"
            ]
          },
          "metadata": {
            "tags": []
          },
          "execution_count": 100
        }
      ]
    },
    {
      "cell_type": "code",
      "metadata": {
        "id": "iv7KcrlT774c",
        "colab_type": "code",
        "outputId": "1b9b0135-0119-44a4-bef5-4845b45c7db6",
        "colab": {
          "base_uri": "https://localhost:8080/",
          "height": 34
        }
      },
      "source": [
        "#find number of unique values in 'col2'\n",
        "df['col2'].nunique()"
      ],
      "execution_count": 101,
      "outputs": [
        {
          "output_type": "execute_result",
          "data": {
            "text/plain": [
              "3"
            ]
          },
          "metadata": {
            "tags": []
          },
          "execution_count": 101
        }
      ]
    },
    {
      "cell_type": "code",
      "metadata": {
        "id": "t0Qrvhhs80D_",
        "colab_type": "code",
        "outputId": "73461737-dbd6-42f3-b84a-ae803c31436a",
        "colab": {
          "base_uri": "https://localhost:8080/",
          "height": 287
        }
      },
      "source": [
        "df.describe()"
      ],
      "execution_count": 102,
      "outputs": [
        {
          "output_type": "execute_result",
          "data": {
            "text/html": [
              "<div>\n",
              "<style scoped>\n",
              "    .dataframe tbody tr th:only-of-type {\n",
              "        vertical-align: middle;\n",
              "    }\n",
              "\n",
              "    .dataframe tbody tr th {\n",
              "        vertical-align: top;\n",
              "    }\n",
              "\n",
              "    .dataframe thead th {\n",
              "        text-align: right;\n",
              "    }\n",
              "</style>\n",
              "<table border=\"1\" class=\"dataframe\">\n",
              "  <thead>\n",
              "    <tr style=\"text-align: right;\">\n",
              "      <th></th>\n",
              "      <th>col1</th>\n",
              "      <th>col2</th>\n",
              "    </tr>\n",
              "  </thead>\n",
              "  <tbody>\n",
              "    <tr>\n",
              "      <th>count</th>\n",
              "      <td>4.000000</td>\n",
              "      <td>4.000000</td>\n",
              "    </tr>\n",
              "    <tr>\n",
              "      <th>mean</th>\n",
              "      <td>2.500000</td>\n",
              "      <td>527.250000</td>\n",
              "    </tr>\n",
              "    <tr>\n",
              "      <th>std</th>\n",
              "      <td>1.290994</td>\n",
              "      <td>106.274409</td>\n",
              "    </tr>\n",
              "    <tr>\n",
              "      <th>min</th>\n",
              "      <td>1.000000</td>\n",
              "      <td>444.000000</td>\n",
              "    </tr>\n",
              "    <tr>\n",
              "      <th>25%</th>\n",
              "      <td>1.750000</td>\n",
              "      <td>444.000000</td>\n",
              "    </tr>\n",
              "    <tr>\n",
              "      <th>50%</th>\n",
              "      <td>2.500000</td>\n",
              "      <td>499.500000</td>\n",
              "    </tr>\n",
              "    <tr>\n",
              "      <th>75%</th>\n",
              "      <td>3.250000</td>\n",
              "      <td>582.750000</td>\n",
              "    </tr>\n",
              "    <tr>\n",
              "      <th>max</th>\n",
              "      <td>4.000000</td>\n",
              "      <td>666.000000</td>\n",
              "    </tr>\n",
              "  </tbody>\n",
              "</table>\n",
              "</div>"
            ],
            "text/plain": [
              "           col1        col2\n",
              "count  4.000000    4.000000\n",
              "mean   2.500000  527.250000\n",
              "std    1.290994  106.274409\n",
              "min    1.000000  444.000000\n",
              "25%    1.750000  444.000000\n",
              "50%    2.500000  499.500000\n",
              "75%    3.250000  582.750000\n",
              "max    4.000000  666.000000"
            ]
          },
          "metadata": {
            "tags": []
          },
          "execution_count": 102
        }
      ]
    },
    {
      "cell_type": "code",
      "metadata": {
        "id": "K0FxxbYh82ex",
        "colab_type": "code",
        "outputId": "a0e10ce9-9e77-49fb-ed6d-5ecc52b1c0da",
        "colab": {
          "base_uri": "https://localhost:8080/",
          "height": 158
        }
      },
      "source": [
        "df.info()"
      ],
      "execution_count": 103,
      "outputs": [
        {
          "output_type": "stream",
          "text": [
            "<class 'pandas.core.frame.DataFrame'>\n",
            "RangeIndex: 4 entries, 0 to 3\n",
            "Data columns (total 3 columns):\n",
            "col1    4 non-null int64\n",
            "col2    4 non-null int64\n",
            "col3    4 non-null object\n",
            "dtypes: int64(2), object(1)\n",
            "memory usage: 224.0+ bytes\n"
          ],
          "name": "stdout"
        }
      ]
    },
    {
      "cell_type": "code",
      "metadata": {
        "id": "eOB7wn8784Dd",
        "colab_type": "code",
        "outputId": "30b0bb5f-0f33-44ab-a71a-33a1021a45eb",
        "colab": {
          "base_uri": "https://localhost:8080/",
          "height": 87
        }
      },
      "source": [
        "df.count()"
      ],
      "execution_count": 104,
      "outputs": [
        {
          "output_type": "execute_result",
          "data": {
            "text/plain": [
              "col1    4\n",
              "col2    4\n",
              "col3    4\n",
              "dtype: int64"
            ]
          },
          "metadata": {
            "tags": []
          },
          "execution_count": 104
        }
      ]
    },
    {
      "cell_type": "code",
      "metadata": {
        "id": "VsgEnXZk78nf",
        "colab_type": "code",
        "outputId": "e87c79ff-5c8e-48ea-dcd4-e543f784b755",
        "colab": {
          "base_uri": "https://localhost:8080/",
          "height": 87
        }
      },
      "source": [
        "#find counts of each value in 'col2'\n",
        "df['col2'].value_counts()"
      ],
      "execution_count": 105,
      "outputs": [
        {
          "output_type": "execute_result",
          "data": {
            "text/plain": [
              "444    2\n",
              "555    1\n",
              "666    1\n",
              "Name: col2, dtype: int64"
            ]
          },
          "metadata": {
            "tags": []
          },
          "execution_count": 105
        }
      ]
    },
    {
      "cell_type": "code",
      "metadata": {
        "id": "6J7qtciH8SDp",
        "colab_type": "code",
        "outputId": "e8633343-14f8-40a6-e22a-d97570919ebc",
        "colab": {
          "base_uri": "https://localhost:8080/",
          "height": 107
        }
      },
      "source": [
        "#conditional selection\n",
        "df[df['col1']>2]"
      ],
      "execution_count": 106,
      "outputs": [
        {
          "output_type": "execute_result",
          "data": {
            "text/html": [
              "<div>\n",
              "<style scoped>\n",
              "    .dataframe tbody tr th:only-of-type {\n",
              "        vertical-align: middle;\n",
              "    }\n",
              "\n",
              "    .dataframe tbody tr th {\n",
              "        vertical-align: top;\n",
              "    }\n",
              "\n",
              "    .dataframe thead th {\n",
              "        text-align: right;\n",
              "    }\n",
              "</style>\n",
              "<table border=\"1\" class=\"dataframe\">\n",
              "  <thead>\n",
              "    <tr style=\"text-align: right;\">\n",
              "      <th></th>\n",
              "      <th>col1</th>\n",
              "      <th>col2</th>\n",
              "      <th>col3</th>\n",
              "    </tr>\n",
              "  </thead>\n",
              "  <tbody>\n",
              "    <tr>\n",
              "      <th>2</th>\n",
              "      <td>3</td>\n",
              "      <td>666</td>\n",
              "      <td>ghi</td>\n",
              "    </tr>\n",
              "    <tr>\n",
              "      <th>3</th>\n",
              "      <td>4</td>\n",
              "      <td>444</td>\n",
              "      <td>xyz</td>\n",
              "    </tr>\n",
              "  </tbody>\n",
              "</table>\n",
              "</div>"
            ],
            "text/plain": [
              "   col1  col2 col3\n",
              "2     3   666  ghi\n",
              "3     4   444  xyz"
            ]
          },
          "metadata": {
            "tags": []
          },
          "execution_count": 106
        }
      ]
    },
    {
      "cell_type": "code",
      "metadata": {
        "id": "PXq67URyCBAW",
        "colab_type": "code",
        "outputId": "8d2bd0cd-5030-4070-9d3c-2aa27cbed18a",
        "colab": {
          "base_uri": "https://localhost:8080/",
          "height": 105
        }
      },
      "source": [
        "df['col2']*2"
      ],
      "execution_count": 107,
      "outputs": [
        {
          "output_type": "execute_result",
          "data": {
            "text/plain": [
              "0     888\n",
              "1    1110\n",
              "2    1332\n",
              "3     888\n",
              "Name: col2, dtype: int64"
            ]
          },
          "metadata": {
            "tags": []
          },
          "execution_count": 107
        }
      ]
    },
    {
      "cell_type": "code",
      "metadata": {
        "id": "--HNCGU69Khu",
        "colab_type": "code",
        "outputId": "8aae8d25-bcdd-4943-a441-1f65a49dfe48",
        "colab": {
          "base_uri": "https://localhost:8080/",
          "height": 105
        }
      },
      "source": [
        "df['col2'].multiply(2)"
      ],
      "execution_count": 108,
      "outputs": [
        {
          "output_type": "execute_result",
          "data": {
            "text/plain": [
              "0     888\n",
              "1    1110\n",
              "2    1332\n",
              "3     888\n",
              "Name: col2, dtype: int64"
            ]
          },
          "metadata": {
            "tags": []
          },
          "execution_count": 108
        }
      ]
    },
    {
      "cell_type": "code",
      "metadata": {
        "id": "xrJjQfGlCgeO",
        "colab_type": "code",
        "outputId": "ed447040-dcb4-43a3-9037-194efba33eb6",
        "colab": {
          "base_uri": "https://localhost:8080/",
          "height": 34
        }
      },
      "source": [
        "#get column information\n",
        "df.columns"
      ],
      "execution_count": 109,
      "outputs": [
        {
          "output_type": "execute_result",
          "data": {
            "text/plain": [
              "Index(['col1', 'col2', 'col3'], dtype='object')"
            ]
          },
          "metadata": {
            "tags": []
          },
          "execution_count": 109
        }
      ]
    },
    {
      "cell_type": "code",
      "metadata": {
        "id": "7aJpu2dCCjRX",
        "colab_type": "code",
        "outputId": "c3093344-2be4-4894-e640-8c66bc9cf611",
        "colab": {
          "base_uri": "https://localhost:8080/",
          "height": 34
        }
      },
      "source": [
        "#get row information\n",
        "df.index"
      ],
      "execution_count": 110,
      "outputs": [
        {
          "output_type": "execute_result",
          "data": {
            "text/plain": [
              "RangeIndex(start=0, stop=4, step=1)"
            ]
          },
          "metadata": {
            "tags": []
          },
          "execution_count": 110
        }
      ]
    },
    {
      "cell_type": "code",
      "metadata": {
        "id": "4NUSKksSCpkc",
        "colab_type": "code",
        "outputId": "ce90e390-a1ab-4bbe-83cd-da79554c5c19",
        "colab": {
          "base_uri": "https://localhost:8080/",
          "height": 167
        }
      },
      "source": [
        "#sort\n",
        "df.sort_values('col2')\n",
        "#note: index stays attached to row"
      ],
      "execution_count": 111,
      "outputs": [
        {
          "output_type": "execute_result",
          "data": {
            "text/html": [
              "<div>\n",
              "<style scoped>\n",
              "    .dataframe tbody tr th:only-of-type {\n",
              "        vertical-align: middle;\n",
              "    }\n",
              "\n",
              "    .dataframe tbody tr th {\n",
              "        vertical-align: top;\n",
              "    }\n",
              "\n",
              "    .dataframe thead th {\n",
              "        text-align: right;\n",
              "    }\n",
              "</style>\n",
              "<table border=\"1\" class=\"dataframe\">\n",
              "  <thead>\n",
              "    <tr style=\"text-align: right;\">\n",
              "      <th></th>\n",
              "      <th>col1</th>\n",
              "      <th>col2</th>\n",
              "      <th>col3</th>\n",
              "    </tr>\n",
              "  </thead>\n",
              "  <tbody>\n",
              "    <tr>\n",
              "      <th>0</th>\n",
              "      <td>1</td>\n",
              "      <td>444</td>\n",
              "      <td>abc</td>\n",
              "    </tr>\n",
              "    <tr>\n",
              "      <th>3</th>\n",
              "      <td>4</td>\n",
              "      <td>444</td>\n",
              "      <td>xyz</td>\n",
              "    </tr>\n",
              "    <tr>\n",
              "      <th>1</th>\n",
              "      <td>2</td>\n",
              "      <td>555</td>\n",
              "      <td>def</td>\n",
              "    </tr>\n",
              "    <tr>\n",
              "      <th>2</th>\n",
              "      <td>3</td>\n",
              "      <td>666</td>\n",
              "      <td>ghi</td>\n",
              "    </tr>\n",
              "  </tbody>\n",
              "</table>\n",
              "</div>"
            ],
            "text/plain": [
              "   col1  col2 col3\n",
              "0     1   444  abc\n",
              "3     4   444  xyz\n",
              "1     2   555  def\n",
              "2     3   666  ghi"
            ]
          },
          "metadata": {
            "tags": []
          },
          "execution_count": 111
        }
      ]
    },
    {
      "cell_type": "code",
      "metadata": {
        "id": "ks1UfRgLDAY-",
        "colab_type": "code",
        "outputId": "05d0f44e-918a-41f9-b7cd-811f84f9c7c7",
        "colab": {
          "base_uri": "https://localhost:8080/",
          "height": 167
        }
      },
      "source": [
        "#check if there is any null in data\n",
        "df.isnull()"
      ],
      "execution_count": 112,
      "outputs": [
        {
          "output_type": "execute_result",
          "data": {
            "text/html": [
              "<div>\n",
              "<style scoped>\n",
              "    .dataframe tbody tr th:only-of-type {\n",
              "        vertical-align: middle;\n",
              "    }\n",
              "\n",
              "    .dataframe tbody tr th {\n",
              "        vertical-align: top;\n",
              "    }\n",
              "\n",
              "    .dataframe thead th {\n",
              "        text-align: right;\n",
              "    }\n",
              "</style>\n",
              "<table border=\"1\" class=\"dataframe\">\n",
              "  <thead>\n",
              "    <tr style=\"text-align: right;\">\n",
              "      <th></th>\n",
              "      <th>col1</th>\n",
              "      <th>col2</th>\n",
              "      <th>col3</th>\n",
              "    </tr>\n",
              "  </thead>\n",
              "  <tbody>\n",
              "    <tr>\n",
              "      <th>0</th>\n",
              "      <td>False</td>\n",
              "      <td>False</td>\n",
              "      <td>False</td>\n",
              "    </tr>\n",
              "    <tr>\n",
              "      <th>1</th>\n",
              "      <td>False</td>\n",
              "      <td>False</td>\n",
              "      <td>False</td>\n",
              "    </tr>\n",
              "    <tr>\n",
              "      <th>2</th>\n",
              "      <td>False</td>\n",
              "      <td>False</td>\n",
              "      <td>False</td>\n",
              "    </tr>\n",
              "    <tr>\n",
              "      <th>3</th>\n",
              "      <td>False</td>\n",
              "      <td>False</td>\n",
              "      <td>False</td>\n",
              "    </tr>\n",
              "  </tbody>\n",
              "</table>\n",
              "</div>"
            ],
            "text/plain": [
              "    col1   col2   col3\n",
              "0  False  False  False\n",
              "1  False  False  False\n",
              "2  False  False  False\n",
              "3  False  False  False"
            ]
          },
          "metadata": {
            "tags": []
          },
          "execution_count": 112
        }
      ]
    },
    {
      "cell_type": "markdown",
      "metadata": {
        "id": "b8LWPoRfEVx3",
        "colab_type": "text"
      },
      "source": [
        "\n",
        "\n",
        "---\n",
        "\n",
        "\n",
        "# **3.0 Data Input and Output**\n",
        "\n",
        "\n"
      ]
    },
    {
      "cell_type": "markdown",
      "metadata": {
        "id": "jFIyn6FkDVJK",
        "colab_type": "text"
      },
      "source": [
        "## **3.1 Read from CSV**\n",
        "We can get data into colab in several fashions:\n",
        "\n",
        "1.   from github\n",
        "2.   from wget\n",
        "3.   from local drive\n",
        "4.   from google drive\n",
        "\n",
        "\n",
        "We will demonstrate all of these methods here.\n"
      ]
    },
    {
      "cell_type": "code",
      "metadata": {
        "id": "mULm0XWXEcB9",
        "colab_type": "code",
        "colab": {
          "base_uri": "https://localhost:8080/",
          "height": 197
        },
        "outputId": "45ec6eef-fcff-4b70-e095-fe48ac5ab988"
      },
      "source": [
        "#Method 1 read csv file from github \n",
        "#go to the github that hosts the file, and click 'view raw' and copy the URL.\n",
        "url ='https://raw.githubusercontent.com/mpipatta/mpipatta.github.io/master/testdata/7.csv'\n",
        "df = pd.read_csv(url, header=None, names=['Date','Humidity'])\n",
        "df.head()"
      ],
      "execution_count": 113,
      "outputs": [
        {
          "output_type": "execute_result",
          "data": {
            "text/html": [
              "<div>\n",
              "<style scoped>\n",
              "    .dataframe tbody tr th:only-of-type {\n",
              "        vertical-align: middle;\n",
              "    }\n",
              "\n",
              "    .dataframe tbody tr th {\n",
              "        vertical-align: top;\n",
              "    }\n",
              "\n",
              "    .dataframe thead th {\n",
              "        text-align: right;\n",
              "    }\n",
              "</style>\n",
              "<table border=\"1\" class=\"dataframe\">\n",
              "  <thead>\n",
              "    <tr style=\"text-align: right;\">\n",
              "      <th></th>\n",
              "      <th>Date</th>\n",
              "      <th>Humidity</th>\n",
              "    </tr>\n",
              "  </thead>\n",
              "  <tbody>\n",
              "    <tr>\n",
              "      <th>0</th>\n",
              "      <td>2018-07-01 00:00:45+07</td>\n",
              "      <td>64.89</td>\n",
              "    </tr>\n",
              "    <tr>\n",
              "      <th>1</th>\n",
              "      <td>2018-07-01 00:01:45+07</td>\n",
              "      <td>64.89</td>\n",
              "    </tr>\n",
              "    <tr>\n",
              "      <th>2</th>\n",
              "      <td>2018-07-01 00:02:45+07</td>\n",
              "      <td>64.89</td>\n",
              "    </tr>\n",
              "    <tr>\n",
              "      <th>3</th>\n",
              "      <td>2018-07-01 00:03:45+07</td>\n",
              "      <td>64.89</td>\n",
              "    </tr>\n",
              "    <tr>\n",
              "      <th>4</th>\n",
              "      <td>2018-07-01 00:04:45+07</td>\n",
              "      <td>64.90</td>\n",
              "    </tr>\n",
              "  </tbody>\n",
              "</table>\n",
              "</div>"
            ],
            "text/plain": [
              "                     Date  Humidity\n",
              "0  2018-07-01 00:00:45+07     64.89\n",
              "1  2018-07-01 00:01:45+07     64.89\n",
              "2  2018-07-01 00:02:45+07     64.89\n",
              "3  2018-07-01 00:03:45+07     64.89\n",
              "4  2018-07-01 00:04:45+07     64.90"
            ]
          },
          "metadata": {
            "tags": []
          },
          "execution_count": 113
        }
      ]
    },
    {
      "cell_type": "code",
      "metadata": {
        "id": "QKwTuBjCE0LE",
        "colab_type": "code",
        "colab": {
          "base_uri": "https://localhost:8080/",
          "height": 197
        },
        "outputId": "b6407e0b-71ea-4c8f-e84c-39a5abdb0bfe"
      },
      "source": [
        "#Method 2 use wget\n",
        "# Explanation of /dev/null 2>&1 can be found here: https://stackoverflow.com/questions/10508843/what-is-dev-null-21\n",
        "!wget -O 7.csv https://raw.githubusercontent.com/mpipatta/mpipatta.github.io/master/testdata/7.csv> /dev/null 2>&1\n",
        "df = pd.read_csv('7.csv', header=None, names=['Date','Humidity'])\n",
        "df.head()"
      ],
      "execution_count": 114,
      "outputs": [
        {
          "output_type": "execute_result",
          "data": {
            "text/html": [
              "<div>\n",
              "<style scoped>\n",
              "    .dataframe tbody tr th:only-of-type {\n",
              "        vertical-align: middle;\n",
              "    }\n",
              "\n",
              "    .dataframe tbody tr th {\n",
              "        vertical-align: top;\n",
              "    }\n",
              "\n",
              "    .dataframe thead th {\n",
              "        text-align: right;\n",
              "    }\n",
              "</style>\n",
              "<table border=\"1\" class=\"dataframe\">\n",
              "  <thead>\n",
              "    <tr style=\"text-align: right;\">\n",
              "      <th></th>\n",
              "      <th>Date</th>\n",
              "      <th>Humidity</th>\n",
              "    </tr>\n",
              "  </thead>\n",
              "  <tbody>\n",
              "    <tr>\n",
              "      <th>0</th>\n",
              "      <td>2018-07-01 00:00:45+07</td>\n",
              "      <td>64.89</td>\n",
              "    </tr>\n",
              "    <tr>\n",
              "      <th>1</th>\n",
              "      <td>2018-07-01 00:01:45+07</td>\n",
              "      <td>64.89</td>\n",
              "    </tr>\n",
              "    <tr>\n",
              "      <th>2</th>\n",
              "      <td>2018-07-01 00:02:45+07</td>\n",
              "      <td>64.89</td>\n",
              "    </tr>\n",
              "    <tr>\n",
              "      <th>3</th>\n",
              "      <td>2018-07-01 00:03:45+07</td>\n",
              "      <td>64.89</td>\n",
              "    </tr>\n",
              "    <tr>\n",
              "      <th>4</th>\n",
              "      <td>2018-07-01 00:04:45+07</td>\n",
              "      <td>64.90</td>\n",
              "    </tr>\n",
              "  </tbody>\n",
              "</table>\n",
              "</div>"
            ],
            "text/plain": [
              "                     Date  Humidity\n",
              "0  2018-07-01 00:00:45+07     64.89\n",
              "1  2018-07-01 00:01:45+07     64.89\n",
              "2  2018-07-01 00:02:45+07     64.89\n",
              "3  2018-07-01 00:03:45+07     64.89\n",
              "4  2018-07-01 00:04:45+07     64.90"
            ]
          },
          "metadata": {
            "tags": []
          },
          "execution_count": 114
        }
      ]
    },
    {
      "cell_type": "code",
      "metadata": {
        "id": "orWcE-LbClnq",
        "colab_type": "code",
        "colab": {
          "resources": {
            "http://localhost:8080/nbextensions/google.colab/files.js": {
              "data": "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",
              "ok": true,
              "headers": [
                [
                  "content-type",
                  "application/javascript"
                ]
              ],
              "status": 200,
              "status_text": ""
            }
          },
          "base_uri": "https://localhost:8080/",
          "height": 90
        },
        "outputId": "5490732c-bd94-451d-f1ef-cef40a3b5587"
      },
      "source": [
        "#Method 3 from local drive\n",
        "from google.colab import files\n",
        "\n",
        "uploaded = files.upload()\n",
        "\n",
        "for fn in uploaded.keys():\n",
        "  print('User uploaded file \"{name}\" with length {length} bytes'.format(\n",
        "      name=fn, length=len(uploaded[fn])))"
      ],
      "execution_count": 115,
      "outputs": [
        {
          "output_type": "display_data",
          "data": {
            "text/html": [
              "\n",
              "     <input type=\"file\" id=\"files-fa4bb038-1625-44c2-ab85-08dd82a449be\" name=\"files[]\" multiple disabled />\n",
              "     <output id=\"result-fa4bb038-1625-44c2-ab85-08dd82a449be\">\n",
              "      Upload widget is only available when the cell has been executed in the\n",
              "      current browser session. Please rerun this cell to enable.\n",
              "      </output>\n",
              "      <script src=\"/nbextensions/google.colab/files.js\"></script> "
            ],
            "text/plain": [
              "<IPython.core.display.HTML object>"
            ]
          },
          "metadata": {
            "tags": []
          }
        },
        {
          "output_type": "stream",
          "text": [
            "Saving 7.csv to 7 (1).csv\n",
            "User uploaded file \"7.csv\" with length 8777750 bytes\n"
          ],
          "name": "stdout"
        }
      ]
    },
    {
      "cell_type": "code",
      "metadata": {
        "id": "b5AmkMnXC2Ck",
        "colab_type": "code",
        "colab": {
          "base_uri": "https://localhost:8080/",
          "height": 197
        },
        "outputId": "ddbd64f8-b795-4eb4-ba5f-76ce5879c330"
      },
      "source": [
        "df = pd.read_csv(\"7 (1).csv\", header=None, names=['Date','Humidity'])\n",
        "df.head()"
      ],
      "execution_count": 116,
      "outputs": [
        {
          "output_type": "execute_result",
          "data": {
            "text/html": [
              "<div>\n",
              "<style scoped>\n",
              "    .dataframe tbody tr th:only-of-type {\n",
              "        vertical-align: middle;\n",
              "    }\n",
              "\n",
              "    .dataframe tbody tr th {\n",
              "        vertical-align: top;\n",
              "    }\n",
              "\n",
              "    .dataframe thead th {\n",
              "        text-align: right;\n",
              "    }\n",
              "</style>\n",
              "<table border=\"1\" class=\"dataframe\">\n",
              "  <thead>\n",
              "    <tr style=\"text-align: right;\">\n",
              "      <th></th>\n",
              "      <th>Date</th>\n",
              "      <th>Humidity</th>\n",
              "    </tr>\n",
              "  </thead>\n",
              "  <tbody>\n",
              "    <tr>\n",
              "      <th>0</th>\n",
              "      <td>2018-07-01 00:00:45+07</td>\n",
              "      <td>64.89</td>\n",
              "    </tr>\n",
              "    <tr>\n",
              "      <th>1</th>\n",
              "      <td>2018-07-01 00:01:45+07</td>\n",
              "      <td>64.89</td>\n",
              "    </tr>\n",
              "    <tr>\n",
              "      <th>2</th>\n",
              "      <td>2018-07-01 00:02:45+07</td>\n",
              "      <td>64.89</td>\n",
              "    </tr>\n",
              "    <tr>\n",
              "      <th>3</th>\n",
              "      <td>2018-07-01 00:03:45+07</td>\n",
              "      <td>64.89</td>\n",
              "    </tr>\n",
              "    <tr>\n",
              "      <th>4</th>\n",
              "      <td>2018-07-01 00:04:45+07</td>\n",
              "      <td>64.90</td>\n",
              "    </tr>\n",
              "  </tbody>\n",
              "</table>\n",
              "</div>"
            ],
            "text/plain": [
              "                     Date  Humidity\n",
              "0  2018-07-01 00:00:45+07     64.89\n",
              "1  2018-07-01 00:01:45+07     64.89\n",
              "2  2018-07-01 00:02:45+07     64.89\n",
              "3  2018-07-01 00:03:45+07     64.89\n",
              "4  2018-07-01 00:04:45+07     64.90"
            ]
          },
          "metadata": {
            "tags": []
          },
          "execution_count": 116
        }
      ]
    },
    {
      "cell_type": "code",
      "metadata": {
        "id": "JMGkDrrVB3Uz",
        "colab_type": "code",
        "colab": {
          "base_uri": "https://localhost:8080/",
          "height": 125
        },
        "outputId": "5dc9c13b-b4d6-4044-e45b-76b3fac73f8e"
      },
      "source": [
        "#Method 4 from google drive (for large/many files)\n",
        "from google.colab import drive\n",
        "drive.mount('/content/drive')"
      ],
      "execution_count": 117,
      "outputs": [
        {
          "output_type": "stream",
          "text": [
            "Go to this URL in a browser: https://accounts.google.com/o/oauth2/auth?client_id=947318989803-6bn6qk8qdgf4n4g3pfee6491hc0brc4i.apps.googleusercontent.com&redirect_uri=urn%3aietf%3awg%3aoauth%3a2.0%3aoob&response_type=code&scope=email%20https%3a%2f%2fwww.googleapis.com%2fauth%2fdocs.test%20https%3a%2f%2fwww.googleapis.com%2fauth%2fdrive%20https%3a%2f%2fwww.googleapis.com%2fauth%2fdrive.photos.readonly%20https%3a%2f%2fwww.googleapis.com%2fauth%2fpeopleapi.readonly\n",
            "\n",
            "Enter your authorization code:\n",
            "··········\n",
            "Mounted at /content/drive\n"
          ],
          "name": "stdout"
        }
      ]
    },
    {
      "cell_type": "code",
      "metadata": {
        "id": "RjBfDsfECLAT",
        "colab_type": "code",
        "colab": {}
      },
      "source": [
        "#once authorized, you can now navigate through your google drive files using the left navigation panel.\n",
        "path = \"copy path here\"\n",
        "df = pd.read_csv(path)\n",
        "df.head()"
      ],
      "execution_count": 0,
      "outputs": []
    },
    {
      "cell_type": "markdown",
      "metadata": {
        "id": "9CYzDHIyDdeK",
        "colab_type": "text"
      },
      "source": [
        "## **3.2 Write to CSV**\n",
        "\n",
        "We can also write to CSV using df.to_csv('MyData.csv',index=False). The file can then be downloaded to our local drive."
      ]
    },
    {
      "cell_type": "code",
      "metadata": {
        "id": "CLVpH1haHWDw",
        "colab_type": "code",
        "colab": {}
      },
      "source": [
        "#write to csv file and download the file (or use left navigation bar)\n",
        "df.to_csv('MyData.csv',index=False)"
      ],
      "execution_count": 0,
      "outputs": []
    },
    {
      "cell_type": "code",
      "metadata": {
        "id": "DxVzDTQRDmPl",
        "colab_type": "code",
        "colab": {}
      },
      "source": [
        "from google.colab import files\n",
        "files.download('MyData.csv')"
      ],
      "execution_count": 0,
      "outputs": []
    },
    {
      "cell_type": "markdown",
      "metadata": {
        "id": "OdmuqCTmLYRQ",
        "colab_type": "text"
      },
      "source": [
        "\n",
        "\n",
        "---\n",
        "\n",
        "\n",
        "# **4.0 Matplotlib**\n",
        "Most popular plotting library for Python -- designed to have a similar feel to Matlab's graphical plotting\n",
        "\n",
        "matplotlib.org"
      ]
    },
    {
      "cell_type": "code",
      "metadata": {
        "id": "PPfCP6QshtjX",
        "colab_type": "code",
        "colab": {
          "base_uri": "https://localhost:8080/",
          "height": 34
        },
        "outputId": "ff40a829-24c2-4af5-807f-bf98c0df559b"
      },
      "source": [
        "import matplotlib.pyplot as plt\n",
        "import numpy as np\n",
        "\n",
        "x = np.linspace(0,10,11) #from 0 to 10, with the total of 11 values\n",
        "x"
      ],
      "execution_count": 120,
      "outputs": [
        {
          "output_type": "execute_result",
          "data": {
            "text/plain": [
              "array([ 0.,  1.,  2.,  3.,  4.,  5.,  6.,  7.,  8.,  9., 10.])"
            ]
          },
          "metadata": {
            "tags": []
          },
          "execution_count": 120
        }
      ]
    },
    {
      "cell_type": "code",
      "metadata": {
        "id": "Q12KUbF6SEHY",
        "colab_type": "code",
        "outputId": "f6286781-da19-41d3-fdf4-71d72eaad29d",
        "colab": {
          "base_uri": "https://localhost:8080/",
          "height": 380
        }
      },
      "source": [
        "fig = plt.figure(figsize=(8,5), dpi=75)\n",
        "plt.plot(x,x**2,'r',label='power2')\n",
        "plt.plot(x,x**3,'b',label='power3')\n",
        "plt.legend(loc=0)\n",
        "plt.xlabel('X Label')\n",
        "plt.ylabel('Y Label')\n",
        "plt.title('y = f(x)')"
      ],
      "execution_count": 121,
      "outputs": [
        {
          "output_type": "execute_result",
          "data": {
            "text/plain": [
              "Text(0.5, 1.0, 'y = f(x)')"
            ]
          },
          "metadata": {
            "tags": []
          },
          "execution_count": 121
        },
        {
          "output_type": "display_data",
          "data": {
            "image/png": "[encoded data removed]",
            "text/plain": [
              "<Figure size 600x375 with 1 Axes>"
            ]
          },
          "metadata": {
            "tags": []
          }
        }
      ]
    },
    {
      "cell_type": "markdown",
      "metadata": {
        "id": "A0gEvmRcKsJd",
        "colab_type": "text"
      },
      "source": [
        "**Note:**\n",
        "\n",
        "color='blue',linewidth=2, alpha=1, linestyle='--',marker='o',markersize=10, markerfacecolor='red'\n",
        "\n",
        "Location String\tLocation Code\n",
        "'best'\t0\n",
        "'upper right'\t1\n",
        "'upper left'\t2\n",
        "'lower left'\t3\n",
        "'lower right'\t4\n",
        "'right'\t5\n",
        "'center left'\t6\n",
        "'center right'\t7\n",
        "'lower center'\t8\n",
        "'upper center'\t9\n",
        "'center'\t10"
      ]
    },
    {
      "cell_type": "code",
      "metadata": {
        "colab_type": "code",
        "id": "yuV0addTJ8wW",
        "colab": {}
      },
      "source": [
        "fig.savefig('my_pic.png')"
      ],
      "execution_count": 0,
      "outputs": []
    },
    {
      "cell_type": "markdown",
      "metadata": {
        "id": "kv36l0SWShUw",
        "colab_type": "text"
      },
      "source": [
        "In the other tutorial, we will work with measured sensor data to create missing value plot using Seaborn, histogram plot and time series plots."
      ]
    }
  ]
}