{
  "nbformat": 4,
  "nbformat_minor": 0,
  "metadata": {
    "colab": {
      "name": "ScapingWeatherData.ipynb",
      "provenance": []
    },
    "kernelspec": {
      "name": "python3",
      "display_name": "Python 3"
    }
  },
  "cells": [
    {
      "cell_type": "markdown",
      "metadata": {
        "id": "nSG-pbm8BH-G",
        "colab_type": "text"
      },
      "source": [
        "###**Scaping Bangkok Weather Data**\n",
        "\n",
        "In this example, we will scrape 10-day weather data from weather.com URL: https://weather.com/en-IN/weather/tenday/l/61d235a12c8f0b158c472bb5cf4a6a2d17b42270c214e7285c48666e57f21864.\n",
        "\n",
        "We will use \"requests\" and \"BeautifulSoup\" libraries for web scraping."
      ]
    },
    {
      "cell_type": "markdown",
      "metadata": {
        "id": "G4Ok3cu6BRGW",
        "colab_type": "text"
      },
      "source": [
        "### **Step 1: Obtain data from a URL using \"requests\" libarary**\n",
        "We will get data from this URL using the \"requests\" library. In the code below, we store data from the URL into the response object, 'page'. 'page' now contains the data from the URL."
      ]
    },
    {
      "cell_type": "code",
      "metadata": {
        "id": "Y279RWqoBSkt",
        "colab_type": "code",
        "colab": {
          "base_uri": "https://localhost:8080/",
          "height": 35
        },
        "outputId": "da28603d-6e71-46ea-9387-9a362a4c65ec"
      },
      "source": [
        "import requests\n",
        "page = requests.get(\"https://weather.com/en-IN/weather/tenday/l/61d235a12c8f0b158c472bb5cf4a6a2d17b42270c214e7285c48666e57f21864\")\n",
        "print(page) "
      ],
      "execution_count": 81,
      "outputs": [
        {
          "output_type": "stream",
          "text": [
            "<Response [200]>\n"
          ],
          "name": "stdout"
        }
      ]
    },
    {
      "cell_type": "markdown",
      "metadata": {
        "id": "KnpOby8rBYWR",
        "colab_type": "text"
      },
      "source": [
        "### **Step 2: Pull data from HTML/XML file using BeautifulSoup**\n",
        "Next, we will pull data from HTML/XML files using BeautifulSoup. 'soup' now contains the parsed content of the web page."
      ]
    },
    {
      "cell_type": "code",
      "metadata": {
        "id": "TFndtoKoBalM",
        "colab_type": "code",
        "colab": {}
      },
      "source": [
        "from bs4 import BeautifulSoup\n",
        "soup=BeautifulSoup(page.content,\"html.parser\")"
      ],
      "execution_count": 0,
      "outputs": []
    },
    {
      "cell_type": "markdown",
      "metadata": {
        "id": "5gQDh3Y9Bdsa",
        "colab_type": "text"
      },
      "source": [
        "### **Step 3: Scrape a few things from the website** \n",
        "\n",
        "The 'find_all' method is used to pick up all the html elements of tag passed in as argument and it’s descendants."
      ]
    },
    {
      "cell_type": "code",
      "metadata": {
        "id": "oHR17slZBkOU",
        "colab_type": "code",
        "colab": {}
      },
      "source": [
        "table=soup.find_all(\"table\",{\"class\":\"twc-table\"})"
      ],
      "execution_count": 0,
      "outputs": []
    },
    {
      "cell_type": "code",
      "metadata": {
        "id": "RYRQr963Bmst",
        "colab_type": "code",
        "colab": {
          "base_uri": "https://localhost:8080/",
          "height": 35
        },
        "outputId": "ec8a890a-eeb7-43fc-a540-7a0f6977fc2e"
      },
      "source": [
        "#Let us see how many rows of weather data we have.\n",
        "#we have one header row; today's weather and 14 days of weather forecasts\n",
        "#This is the total of 16 rows.\n",
        "len(table[0].find_all(\"tr\"))"
      ],
      "execution_count": 84,
      "outputs": [
        {
          "output_type": "execute_result",
          "data": {
            "text/plain": [
              "16"
            ]
          },
          "metadata": {
            "tags": []
          },
          "execution_count": 84
        }
      ]
    },
    {
      "cell_type": "code",
      "metadata": {
        "id": "u5WCFE8cBoce",
        "colab_type": "code",
        "colab": {
          "base_uri": "https://localhost:8080/",
          "height": 290
        },
        "outputId": "2c74394d-3f0a-4de0-8ac9-bb61e21bed4f"
      },
      "source": [
        "#Let us understand \"find_all\"\n",
        "table[0].find_all(\"span\",{\"class\":\"date-time\"})"
      ],
      "execution_count": 85,
      "outputs": [
        {
          "output_type": "execute_result",
          "data": {
            "text/plain": [
              "[<span class=\"date-time\">Tonight</span>,\n",
              " <span class=\"date-time\">Fri</span>,\n",
              " <span class=\"date-time\">Sat</span>,\n",
              " <span class=\"date-time\">Sun</span>,\n",
              " <span class=\"date-time\">Mon</span>,\n",
              " <span class=\"date-time\">Tue</span>,\n",
              " <span class=\"date-time\">Wed</span>,\n",
              " <span class=\"date-time\">Thu</span>,\n",
              " <span class=\"date-time\">Fri</span>,\n",
              " <span class=\"date-time\">Sat</span>,\n",
              " <span class=\"date-time\">Sun</span>,\n",
              " <span class=\"date-time\">Mon</span>,\n",
              " <span class=\"date-time\">Tue</span>,\n",
              " <span class=\"date-time\">Wed</span>,\n",
              " <span class=\"date-time\">Thu</span>]"
            ]
          },
          "metadata": {
            "tags": []
          },
          "execution_count": 85
        }
      ]
    },
    {
      "cell_type": "code",
      "metadata": {
        "id": "JnjS9rjRBrNu",
        "colab_type": "code",
        "colab": {
          "base_uri": "https://localhost:8080/",
          "height": 290
        },
        "outputId": "a1a1cf3c-60e5-48a3-b31b-a15b5f85322c"
      },
      "source": [
        "table[0].find_all(\"span\",{\"class\":\"day-detail\"})"
      ],
      "execution_count": 86,
      "outputs": [
        {
          "output_type": "execute_result",
          "data": {
            "text/plain": [
              "[<span class=\"day-detail clearfix\">12 MAR</span>,\n",
              " <span class=\"day-detail clearfix\">13 MAR</span>,\n",
              " <span class=\"day-detail clearfix\">14 MAR</span>,\n",
              " <span class=\"day-detail clearfix\">15 MAR</span>,\n",
              " <span class=\"day-detail clearfix\">16 MAR</span>,\n",
              " <span class=\"day-detail clearfix\">17 MAR</span>,\n",
              " <span class=\"day-detail clearfix\">18 MAR</span>,\n",
              " <span class=\"day-detail clearfix\">19 MAR</span>,\n",
              " <span class=\"day-detail clearfix\">20 MAR</span>,\n",
              " <span class=\"day-detail clearfix\">21 MAR</span>,\n",
              " <span class=\"day-detail clearfix\">22 MAR</span>,\n",
              " <span class=\"day-detail clearfix\">23 MAR</span>,\n",
              " <span class=\"day-detail clearfix\">24 MAR</span>,\n",
              " <span class=\"day-detail clearfix\">25 MAR</span>,\n",
              " <span class=\"day-detail clearfix\">26 MAR</span>]"
            ]
          },
          "metadata": {
            "tags": []
          },
          "execution_count": 86
        }
      ]
    },
    {
      "cell_type": "code",
      "metadata": {
        "id": "qrnrWy2oB2FP",
        "colab_type": "code",
        "colab": {
          "base_uri": "https://localhost:8080/",
          "height": 145
        },
        "outputId": "c737c8f6-371a-482f-9e84-38b4ba843715"
      },
      "source": [
        "#Let us get the data for each row\n",
        "i=2\n",
        "a = {} \n",
        "a[\"day\"]=table[0].find_all(\"span\",{\"class\":\"date-time\"})[i].text\n",
        "a[\"date\"]=table[0].find_all(\"span\",{\"class\":\"day-detail\"})[i].text\n",
        "a[\"desc\"]=table[0].find_all(\"td\",{\"class\":\"description\"})[i].text \n",
        "a[\"temp\"]=table[0].find_all(\"td\",{\"class\":\"temp\"})[i].text \n",
        "a[\"precip\"]=table[0].find_all(\"td\",{\"class\":\"precip\"})[i].text\n",
        "a[\"wind\"]=table[0].find_all(\"td\",{\"class\":\"wind\"})[i].text  \n",
        "a[\"humidity\"]=table[0].find_all(\"td\",{\"class\":\"humidity\"})[i].text \n",
        "a"
      ],
      "execution_count": 94,
      "outputs": [
        {
          "output_type": "execute_result",
          "data": {
            "text/plain": [
              "{'date': '14 MAR',\n",
              " 'day': 'Sat',\n",
              " 'desc': 'Partly Cloudy',\n",
              " 'humidity': '63%',\n",
              " 'precip': '10%',\n",
              " 'temp': '36°28°',\n",
              " 'wind': 'S 20 km/h '}"
            ]
          },
          "metadata": {
            "tags": []
          },
          "execution_count": 94
        }
      ]
    },
    {
      "cell_type": "code",
      "metadata": {
        "id": "d0l3kwzNCGo9",
        "colab_type": "code",
        "colab": {}
      },
      "source": [
        "l=[]"
      ],
      "execution_count": 0,
      "outputs": []
    },
    {
      "cell_type": "code",
      "metadata": {
        "id": "AaSjbilQCV1S",
        "colab_type": "code",
        "colab": {
          "base_uri": "https://localhost:8080/",
          "height": 272
        },
        "outputId": "f7114388-acd0-4287-9a9c-47c8961cf8bd"
      },
      "source": [
        "#gather data from all rows\n",
        "l.append(a)\n",
        "l"
      ],
      "execution_count": 95,
      "outputs": [
        {
          "output_type": "execute_result",
          "data": {
            "text/plain": [
              "[{'date': '13 MAR',\n",
              "  'day': 'Fri',\n",
              "  'desc': 'Mostly Sunny',\n",
              "  'humidity': '59%',\n",
              "  'precip': '10%',\n",
              "  'temp': '36°28°',\n",
              "  'wind': 'S 19 km/h '},\n",
              " {'date': '14 MAR',\n",
              "  'day': 'Sat',\n",
              "  'desc': 'Partly Cloudy',\n",
              "  'humidity': '63%',\n",
              "  'precip': '10%',\n",
              "  'temp': '36°28°',\n",
              "  'wind': 'S 20 km/h '}]"
            ]
          },
          "metadata": {
            "tags": []
          },
          "execution_count": 95
        }
      ]
    },
    {
      "cell_type": "code",
      "metadata": {
        "id": "dRwemDG_CgtJ",
        "colab_type": "code",
        "colab": {}
      },
      "source": [
        "import numpy as np\n",
        "data=[]\n",
        "for i in np.arange(len(table[0].find_all(\"tr\"))-1):\n",
        "  a = {} \n",
        "  a[\"day\"]=table[0].find_all(\"span\",{\"class\":\"date-time\"})[i].text\n",
        "  a[\"date\"]=table[0].find_all(\"span\",{\"class\":\"day-detail\"})[i].text\n",
        "  a[\"desc\"]=table[0].find_all(\"td\",{\"class\":\"description\"})[i].text \n",
        "  a[\"temp\"]=table[0].find_all(\"td\",{\"class\":\"temp\"})[i].text \n",
        "  a[\"precip\"]=table[0].find_all(\"td\",{\"class\":\"precip\"})[i].text\n",
        "  a[\"wind\"]=table[0].find_all(\"td\",{\"class\":\"wind\"})[i].text  \n",
        "  a[\"humidity\"]=table[0].find_all(\"td\",{\"class\":\"humidity\"})[i].text \n",
        "  data.append(a)"
      ],
      "execution_count": 0,
      "outputs": []
    },
    {
      "cell_type": "code",
      "metadata": {
        "id": "P4PVeqtFDGrU",
        "colab_type": "code",
        "colab": {
          "base_uri": "https://localhost:8080/",
          "height": 498
        },
        "outputId": "66c1fa58-75d3-46a7-89d6-d65f72b2d46f"
      },
      "source": [
        "import pandas as pd\n",
        "df = pd.DataFrame(data)\n",
        "df"
      ],
      "execution_count": 97,
      "outputs": [
        {
          "output_type": "execute_result",
          "data": {
            "text/html": [
              "<div>\n",
              "<style scoped>\n",
              "    .dataframe tbody tr th:only-of-type {\n",
              "        vertical-align: middle;\n",
              "    }\n",
              "\n",
              "    .dataframe tbody tr th {\n",
              "        vertical-align: top;\n",
              "    }\n",
              "\n",
              "    .dataframe thead th {\n",
              "        text-align: right;\n",
              "    }\n",
              "</style>\n",
              "<table border=\"1\" class=\"dataframe\">\n",
              "  <thead>\n",
              "    <tr style=\"text-align: right;\">\n",
              "      <th></th>\n",
              "      <th>day</th>\n",
              "      <th>date</th>\n",
              "      <th>desc</th>\n",
              "      <th>temp</th>\n",
              "      <th>precip</th>\n",
              "      <th>wind</th>\n",
              "      <th>humidity</th>\n",
              "    </tr>\n",
              "  </thead>\n",
              "  <tbody>\n",
              "    <tr>\n",
              "      <th>0</th>\n",
              "      <td>Tonight</td>\n",
              "      <td>12 MAR</td>\n",
              "      <td>Mostly Clear</td>\n",
              "      <td>--28°</td>\n",
              "      <td>10%</td>\n",
              "      <td>S 16 km/h</td>\n",
              "      <td>82%</td>\n",
              "    </tr>\n",
              "    <tr>\n",
              "      <th>1</th>\n",
              "      <td>Fri</td>\n",
              "      <td>13 MAR</td>\n",
              "      <td>Mostly Sunny</td>\n",
              "      <td>36°28°</td>\n",
              "      <td>10%</td>\n",
              "      <td>S 19 km/h</td>\n",
              "      <td>59%</td>\n",
              "    </tr>\n",
              "    <tr>\n",
              "      <th>2</th>\n",
              "      <td>Sat</td>\n",
              "      <td>14 MAR</td>\n",
              "      <td>Partly Cloudy</td>\n",
              "      <td>36°28°</td>\n",
              "      <td>10%</td>\n",
              "      <td>S 20 km/h</td>\n",
              "      <td>63%</td>\n",
              "    </tr>\n",
              "    <tr>\n",
              "      <th>3</th>\n",
              "      <td>Sun</td>\n",
              "      <td>15 MAR</td>\n",
              "      <td>T-Storms</td>\n",
              "      <td>31°27°</td>\n",
              "      <td>90%</td>\n",
              "      <td>SSE 15 km/h</td>\n",
              "      <td>76%</td>\n",
              "    </tr>\n",
              "    <tr>\n",
              "      <th>4</th>\n",
              "      <td>Mon</td>\n",
              "      <td>16 MAR</td>\n",
              "      <td>Partly Cloudy</td>\n",
              "      <td>34°27°</td>\n",
              "      <td>20%</td>\n",
              "      <td>S 17 km/h</td>\n",
              "      <td>69%</td>\n",
              "    </tr>\n",
              "    <tr>\n",
              "      <th>5</th>\n",
              "      <td>Tue</td>\n",
              "      <td>17 MAR</td>\n",
              "      <td>Partly Cloudy</td>\n",
              "      <td>33°28°</td>\n",
              "      <td>10%</td>\n",
              "      <td>S 18 km/h</td>\n",
              "      <td>69%</td>\n",
              "    </tr>\n",
              "    <tr>\n",
              "      <th>6</th>\n",
              "      <td>Wed</td>\n",
              "      <td>18 MAR</td>\n",
              "      <td>Mostly Sunny</td>\n",
              "      <td>34°28°</td>\n",
              "      <td>10%</td>\n",
              "      <td>S 19 km/h</td>\n",
              "      <td>63%</td>\n",
              "    </tr>\n",
              "    <tr>\n",
              "      <th>7</th>\n",
              "      <td>Thu</td>\n",
              "      <td>19 MAR</td>\n",
              "      <td>Partly Cloudy</td>\n",
              "      <td>34°28°</td>\n",
              "      <td>10%</td>\n",
              "      <td>S 21 km/h</td>\n",
              "      <td>63%</td>\n",
              "    </tr>\n",
              "    <tr>\n",
              "      <th>8</th>\n",
              "      <td>Fri</td>\n",
              "      <td>20 MAR</td>\n",
              "      <td>Partly Cloudy</td>\n",
              "      <td>34°28°</td>\n",
              "      <td>10%</td>\n",
              "      <td>S 21 km/h</td>\n",
              "      <td>61%</td>\n",
              "    </tr>\n",
              "    <tr>\n",
              "      <th>9</th>\n",
              "      <td>Sat</td>\n",
              "      <td>21 MAR</td>\n",
              "      <td>Partly Cloudy</td>\n",
              "      <td>35°28°</td>\n",
              "      <td>10%</td>\n",
              "      <td>S 20 km/h</td>\n",
              "      <td>59%</td>\n",
              "    </tr>\n",
              "    <tr>\n",
              "      <th>10</th>\n",
              "      <td>Sun</td>\n",
              "      <td>22 MAR</td>\n",
              "      <td>Mostly Sunny</td>\n",
              "      <td>35°28°</td>\n",
              "      <td>10%</td>\n",
              "      <td>S 21 km/h</td>\n",
              "      <td>59%</td>\n",
              "    </tr>\n",
              "    <tr>\n",
              "      <th>11</th>\n",
              "      <td>Mon</td>\n",
              "      <td>23 MAR</td>\n",
              "      <td>Mostly Sunny</td>\n",
              "      <td>35°28°</td>\n",
              "      <td>0%</td>\n",
              "      <td>S 20 km/h</td>\n",
              "      <td>59%</td>\n",
              "    </tr>\n",
              "    <tr>\n",
              "      <th>12</th>\n",
              "      <td>Tue</td>\n",
              "      <td>24 MAR</td>\n",
              "      <td>Sunny</td>\n",
              "      <td>35°27°</td>\n",
              "      <td>0%</td>\n",
              "      <td>S 20 km/h</td>\n",
              "      <td>59%</td>\n",
              "    </tr>\n",
              "    <tr>\n",
              "      <th>13</th>\n",
              "      <td>Wed</td>\n",
              "      <td>25 MAR</td>\n",
              "      <td>Sunny</td>\n",
              "      <td>35°28°</td>\n",
              "      <td>10%</td>\n",
              "      <td>S 20 km/h</td>\n",
              "      <td>58%</td>\n",
              "    </tr>\n",
              "    <tr>\n",
              "      <th>14</th>\n",
              "      <td>Thu</td>\n",
              "      <td>26 MAR</td>\n",
              "      <td>Sunny</td>\n",
              "      <td>36°28°</td>\n",
              "      <td>0%</td>\n",
              "      <td>S 20 km/h</td>\n",
              "      <td>57%</td>\n",
              "    </tr>\n",
              "  </tbody>\n",
              "</table>\n",
              "</div>"
            ],
            "text/plain": [
              "        day    date           desc    temp precip          wind humidity\n",
              "0   Tonight  12 MAR   Mostly Clear   --28°    10%    S 16 km/h       82%\n",
              "1       Fri  13 MAR   Mostly Sunny  36°28°    10%    S 19 km/h       59%\n",
              "2       Sat  14 MAR  Partly Cloudy  36°28°    10%    S 20 km/h       63%\n",
              "3       Sun  15 MAR       T-Storms  31°27°    90%  SSE 15 km/h       76%\n",
              "4       Mon  16 MAR  Partly Cloudy  34°27°    20%    S 17 km/h       69%\n",
              "5       Tue  17 MAR  Partly Cloudy  33°28°    10%    S 18 km/h       69%\n",
              "6       Wed  18 MAR   Mostly Sunny  34°28°    10%    S 19 km/h       63%\n",
              "7       Thu  19 MAR  Partly Cloudy  34°28°    10%    S 21 km/h       63%\n",
              "8       Fri  20 MAR  Partly Cloudy  34°28°    10%    S 21 km/h       61%\n",
              "9       Sat  21 MAR  Partly Cloudy  35°28°    10%    S 20 km/h       59%\n",
              "10      Sun  22 MAR   Mostly Sunny  35°28°    10%    S 21 km/h       59%\n",
              "11      Mon  23 MAR   Mostly Sunny  35°28°     0%    S 20 km/h       59%\n",
              "12      Tue  24 MAR          Sunny  35°27°     0%    S 20 km/h       59%\n",
              "13      Wed  25 MAR          Sunny  35°28°    10%    S 20 km/h       58%\n",
              "14      Thu  26 MAR          Sunny  36°28°     0%    S 20 km/h       57%"
            ]
          },
          "metadata": {
            "tags": []
          },
          "execution_count": 97
        }
      ]
    },
    {
      "cell_type": "markdown",
      "metadata": {
        "id": "JXDPUzjFDfSF",
        "colab_type": "text"
      },
      "source": [
        "Reference: Using BeautifulSoup, requests to scrape weather data, URL: https://medium.com/@aakankshaws/using-beautifulsoup-requests-to-scrape-weather-data-9c6e9d317800"
      ]
    }
  ]
}